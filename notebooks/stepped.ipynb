{
 "cells": [
  {
   "cell_type": "code",
   "execution_count": 1,
   "metadata": {
    "collapsed": false
   },
   "outputs": [
    {
     "name": "stdout",
     "output_type": "stream",
     "text": [
      "/home/ira/code/projects/nn-play\n"
     ]
    },
    {
     "name": "stderr",
     "output_type": "stream",
     "text": [
      "Using TensorFlow backend.\n"
     ]
    }
   ],
   "source": [
    "%cd ~/code/projects/nn-play/\n",
    "\n",
    "import keras \n",
    "from keras.models import Model, Sequential\n",
    "from keras.layers import Input, Dense\n",
    "from keras.optimizers import Adam, Adadelta, RMSprop, SGD\n",
    "from keras.layers import Input, Dense, Convolution2D, Deconvolution2D, MaxPooling2D,\\\n",
    "    UpSampling2D, Merge, LSTM, Flatten, ZeroPadding2D, Reshape, BatchNormalization, Dropout\n",
    "from keras.layers.wrappers import TimeDistributed\n",
    "\n",
    "from structured_container import DataContainer\n",
    "\n",
    "import tqdm\n",
    "from tqdm import tqdm_notebook\n",
    "\n",
    "import matplotlib.pyplot as plt\n",
    "%matplotlib inline\n",
    "import numpy as np"
   ]
  },
  {
   "cell_type": "code",
   "execution_count": 2,
   "metadata": {
    "collapsed": true
   },
   "outputs": [],
   "source": [
    "import tensorflow as tf\n",
    "sess = tf.Session()\n",
    "\n",
    "from keras import backend as K\n",
    "K.set_session(sess)"
   ]
  },
  {
   "cell_type": "code",
   "execution_count": 3,
   "metadata": {
    "collapsed": true
   },
   "outputs": [],
   "source": [
    "IM_WIDTH = 28\n",
    "IM_HEIGHT = 28\n",
    "IM_CHANNELS = 1\n",
    "\n",
    "SERIES_SHIFT = 1\n",
    "EP_LEN = 100 - SERIES_SHIFT\n",
    "BATCH_SIZE = 32\n",
    "\n",
    "V_SIZE = 128\n",
    "\n",
    "empty_model = True"
   ]
  },
  {
   "cell_type": "code",
   "execution_count": 4,
   "metadata": {
    "collapsed": false
   },
   "outputs": [
    {
     "name": "stdout",
     "output_type": "stream",
     "text": [
      "____________________________________________________________________________________________________\n",
      "Layer (type)                     Output Shape          Param #     Connected to                     \n",
      "====================================================================================================\n",
      "input_1 (InputLayer)             (None, 28, 28, 1)     0                                            \n",
      "____________________________________________________________________________________________________\n",
      "convolution2d_1 (Convolution2D)  (None, 14, 14, 16)    416         input_1[0][0]                    \n",
      "____________________________________________________________________________________________________\n",
      "convolution2d_2 (Convolution2D)  (None, 7, 7, 8)       1160        convolution2d_1[0][0]            \n",
      "____________________________________________________________________________________________________\n",
      "reshape_1 (Reshape)              (None, 392)           0           convolution2d_2[0][0]            \n",
      "____________________________________________________________________________________________________\n",
      "dense_1 (Dense)                  (None, 128)           50304       reshape_1[0][0]                  \n",
      "====================================================================================================\n",
      "Total params: 51,880\n",
      "Trainable params: 51,880\n",
      "Non-trainable params: 0\n",
      "____________________________________________________________________________________________________\n"
     ]
    }
   ],
   "source": [
    "input_im = Input(shape=(IM_WIDTH, IM_HEIGHT, IM_CHANNELS))\n",
    "h = Convolution2D(16, 5, 5, subsample=(2,2), activation='relu', border_mode='same')(input_im)\n",
    "h = Convolution2D(8, 3, 3, subsample=(2,2), activation='relu', border_mode='same')(h)\n",
    "# h = Flatten()(h)\n",
    "h = Reshape((392,))(h)\n",
    "v = Dense(V_SIZE, activation='relu')(h)\n",
    "\n",
    "enc = Model(input_im, v)\n",
    "enc.summary()"
   ]
  },
  {
   "cell_type": "code",
   "execution_count": 5,
   "metadata": {
    "collapsed": false
   },
   "outputs": [
    {
     "name": "stdout",
     "output_type": "stream",
     "text": [
      "____________________________________________________________________________________________________\n",
      "Layer (type)                     Output Shape          Param #     Connected to                     \n",
      "====================================================================================================\n",
      "input_2 (InputLayer)             (None, 128)           0                                            \n",
      "____________________________________________________________________________________________________\n",
      "dense_2 (Dense)                  (None, 392)           50568       input_2[0][0]                    \n",
      "____________________________________________________________________________________________________\n",
      "reshape_2 (Reshape)              (None, 7, 7, 8)       0           dense_2[0][0]                    \n",
      "____________________________________________________________________________________________________\n",
      "upsampling2d_1 (UpSampling2D)    (None, 14, 14, 8)     0           reshape_2[0][0]                  \n",
      "____________________________________________________________________________________________________\n",
      "convolution2d_3 (Convolution2D)  (None, 14, 14, 16)    1168        upsampling2d_1[0][0]             \n",
      "____________________________________________________________________________________________________\n",
      "upsampling2d_2 (UpSampling2D)    (None, 28, 28, 16)    0           convolution2d_3[0][0]            \n",
      "____________________________________________________________________________________________________\n",
      "convolution2d_4 (Convolution2D)  (None, 28, 28, 1)     401         upsampling2d_2[0][0]             \n",
      "====================================================================================================\n",
      "Total params: 52,137\n",
      "Trainable params: 52,137\n",
      "Non-trainable params: 0\n",
      "____________________________________________________________________________________________________\n"
     ]
    }
   ],
   "source": [
    "input_v = Input(shape=(V_SIZE,))\n",
    "\n",
    "h = Dense(8*7*7, activation='relu')(input_v)\n",
    "h = Reshape((7,7,8))(h)\n",
    "h = UpSampling2D((2,2))(h)\n",
    "h = Convolution2D(16, 3, 3, activation='relu', border_mode='same')(h)\n",
    "h = UpSampling2D((2,2))(h)\n",
    "output_im = Convolution2D(1, 5, 5, activation='sigmoid', border_mode='same')(h)\n",
    "\n",
    "# output_im\n",
    "\n",
    "dec = Model(input_v, output_im)\n",
    "dec.summary()"
   ]
  },
  {
   "cell_type": "code",
   "execution_count": 6,
   "metadata": {
    "collapsed": false
   },
   "outputs": [
    {
     "name": "stdout",
     "output_type": "stream",
     "text": [
      "____________________________________________________________________________________________________\n",
      "Layer (type)                     Output Shape          Param #     Connected to                     \n",
      "====================================================================================================\n",
      "input_3 (InputLayer)             (None, 28, 28, 1)     0                                            \n",
      "____________________________________________________________________________________________________\n",
      "model_1 (Model)                  (None, 128)           51880       input_3[0][0]                    \n",
      "____________________________________________________________________________________________________\n",
      "model_2 (Model)                  (None, 28, 28, 1)     52137       model_1[1][0]                    \n",
      "====================================================================================================\n",
      "Total params: 104,017\n",
      "Trainable params: 104,017\n",
      "Non-trainable params: 0\n",
      "____________________________________________________________________________________________________\n"
     ]
    }
   ],
   "source": [
    "input_im = Input(shape=(IM_WIDTH, IM_HEIGHT, IM_CHANNELS))\n",
    "v = enc(input_im)\n",
    "output_im = dec(v)\n",
    "\n",
    "ae = Model(input_im, output_im)\n",
    "ae.compile(optimizer=Adam(lr=0.0002), loss='mse')\n",
    "ae.summary();"
   ]
  },
  {
   "cell_type": "code",
   "execution_count": 7,
   "metadata": {
    "collapsed": false
   },
   "outputs": [
    {
     "name": "stdout",
     "output_type": "stream",
     "text": [
      "____________________________________________________________________________________________________\n",
      "Layer (type)                     Output Shape          Param #     Connected to                     \n",
      "====================================================================================================\n",
      "input_4 (InputLayer)             (None, 98, 28, 28, 1) 0                                            \n",
      "____________________________________________________________________________________________________\n",
      "timedistributed_1 (TimeDistribut (None, 98, 128)       51880       input_4[0][0]                    \n",
      "____________________________________________________________________________________________________\n",
      "lstm_1 (LSTM)                    (None, 98, 128)       131584      timedistributed_1[0][0]          \n",
      "____________________________________________________________________________________________________\n",
      "timedistributed_2 (TimeDistribut (None, 98, 28, 28, 1) 52137       lstm_1[0][0]                     \n",
      "====================================================================================================\n",
      "Total params: 235,601\n",
      "Trainable params: 235,601\n",
      "Non-trainable params: 0\n",
      "____________________________________________________________________________________________________\n"
     ]
    }
   ],
   "source": [
    "input_ims = Input(shape=(EP_LEN-SERIES_SHIFT, IM_WIDTH, IM_HEIGHT, IM_CHANNELS))\n",
    "in_vs = TimeDistributed(enc, input_shape=((EP_LEN-SERIES_SHIFT, IM_WIDTH, IM_HEIGHT, IM_CHANNELS)))(input_ims)\n",
    "\n",
    "# lstm = LSTM(V_SIZE, input_shape=(EP_LEN, V_SIZE), return_sequences=True)\n",
    "lstm = LSTM(V_SIZE, return_sequences=True)\n",
    "\n",
    "out_vs = lstm(in_vs)\n",
    "output_recons = TimeDistributed(dec, input_shape=((EP_LEN, V_SIZE)))(out_vs)\n",
    "\n",
    "pred_ae = Model(input_ims, output_recons)\n",
    "pred_ae.compile(optimizer=Adam(lr=0.001), loss='mse')\n",
    "pred_ae.summary()"
   ]
  },
  {
   "cell_type": "code",
   "execution_count": 8,
   "metadata": {
    "collapsed": false
   },
   "outputs": [],
   "source": [
    "if empty_model:\n",
    "    fpath = 'models/pred_ae_single_trained_1.hdf5'\n",
    "#     pred_ae.save_weights(fpath)\n",
    "    pred_ae.load_weights(fpath)\n",
    "    empty_model = False"
   ]
  },
  {
   "cell_type": "code",
   "execution_count": 9,
   "metadata": {
    "collapsed": false
   },
   "outputs": [
    {
     "name": "stdout",
     "output_type": "stream",
     "text": [
      "____________________________________________________________________________________________________\n",
      "Layer (type)                     Output Shape          Param #     Connected to                     \n",
      "====================================================================================================\n",
      "input_5 (InputLayer)             (1, 28, 28, 1)        0                                            \n",
      "____________________________________________________________________________________________________\n",
      "model_1 (Model)                  multiple              51880       input_5[0][0]                    \n",
      "____________________________________________________________________________________________________\n",
      "reshape_3 (Reshape)              (1, 1, 128)           0           model_1[2][0]                    \n",
      "____________________________________________________________________________________________________\n",
      "lstm_2 (LSTM)                    (1, 128)              131584      reshape_3[0][0]                  \n",
      "____________________________________________________________________________________________________\n",
      "model_2 (Model)                  multiple              52137       lstm_2[0][0]                     \n",
      "====================================================================================================\n",
      "Total params: 235,601\n",
      "Trainable params: 235,601\n",
      "Non-trainable params: 0\n",
      "____________________________________________________________________________________________________\n"
     ]
    }
   ],
   "source": [
    "input_im = Input(batch_shape=(1, IM_WIDTH, IM_HEIGHT, IM_CHANNELS))\n",
    "\n",
    "in_v = enc(input_im)\n",
    "in_v = Reshape((1,128))(in_v)\n",
    "lstm_spare = LSTM(V_SIZE, stateful=True)\n",
    "out_v = lstm_spare(in_v)\n",
    "\n",
    "lstm_spare.set_weights(lstm.get_weights())\n",
    "\n",
    "output_recon = dec(out_v)\n",
    "\n",
    "stepper = Model(input_im, output_recon)\n",
    "# stepper.compile(optimizer=Adam(lr=0.001), loss='mse')\n",
    "stepper.summary() "
   ]
  },
  {
   "cell_type": "code",
   "execution_count": 10,
   "metadata": {
    "collapsed": true
   },
   "outputs": [],
   "source": [
    "images_train = DataContainer('data-balls/balls-train.pt', batch_size=32,\n",
    "                          ep_len_read=EP_LEN)\n",
    "images_valid = DataContainer('data-balls/balls-valid.pt', batch_size=32,\n",
    "                          ep_len_read=EP_LEN)"
   ]
  },
  {
   "cell_type": "code",
   "execution_count": 15,
   "metadata": {
    "collapsed": true
   },
   "outputs": [],
   "source": [
    "images_train.populate_images()"
   ]
  },
  {
   "cell_type": "code",
   "execution_count": 196,
   "metadata": {
    "collapsed": true
   },
   "outputs": [],
   "source": [
    "stepper.reset_states()"
   ]
  },
  {
   "cell_type": "code",
   "execution_count": 11,
   "metadata": {
    "collapsed": true
   },
   "outputs": [],
   "source": [
    "x = images_train.get_batch_episodes()\n",
    "i = 0"
   ]
  },
  {
   "cell_type": "code",
   "execution_count": 45,
   "metadata": {
    "collapsed": false
   },
   "outputs": [
    {
     "data": {
      "text/plain": [
       "<matplotlib.image.AxesImage at 0x7f2ec09c7470>"
      ]
     },
     "execution_count": 45,
     "metadata": {},
     "output_type": "execute_result"
    },
    {
     "data": {
      "image/png": "[encoded data removed]",
      "text/plain": [
       "<matplotlib.figure.Figure at 0x7f2e869a30b8>"
      ]
     },
     "metadata": {},
     "output_type": "display_data"
    }
   ],
   "source": [
    "x_t = x[0, i,...]\n",
    "i += 1\n",
    "x_t = x_t.reshape((1, 28, 28, 1))\n",
    "x_hat = stepper.predict(x_t*0)\n",
    "plt.imshow(x[0,i,:,:,0], cmap='gray', vmin=0.0, vmax=1.0)"
   ]
  },
  {
   "cell_type": "code",
   "execution_count": 426,
   "metadata": {
    "collapsed": false
   },
   "outputs": [
    {
     "data": {
      "text/plain": [
       "<matplotlib.image.AxesImage at 0x7f2e4fde6a58>"
      ]
     },
     "execution_count": 426,
     "metadata": {},
     "output_type": "execute_result"
    },
    {
     "data": {
      "image/png": "[encoded data removed]",
      "text/plain": [
       "<matplotlib.figure.Figure at 0x7f2e6424bda0>"
      ]
     },
     "metadata": {},
     "output_type": "display_data"
    }
   ],
   "source": [
    "# for i in range(0):\n",
    "x_hat = stepper.predict(x_t*0)\n",
    "plt.imshow(x_hat[0,:,:,0], cmap='gray', vmin=0.0, vmax=1.0)"
   ]
  },
  {
   "cell_type": "code",
   "execution_count": 47,
   "metadata": {
    "collapsed": false
   },
   "outputs": [],
   "source": [
    "out_tensor = stepper.output"
   ]
  },
  {
   "cell_type": "code",
   "execution_count": 179,
   "metadata": {
    "collapsed": false
   },
   "outputs": [
    {
     "data": {
      "text/plain": [
       "<tf.Tensor 'Sigmoid_3:0' shape=(1, 28, 28, 1) dtype=float32>"
      ]
     },
     "execution_count": 179,
     "metadata": {},
     "output_type": "execute_result"
    }
   ],
   "source": [
    "out_tensor"
   ]
  },
  {
   "cell_type": "code",
   "execution_count": 490,
   "metadata": {
    "collapsed": false
   },
   "outputs": [
    {
     "data": {
      "text/plain": [
       "<keras.layers.recurrent.LSTM at 0x7f2f6006a320>"
      ]
     },
     "execution_count": 490,
     "metadata": {},
     "output_type": "execute_result"
    }
   ],
   "source": [
    "lay  = pred_ae.layers[2]\n",
    "lay"
   ]
  },
  {
   "cell_type": "code",
   "execution_count": 491,
   "metadata": {
    "collapsed": false
   },
   "outputs": [
    {
     "data": {
      "text/plain": [
       "[None, None]"
      ]
     },
     "execution_count": 491,
     "metadata": {},
     "output_type": "execute_result"
    }
   ],
   "source": [
    "s = lay.states\n",
    "s"
   ]
  },
  {
   "cell_type": "code",
   "execution_count": 183,
   "metadata": {
    "collapsed": false
   },
   "outputs": [
    {
     "data": {
      "text/plain": [
       "TensorShape([Dimension(1), Dimension(128)])"
      ]
     },
     "execution_count": 183,
     "metadata": {},
     "output_type": "execute_result"
    }
   ],
   "source": [
    "s0.get_shape()"
   ]
  },
  {
   "cell_type": "code",
   "execution_count": 273,
   "metadata": {
    "collapsed": false
   },
   "outputs": [],
   "source": [
    "grads = K.gradients(out_tensor, s0)"
   ]
  },
  {
   "cell_type": "code",
   "execution_count": 274,
   "metadata": {
    "collapsed": false
   },
   "outputs": [],
   "source": [
    "dods = grads[0]"
   ]
  },
  {
   "cell_type": "code",
   "execution_count": 476,
   "metadata": {
    "collapsed": false
   },
   "outputs": [
    {
     "data": {
      "text/plain": [
       "array([[  0.00000000e+00,  -5.46425700e-01,  -5.27146319e-03,\n",
       "          8.77525210e-02,   1.60584062e-01,  -1.63198137e+00,\n",
       "          2.29710210e-02,   4.01731396e+00,   1.66253614e+00,\n",
       "         -7.15473771e-01,  -1.22063747e-03,  -4.60186526e-02,\n",
       "          7.81978071e-01,   6.40306680e-04,  -1.22061026e+00,\n",
       "          5.04570901e-01,  -1.43467989e-02,   2.52453232e+00,\n",
       "         -1.81063518e-01,   8.22171211e-01,   8.98437977e-01,\n",
       "          6.60117745e-01,  -5.41800819e-02,  -3.42257466e-04,\n",
       "         -7.74865091e-01,   1.32316642e-03,   1.48698080e+00,\n",
       "         -9.93887782e-01,  -1.85599589e+00,  -9.89349842e-01,\n",
       "         -2.41644084e-01,  -1.86248906e-06,   4.14768726e-01,\n",
       "          0.00000000e+00,   5.59455335e-01,   2.52522022e-05,\n",
       "          0.00000000e+00,   1.98935606e-02,   3.96935642e-02,\n",
       "         -1.20027340e-03,  -1.35517776e-01,   1.98011056e-01,\n",
       "          0.00000000e+00,  -2.45509744e-01,   2.58163810e-01,\n",
       "          5.20618074e-03,  -3.53440195e-01,  -2.74039339e-03,\n",
       "         -4.48936135e-01,   0.00000000e+00,  -1.48967791e+00,\n",
       "          1.28732228e+00,   1.20903468e+00,   4.97266620e-01,\n",
       "         -5.56527436e-01,  -1.05746932e-01,   8.24412107e-02,\n",
       "          0.00000000e+00,   1.40119880e-01,  -4.60700430e-02,\n",
       "          2.75005603e+00,   0.00000000e+00,  -7.77836666e-02,\n",
       "         -4.94604828e-05,  -6.48586690e-01,   0.00000000e+00,\n",
       "         -1.22328795e-01,   1.94153666e+00,   1.15497351e+00,\n",
       "         -5.00487834e-02,   7.48893738e-01,   6.96299434e-01,\n",
       "         -1.40605450e-01,  -1.28023757e-03,   0.00000000e+00,\n",
       "         -2.04653796e-02,  -1.03224683e+00,   1.74623346e+00,\n",
       "          1.02795768e+00,   7.87421286e-01,   3.49499375e-01,\n",
       "          0.00000000e+00,  -1.48260808e+00,  -3.74162793e-02,\n",
       "          1.53435409e+00,   7.92639703e-03,  -1.02050042e+00,\n",
       "          0.00000000e+00,   0.00000000e+00,   1.48039190e-02,\n",
       "         -2.57615972e+00,   1.91793013e+00,  -6.11442566e-01,\n",
       "          4.22248334e-01,  -1.90762806e+00,   8.89787674e-02,\n",
       "          2.97846341e+00,  -3.55426931e+00,   1.13780725e+00,\n",
       "          1.14224339e+00,   0.00000000e+00,  -5.59126091e+00,\n",
       "         -1.86834708e-01,   1.43595362e+00,  -1.71075284e+00,\n",
       "          5.42565346e-01,   2.36498602e-02,  -4.58825201e-01,\n",
       "          2.75247395e-02,   5.51038206e-01,  -5.83764613e-01,\n",
       "          3.15203547e-01,  -3.17073679e+00,   3.22970062e-01,\n",
       "         -1.42588162e+00,  -8.25807229e-02,   0.00000000e+00,\n",
       "          9.35801625e-01,  -4.52380776e-01,  -3.79332685e+00,\n",
       "          0.00000000e+00,  -8.02206516e-01,   3.48997414e-01,\n",
       "          0.00000000e+00,  -5.02158582e-01,   2.50287580e+00,\n",
       "          2.15721533e-01,   1.77877939e+00]], dtype=float32)"
      ]
     },
     "execution_count": 476,
     "metadata": {},
     "output_type": "execute_result"
    }
   ],
   "source": [
    "a = sess.run(dods, feed_dict={stepper.input:x_t*0})\n",
    "a"
   ]
  },
  {
   "cell_type": "code",
   "execution_count": 483,
   "metadata": {
    "collapsed": false
   },
   "outputs": [
    {
     "data": {
      "text/plain": [
       "[array([[ -4.47716773e-01,   5.08837809e-04,  -1.57354716e-02,\n",
       "          -2.59158999e-01,   2.48169545e-05,  -2.37570658e-01,\n",
       "          -1.08590364e-01,  -4.58452012e-03,  -6.06298679e-03,\n",
       "          -1.83983907e-01,   3.41405004e-01,  -3.99778374e-02,\n",
       "           2.13363528e-01,  -9.10240412e-02,   1.18694626e-01,\n",
       "           1.34986132e-01,   2.32483089e-01,  -3.91321518e-02,\n",
       "           4.89945486e-02,   2.08822414e-01,  -1.90360378e-03,\n",
       "          -5.37047312e-02,   2.86298692e-01,   4.41770315e-01,\n",
       "          -4.23881449e-02,  -2.37282813e-01,   1.41622305e-01,\n",
       "          -5.68910821e-07,  -1.29816783e-07,  -1.62114128e-01,\n",
       "          -3.82624775e-01,   1.54165596e-01,  -4.08770479e-02,\n",
       "          -0.00000000e+00,  -4.96477095e-22,   4.44632202e-01,\n",
       "          -9.28596556e-02,  -2.02694699e-01,   1.76031962e-01,\n",
       "          -1.13455117e-01,   1.59340113e-01,   7.90108666e-02,\n",
       "          -6.49799407e-02,  -9.16097909e-02,  -1.23252213e-01,\n",
       "           7.38312374e-04,   4.32301536e-02,  -2.18283106e-02,\n",
       "           1.93588063e-02,   1.18383855e-01,  -2.16380507e-01,\n",
       "           1.93320704e-03,   1.92733631e-01,   8.98448601e-02,\n",
       "          -3.96226615e-01,   1.57996505e-01,  -7.54780948e-01,\n",
       "          -0.00000000e+00,   2.43636779e-02,   1.55184776e-01,\n",
       "          -5.45486622e-02,  -5.67272305e-03,  -6.93781972e-01,\n",
       "           1.18803971e-01,   1.35901019e-01,   2.28689343e-01,\n",
       "          -9.38577112e-03,   1.28570929e-01,   4.32138890e-02,\n",
       "          -6.32066503e-02,  -4.70605940e-02,  -1.61817685e-01,\n",
       "           5.08717522e-02,   3.08601767e-01,  -1.95440501e-01,\n",
       "           1.65574431e-01,   2.10015196e-03,  -6.67328015e-02,\n",
       "           3.17172825e-01,  -7.45373406e-03,  -1.73840642e-01,\n",
       "           6.50743306e-01,  -2.80178845e-01,  -5.84100075e-02,\n",
       "          -1.35441527e-01,   2.04387560e-01,  -8.26513860e-03,\n",
       "          -1.02744669e-01,   9.69028771e-02,  -1.25103816e-01,\n",
       "           1.37662396e-01,  -8.76785535e-03,   4.89590801e-02,\n",
       "          -8.61590207e-02,  -4.10793036e-01,   1.80392172e-02,\n",
       "          -8.13360363e-02,  -7.43639981e-03,   6.80779398e-04,\n",
       "          -2.23562419e-02,   8.05119991e-01,   1.70094550e-01,\n",
       "           7.18562957e-03,   1.44528314e-01,   3.66188120e-03,\n",
       "          -2.31746994e-02,  -1.38586193e-01,  -3.28586429e-01,\n",
       "           2.43918926e-01,  -1.26254521e-02,  -8.70259106e-03,\n",
       "          -3.31016541e-01,   1.93884671e-02,   2.57834848e-02,\n",
       "           1.55673772e-02,  -3.73241454e-02,   1.69249445e-01,\n",
       "           5.85088283e-02,   2.38271505e-01,  -6.56441832e-03,\n",
       "          -2.54148066e-01,  -6.72281440e-03,   1.75287407e-02,\n",
       "           1.69613898e-01,   1.21390648e-01,   1.53692514e-01,\n",
       "          -4.75614667e-01,   1.23382173e-01]], dtype=float32),\n",
       " array([[ -8.80702515e+01,   2.02054577e-03,  -2.99965978e-01,\n",
       "          -1.35547709e+00,   1.15143303e-04,  -5.35666466e-01,\n",
       "          -2.20042849e+00,  -1.02187479e-02,  -1.30459629e-02,\n",
       "          -3.59072626e-01,   4.83228016e+00,  -1.17092445e-01,\n",
       "           5.93696654e-01,  -3.41944456e+00,   2.68571317e-01,\n",
       "           2.53360808e-01,   1.10291529e+00,  -6.70929402e-02,\n",
       "           1.18776537e-01,   7.70855904e-01,  -5.45111485e-03,\n",
       "          -2.13511050e-01,   2.43807220e+00,   3.60544300e+00,\n",
       "          -3.65687549e-01,  -3.85802746e+00,   3.40611994e-01,\n",
       "          -4.17531101e-06,  -2.53204348e-07,  -6.42833829e-01,\n",
       "          -1.23602915e+00,   7.51854563e+00,  -4.90093917e-01,\n",
       "          -5.86625002e-03,  -5.93812565e-21,   3.60928369e+00,\n",
       "          -5.64278336e+01,  -5.17154455e-01,   2.26730323e+00,\n",
       "          -3.23744965e+00,   1.48342037e+00,   5.50383866e-01,\n",
       "          -5.12371635e+01,  -4.94592130e-01,  -8.49890471e-01,\n",
       "           5.15920877e-01,   3.06424081e-01,  -3.81646931e-01,\n",
       "           7.99070671e-02,   5.21209869e+01,  -6.06794238e-01,\n",
       "           1.04856929e-02,   4.21150118e-01,   3.33385468e-01,\n",
       "          -1.15857863e+00,   1.59591377e+00,  -1.56203127e+00,\n",
       "          -2.51877737e+00,   1.28598392e-01,   3.65841508e-01,\n",
       "          -1.02810986e-01,  -1.28883896e+01,  -2.64510465e+00,\n",
       "           5.78548813e+00,   4.80153501e-01,   3.18341141e+01,\n",
       "          -2.51668766e-02,   4.07979846e-01,   1.13947906e-01,\n",
       "          -2.73983538e-01,  -3.21101367e-01,  -5.77840090e-01,\n",
       "           8.78688931e-01,   4.59743547e+00,  -5.27794304e+01,\n",
       "           2.59649730e+00,   4.86483425e-03,  -1.45327792e-01,\n",
       "           8.67616475e-01,  -2.20144391e-01,  -6.49015665e-01,\n",
       "           1.30982475e+01,  -1.16849804e+00,  -9.30741012e-01,\n",
       "          -4.14365172e-01,   2.88473916e+00,  -1.32227410e-02,\n",
       "          -7.39675064e+01,   4.46052513e+01,  -2.81577349e+00,\n",
       "           2.05407202e-01,  -2.24239193e-02,   1.65540740e-01,\n",
       "          -1.05756211e+00,  -8.69516551e-01,   5.24367988e-02,\n",
       "          -1.11617617e-01,  -2.25665644e-02,   9.82949045e-04,\n",
       "          -4.93947975e-02,   2.19220123e+01,   3.52955550e-01,\n",
       "           3.66435908e-02,   3.95011991e-01,   1.86459925e-02,\n",
       "          -4.15858142e-02,  -2.10360098e+00,  -1.45500183e+00,\n",
       "           7.13761687e-01,  -5.26272431e-02,  -4.93486188e-02,\n",
       "          -1.53562391e+00,   5.80962300e-02,   9.05447602e-02,\n",
       "           1.35695130e-01,  -6.44178241e-02,   1.57499409e+01,\n",
       "           1.25236392e-01,   6.91543818e-01,  -1.00369314e-02,\n",
       "          -1.64379654e+01,  -1.88143272e-02,   1.60614192e-01,\n",
       "           9.86692238e+00,   1.03208780e+00,   4.73990917e-01,\n",
       "          -1.15406680e+00,   2.46820539e-01]], dtype=float32)]"
      ]
     },
     "execution_count": 483,
     "metadata": {},
     "output_type": "execute_result"
    }
   ],
   "source": [
    "s0 = lay.states\n",
    "s = sess.run(s0, feed_dict={stepper.input:x_t*0})\n",
    "s"
   ]
  },
  {
   "cell_type": "code",
   "execution_count": null,
   "metadata": {
    "collapsed": false
   },
   "outputs": [],
   "source": []
  },
  {
   "cell_type": "code",
   "execution_count": null,
   "metadata": {
    "collapsed": true
   },
   "outputs": [],
   "source": []
  }
 ],
 "metadata": {
  "kernelspec": {
   "display_name": "Python 3",
   "language": "python",
   "name": "python3"
  },
  "language_info": {
   "codemirror_mode": {
    "name": "ipython",
    "version": 3
   },
   "file_extension": ".py",
   "mimetype": "text/x-python",
   "name": "python",
   "nbconvert_exporter": "python",
   "pygments_lexer": "ipython3",
   "version": "3.5.2"
  }
 },
 "nbformat": 4,
 "nbformat_minor": 2
}
