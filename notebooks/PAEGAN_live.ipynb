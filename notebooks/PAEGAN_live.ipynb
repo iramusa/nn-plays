{
 "cells": [
  {
   "cell_type": "code",
   "execution_count": 1,
   "metadata": {
    "collapsed": false
   },
   "outputs": [
    {
     "name": "stdout",
     "output_type": "stream",
     "text": [
      "/home/ira/code/projects/nn-play\n"
     ]
    }
   ],
   "source": [
    "%cd ~/code/projects/nn-play/\n",
    "import torch\n",
    "import torch.nn as nn\n",
    "import torch.optim as optim\n",
    "from torch.autograd import Variable\n",
    "import torchvision.utils as vutils\n",
    "import os\n",
    "from tqdm import tqdm, trange\n",
    "\n",
    "from structured_container import DataContainer\n",
    "from torch_nets import *\n",
    "import my_utils\n",
    "import random"
   ]
  },
  {
   "cell_type": "code",
   "execution_count": 2,
   "metadata": {
    "collapsed": false
   },
   "outputs": [
    {
     "name": "stdout",
     "output_type": "stream",
     "text": [
      "Loading /home/ira/code/projects/nn-play/experiments/0__well_done/17-11-30_09:05-wp_1b_1l_small_deter/data/train.pt\n",
      "Loading /home/ira/code/projects/nn-play/experiments/0__well_done/17-11-30_09:05-wp_1b_1l_small_deter/data/test.pt\n"
     ]
    }
   ],
   "source": [
    "BATCH_SIZE = 4\n",
    "EP_LEN = 100\n",
    "\n",
    "DATA_TRAIN = DataContainer('/home/ira/code/projects/nn-play/experiments/0__well_done/17-11-30_09:05-wp_1b_1l_small_deter/data/train.pt', batch_size=BATCH_SIZE, ep_len_read=EP_LEN)\n",
    "DATA_TEST = DataContainer('/home/ira/code/projects/nn-play/experiments/0__well_done/17-11-30_09:05-wp_1b_1l_small_deter/data/test.pt', batch_size=BATCH_SIZE, ep_len_read=EP_LEN)\n",
    "DATA_TRAIN.populate_images()\n",
    "DATA_TEST.populate_images()"
   ]
  },
  {
   "cell_type": "code",
   "execution_count": 3,
   "metadata": {
    "collapsed": true
   },
   "outputs": [],
   "source": [
    "GAN_BATCH_SIZE = 16\n",
    "AVERAGING_BATCH_SIZE = GAN_BATCH_SIZE\n",
    "\n",
    "GUARANTEED_PERCEPTS = 6\n",
    "UNCERTAIN_PERCEPTS = 4\n",
    "P_NO_OBS = 0.99\n",
    "EPOCHS = 225\n",
    "UPDATES_PER_EPOCH = 1000\n",
    "EXP_FOLDER = \"/home/ira/code/projects/nn-play/experiments/paegan-state/\"\n",
    "DATA_FOLDER = \"{}/data\".format(EXP_FOLDER)"
   ]
  },
  {
   "cell_type": "code",
   "execution_count": 4,
   "metadata": {
    "collapsed": true
   },
   "outputs": [],
   "source": [
    "def mask_percepts(images, p, return_indices=False):\n",
    "    images_masked = np.copy(images)\n",
    "    if p < 1.0:\n",
    "        for_removal = np.random.random(EP_LEN) < p\n",
    "    else:\n",
    "        for_removal = np.ones(EP_LEN) > 0\n",
    "\n",
    "    if UNCERTAIN_PERCEPTS > 0:\n",
    "        clear_percepts = GUARANTEED_PERCEPTS + np.random.randint(0, UNCERTAIN_PERCEPTS)\n",
    "    else:\n",
    "        clear_percepts = GUARANTEED_PERCEPTS\n",
    "    for_removal[0:clear_percepts] = False\n",
    "    images_masked[:, for_removal, ...] = 0\n",
    "\n",
    "    if return_indices:\n",
    "        return images_masked, for_removal\n",
    "    else:\n",
    "        return images_masked"
   ]
  },
  {
   "cell_type": "code",
   "execution_count": 5,
   "metadata": {
    "collapsed": false,
    "scrolled": true
   },
   "outputs": [
    {
     "name": "stderr",
     "output_type": "stream",
     "text": [
      "  0%|          | 0/1000 [00:00<?, ?it/s]/home/ira/code/envs/flexi/lib/python3.5/site-packages/torch/nn/functional.py:1168: UserWarning: Using a target size (torch.Size([16, 1])) that is different to the input size (torch.Size([16, 1, 1, 1])) is deprecated. Please ensure they have the same size.\n",
      "  \"Please ensure they have the same size.\".format(target.size(), input.size()))\n",
      "/home/ira/code/envs/flexi/lib/python3.5/site-packages/imageio/core/util.py:78: UserWarning: Lossy conversion from float32 to uint8, range [0, 1]\n",
      "  dtype_str, out_type.__name__))\n",
      "100%|██████████| 1000/1000 [00:59<00:00, 16.79it/s, d train loss=0.0377, epoch=[27/225], g train loss=2.07, pae train loss=0.0011, pae valid loss=0.00407, sum train loss=0.000806]   \n",
      "100%|██████████| 1000/1000 [00:58<00:00, 16.98it/s, d train loss=0.224, epoch=[28/225], g train loss=9.39, pae train loss=0.00272, pae valid loss=0.0025, sum train loss=0.000596]     \n",
      "100%|██████████| 1000/1000 [00:59<00:00, 16.94it/s, d train loss=0.2, epoch=[29/225], g train loss=1.62, pae train loss=0.000912, pae valid loss=0.00875, sum train loss=0.00105]       \n",
      "100%|██████████| 1000/1000 [00:59<00:00, 16.81it/s, d train loss=1.21, epoch=[30/225], g train loss=0.0341, pae train loss=0.00216, pae valid loss=0.00158, sum train loss=0.000761]   \n",
      "100%|██████████| 1000/1000 [00:59<00:00, 16.71it/s, d train loss=0.728, epoch=[31/225], g train loss=7.19, pae train loss=0.00202, pae valid loss=0.00401, sum train loss=0.00353]     \n",
      "100%|██████████| 1000/1000 [01:00<00:00, 16.50it/s, d train loss=0.231, epoch=[32/225], g train loss=4.87, pae train loss=0.0033, pae valid loss=0.0048, sum train loss=0.00403]       \n",
      "  4%|▎         | 35/1000 [00:02<00:59, 16.31it/s, d train loss=0.0398, epoch=[33/225], g train loss=4.65, pae train loss=0.0033, pae valid loss=0.00161, sum train loss=0.000411]   "
     ]
    },
    {
     "ename": "KeyboardInterrupt",
     "evalue": "",
     "output_type": "error",
     "traceback": [
      "\u001b[0;31m---------------------------------------------------------------------------\u001b[0m",
      "\u001b[0;31mKeyboardInterrupt\u001b[0m                         Traceback (most recent call last)",
      "\u001b[0;32m<ipython-input-5-ffcb9e1848f1>\u001b[0m in \u001b[0;36m<module>\u001b[0;34m()\u001b[0m\n\u001b[1;32m     78\u001b[0m         \u001b[0mnet\u001b[0m\u001b[0;34m.\u001b[0m\u001b[0mzero_grad\u001b[0m\u001b[0;34m(\u001b[0m\u001b[0;34m)\u001b[0m\u001b[0;34m\u001b[0m\u001b[0m\n\u001b[1;32m     79\u001b[0m \u001b[0;34m\u001b[0m\u001b[0m\n\u001b[0;32m---> 80\u001b[0;31m         \u001b[0mobs_in\u001b[0m\u001b[0;34m.\u001b[0m\u001b[0mdata\u001b[0m\u001b[0;34m.\u001b[0m\u001b[0mcopy_\u001b[0m\u001b[0;34m(\u001b[0m\u001b[0mmasked\u001b[0m\u001b[0;34m)\u001b[0m\u001b[0;34m\u001b[0m\u001b[0m\n\u001b[0m\u001b[1;32m     81\u001b[0m         \u001b[0mobs_out\u001b[0m\u001b[0;34m.\u001b[0m\u001b[0mdata\u001b[0m\u001b[0;34m.\u001b[0m\u001b[0mcopy_\u001b[0m\u001b[0;34m(\u001b[0m\u001b[0mbatch\u001b[0m\u001b[0;34m)\u001b[0m\u001b[0;34m\u001b[0m\u001b[0m\n\u001b[1;32m     82\u001b[0m \u001b[0;34m\u001b[0m\u001b[0m\n",
      "\u001b[0;31mKeyboardInterrupt\u001b[0m: "
     ]
    }
   ],
   "source": [
    "start_at_epoch=27\n",
    "train_gan=True\n",
    "train_av=True\n",
    "n_epochs=EPOCHS\n",
    "\n",
    "try:\n",
    "    os.makedirs(EXP_FOLDER)\n",
    "except OSError:\n",
    "    pass\n",
    "\n",
    "data_train = DATA_TRAIN\n",
    "data_test = DATA_TEST\n",
    "\n",
    "if torch.cuda.is_available():\n",
    "    net = VisualPAEGAN(v_size=V_SIZE, bs_size=BS_SIZE, n_size=N_SIZE, g_size=G_SIZE).cuda()\n",
    "    criterion_pae = nn.MSELoss().cuda()\n",
    "    criterion_gan = nn.BCELoss().cuda()\n",
    "    # criterion_gan = nn.MSELoss().cuda()\n",
    "    criterion_gen_averaged = nn.MSELoss().cuda()\n",
    "\n",
    "    obs_in = Variable(torch.FloatTensor(EP_LEN, BATCH_SIZE, IM_CHANNELS, IM_WIDTH, IM_WIDTH).cuda())\n",
    "    obs_out = Variable(torch.FloatTensor(EP_LEN, BATCH_SIZE, IM_CHANNELS, IM_WIDTH, IM_WIDTH).cuda())\n",
    "\n",
    "    averaging_noise = Variable(torch.FloatTensor(AVERAGING_BATCH_SIZE, N_SIZE).cuda())\n",
    "    noise = Variable(torch.FloatTensor(GAN_BATCH_SIZE, N_SIZE).cuda())\n",
    "\n",
    "    fixed_noise = Variable(torch.FloatTensor(GAN_BATCH_SIZE, N_SIZE).normal_(0, 1).cuda())\n",
    "    fixed_bs_noise = Variable(torch.FloatTensor(GAN_BATCH_SIZE, BS_SIZE).uniform_(-1, 1).cuda())\n",
    "    label = Variable(torch.FloatTensor(GAN_BATCH_SIZE, 1).cuda())\n",
    "else:\n",
    "    net = VisualPAEGAN(v_size=V_SIZE, bs_size=BS_SIZE, n_size=N_SIZE, g_size=G_SIZE)\n",
    "    criterion_pae = nn.MSELoss()\n",
    "    criterion_gan = nn.BCELoss()\n",
    "    # criterion_gan = nn.MSELoss()\n",
    "    criterion_gen_averaged = nn.MSELoss()\n",
    "\n",
    "    obs_in = Variable(torch.FloatTensor(EP_LEN, BATCH_SIZE, IM_CHANNELS, IM_WIDTH, IM_WIDTH))\n",
    "    obs_out = Variable(torch.FloatTensor(EP_LEN, BATCH_SIZE, IM_CHANNELS, IM_WIDTH, IM_WIDTH))\n",
    "\n",
    "    averaging_noise = Variable(torch.FloatTensor(AVERAGING_BATCH_SIZE, N_SIZE))\n",
    "    noise = Variable(torch.FloatTensor(GAN_BATCH_SIZE, N_SIZE))\n",
    "\n",
    "    fixed_noise = Variable(torch.FloatTensor(GAN_BATCH_SIZE, N_SIZE).normal_(0, 1))\n",
    "    fixed_bs_noise = Variable(torch.FloatTensor(GAN_BATCH_SIZE, BS_SIZE).uniform_(-1, 1))\n",
    "    label = Variable(torch.FloatTensor(GAN_BATCH_SIZE, 1))\n",
    "\n",
    "real_label = 1\n",
    "fake_label = 0\n",
    "\n",
    "optimiser_pae = optim.Adam([{'params': net.bs_prop.parameters()},\n",
    "                            {'params': net.decoder.parameters()}],\n",
    "                           lr=0.0003)\n",
    "optimiser_g = optim.Adam([{'params': net.bs_prop.parameters(), 'lr': 0.00005},\n",
    "                          {'params': net.G.parameters(), 'lr': 0.0002}])\n",
    "# optimiser_g = optim.Adam(net.G.parameters(), lr=0.0002)\n",
    "optimiser_sum = optim.Adam(net.G.parameters(), lr=0.0002)\n",
    "optimiser_d = optim.Adam(net.D.parameters(), lr=0.0002)\n",
    "\n",
    "if start_at_epoch > 0:\n",
    "    net.load_state_dict(torch.load(\"%s/paegan_epoch_%d.pth\" % (EXP_FOLDER, start_at_epoch - 1)))\n",
    "\n",
    "postfix = {}\n",
    "for epoch in range(start_at_epoch, n_epochs):\n",
    "    bar = trange(UPDATES_PER_EPOCH)\n",
    "    postfix['epoch'] = '[%d/%d]' % (epoch, EPOCHS)\n",
    "    for update in bar:\n",
    "        losses = []\n",
    "        \n",
    "        batch = data_train.get_batch_episodes()\n",
    "        masked = mask_percepts(batch, p=P_NO_OBS)\n",
    "\n",
    "        batch = batch.transpose((1, 0, 4, 2, 3))\n",
    "        masked = masked.transpose((1, 0, 4, 2, 3))\n",
    "\n",
    "        batch = torch.FloatTensor(batch)\n",
    "        masked = torch.FloatTensor(masked)\n",
    "\n",
    "        net.zero_grad()\n",
    "\n",
    "        obs_in.data.copy_(masked)\n",
    "        obs_out.data.copy_(batch)\n",
    "\n",
    "        # generate beliefs states\n",
    "        states = net.bs_prop(obs_in)\n",
    "        states = states.view(EP_LEN * BATCH_SIZE, -1)\n",
    "\n",
    "        # generate observation expectations, compute pae gradients, update\n",
    "        obs_expectation = net.decoder(states)\n",
    "        obs_expectation = obs_expectation.view(obs_in.size())\n",
    "\n",
    "        err_pae = criterion_pae(obs_expectation, obs_out)\n",
    "        states = states.detach()\n",
    "        losses.append(err_pae)\n",
    "#         err_pae.backward(retain_graph=True)\n",
    "#         optimiser_pae.step()\n",
    "        postfix['pae train loss'] = err_pae.data[0]\n",
    "\n",
    "        if train_gan is True:\n",
    "            net.zero_grad()\n",
    "\n",
    "            # # flip labels\n",
    "            # if update % 2000 == 0:\n",
    "            #     if real_label == 1:\n",
    "            #         real_label = 0\n",
    "            #         fake_label = 1\n",
    "            #     else:\n",
    "            #         real_label = 1\n",
    "            #         fake_label = 0\n",
    "            # train discriminator with real data\n",
    "            label.data.fill_(real_label)\n",
    "            \n",
    "            \n",
    "            obs_out_non_ep = obs_out.view(EP_LEN * BATCH_SIZE,\n",
    "                                          obs_out.size(2), obs_out.size(3), obs_out.size(4))\n",
    "            # draw real observations for D training\n",
    "            draw = np.random.choice(EP_LEN * BATCH_SIZE, size=GAN_BATCH_SIZE, replace=False)\n",
    "            obs_d = obs_out_non_ep[draw, ...]\n",
    "            \n",
    "            # draw states for D training\n",
    "            draw = np.random.choice(EP_LEN * BATCH_SIZE, size=GAN_BATCH_SIZE, replace=False)\n",
    "            states_d = states[draw, ...]\n",
    "            \n",
    "#             obs_out_non_ep = obs_out_non_ep.unfold(0, 1, (EP_LEN*BATCH_SIZE)//GAN_BATCH_SIZE).squeeze(-1)\n",
    "#             states_non_ep = states.unfold(0, 1, (EP_LEN*BATCH_SIZE)//GAN_BATCH_SIZE).squeeze(-1)\n",
    "\n",
    "            out_D_real = net.D(obs_d)\n",
    "            err_D_real = criterion_gan(out_D_real, label)\n",
    "            losses.append(err_D_real)\n",
    "        \n",
    "#             err_D_real.backward()\n",
    "            # D_x = out_D_real.data.mean()\n",
    "\n",
    "            # print('out_D_real', out_D_real.data)\n",
    "            # print('err_D_real', err_D_real.data[0])\n",
    "\n",
    "            # train discriminator with fake data\n",
    "            noise.data.normal_(0, 1)\n",
    "            obs_sample = net.G(noise, states_d)\n",
    "            obs_sample = net.decoder(obs_sample)\n",
    "            label.data.fill_(fake_label)\n",
    "            out_D_fake = net.D(obs_sample.detach())\n",
    "#             print(out_D_fake.size(), out_D_real.size())\n",
    "            err_D_fake = criterion_gan(out_D_fake, label)\n",
    "            losses.append(err_D_fake)\n",
    "            \n",
    "#             err_D_fake.backward()\n",
    "            # D_G_z1 = out_D_fake.data.mean()\n",
    "\n",
    "            # print('out_D_fake', out_D_fake.data)\n",
    "            # print('err_D_fake', err_D_fake.data[0])\n",
    "\n",
    "            err_D = (err_D_fake + err_D_real)/2\n",
    "#             optimiser_d.step()\n",
    "\n",
    "            for _ in range(1):\n",
    "                # train generator using discriminator\n",
    "                net.zero_grad()\n",
    "\n",
    "                # draw states for G training\n",
    "                draw = np.random.choice(EP_LEN * BATCH_SIZE, size=GAN_BATCH_SIZE, replace=False)\n",
    "                states_g = states[draw, ...]\n",
    "\n",
    "                noise.data.normal_(0, 1)\n",
    "                obs_sample = net.G(noise, states_g.detach())\n",
    "                obs_sample = net.decoder(obs_sample)\n",
    "\n",
    "                label.data.fill_(real_label)\n",
    "                out_D_fake = net.D(obs_sample)\n",
    "                # print('out d fake', out_D_fake)\n",
    "                err_G = criterion_gan(out_D_fake, label)\n",
    "                losses.append(err_G)\n",
    "                \n",
    "#                 err_G.backward()\n",
    "                # D_G_z2 = out_D_fake.data.mean()\n",
    "#                 optimiser_g.step()\n",
    "            \n",
    "#             postfix['g train loss'] = err_G.data[0]\n",
    "            postfix['d train loss'] = err_D.data[0]\n",
    "\n",
    "            if update % 100 == 0:\n",
    "#                 print(obs_out_non_ep.size())\n",
    "                vutils.save_image(obs_d.data,\n",
    "                        '%s/real_samples.png' % EXP_FOLDER,\n",
    "                        normalize=True)\n",
    "#                 obs_sample = net.G(fixed_noise, fixed_bs_noise)\n",
    "                obs_sample = net.G(fixed_noise, states_g)\n",
    "                \n",
    "                obs_sample = net.decoder(obs_sample)\n",
    "                vutils.save_image(obs_sample.data,\n",
    "                        '%s/fake_samples_epoch_%03d.png' % (EXP_FOLDER, epoch),\n",
    "                        normalize=False)\n",
    "#                 obs_recon = net.decoder(fixed_bs_noise)\n",
    "#                 vutils.save_image(obs_recon.data,\n",
    "#                         '%s/expectation_samples_epoch_%03d.png' % (EXP_FOLDER, epoch),\n",
    "#                         normalize=False)\n",
    "\n",
    "        if train_av is True:\n",
    "            for _ in range(1):\n",
    "                net.zero_grad()\n",
    "                # train generator using averaging\n",
    "                # draw random states\n",
    "                draw = np.random.choice(EP_LEN * BATCH_SIZE, size=1, replace=False)\n",
    "                states_av = states[draw, ...]\n",
    "    #             state = states[50:51, ...]\n",
    "    #             print('state size', states_av.size())\n",
    "                states_av = states_av.expand(AVERAGING_BATCH_SIZE, -1)\n",
    "    #             print('state size', states_av.size())\n",
    "                # get corresponding observation expectation\n",
    "        \n",
    "#               this helped a lot on gan (not surprising?)\n",
    "#                 obs_exp = obs_out_non_ep[draw, ...]\n",
    "\n",
    "#               this is what was intended...\n",
    "                obs_exp = obs_expectation.view(EP_LEN * BATCH_SIZE,\n",
    "                                          obs_out.size(2), obs_out.size(3), obs_out.size(4))\n",
    "                obs_exp = obs_exp[draw, ...]\n",
    "    #             print('obs size', obs_exp.size())\n",
    "\n",
    "                # generate samples from state\n",
    "                averaging_noise.data.normal_(0, 1)\n",
    "                # is detaching here needed? maybe state propagation should learn from generation?\n",
    "#                 n_samples = net.G(averaging_noise, states_av)\n",
    "                n_samples = net.G(averaging_noise, states_av.detach())\n",
    "                \n",
    "                n_samples = net.decoder(n_samples)\n",
    "                # print('samples size', n_samples.size())\n",
    "\n",
    "                sample_av = n_samples.mean(dim=0)\n",
    "                sample_av = sample_av.unsqueeze(0)\n",
    "                \n",
    "                # print('samples av size', sample_av.size())\n",
    "                # print('obs_exp size', obs_exp.size())\n",
    "\n",
    "                err_sum = criterion_gen_averaged(sample_av, obs_exp.detach())\n",
    "                losses.append(err_sum)\n",
    "#                 err_sum.backward()\n",
    "                \n",
    "                # also reward realism\n",
    "#                 label.data.fill_(real_label)\n",
    "#                 out_D_fake = net.D(n_samples)\n",
    "#                 # print('out d fake', out_D_fake)\n",
    "#                 err_G = criterion_gan(out_D_fake, label)\n",
    "#                 err_G.backward(retain_graph=True)\n",
    "                \n",
    "#                 optimiser_sum.step()\n",
    "                    \n",
    "    \n",
    "            postfix['g train loss'] = err_G.data[0]\n",
    "            postfix['sum train loss'] = err_sum.data[0]\n",
    "           \n",
    "            if update % 10 == 0:\n",
    "                sample_mixture = sample_av.data.cpu().numpy()\n",
    "                observation_belief = obs_exp.data.cpu().numpy()\n",
    "                joint = np.concatenate((observation_belief, sample_mixture), axis=-2)\n",
    "                joint = np.expand_dims(joint, axis=0)\n",
    "                my_utils.batch_to_sequence(joint, fpath='%s/training_sum_%03d.gif' % (EXP_FOLDER, epoch))\n",
    "\n",
    "        if update % 500 == 0:\n",
    "            recon_ims = obs_expectation.data.cpu().numpy()\n",
    "            target_ims = obs_out.data.cpu().numpy()\n",
    "            joint = np.concatenate((target_ims, recon_ims), axis=-2)\n",
    "            my_utils.batch_to_sequence(joint, fpath='%s/training_recon_%03d.gif' % (EXP_FOLDER, epoch))\n",
    "\n",
    "        if update % 100 == 0:\n",
    "            batch = data_test.get_batch_episodes()\n",
    "            masked = mask_percepts(batch, p=P_NO_OBS)\n",
    "            # masked = mask_percepts(batch, p=1)\n",
    "\n",
    "            masked = masked.transpose((1, 0, 4, 2, 3))\n",
    "            masked = torch.FloatTensor(masked)\n",
    "            obs_in.data.copy_(masked)\n",
    "\n",
    "            batch = batch.transpose((1, 0, 4, 2, 3))\n",
    "            batch = torch.FloatTensor(batch)\n",
    "            obs_out.data.copy_(batch)\n",
    "\n",
    "            states = net.bs_prop(obs_in)\n",
    "            obs_expectation = net.decoder(states.view(EP_LEN * BATCH_SIZE, -1))\n",
    "            obs_expectation = obs_expectation.view(obs_in.size())\n",
    "            err_pae = criterion_pae(obs_expectation, obs_out)\n",
    "            postfix['pae valid loss'] = err_pae.data[0]\n",
    "\n",
    "        if update % 500 == 0:\n",
    "            recon_ims = obs_expectation.data.cpu().numpy()\n",
    "            target_ims = obs_out.data.cpu().numpy()\n",
    "            joint = np.concatenate((target_ims, recon_ims), axis=-2)\n",
    "            my_utils.batch_to_sequence(joint, fpath='%s/valid_recon_%03d.gif' % (EXP_FOLDER, epoch))\n",
    "\n",
    "        sum(losses).backward()\n",
    "#         optimiser_sum.step()\n",
    "        optimiser_g.step()    \n",
    "        \n",
    "        bar.set_postfix(**postfix)\n",
    "\n",
    "    # do checkpointing\n",
    "    torch.save(net.state_dict(), '%s/paegan_epoch_%d.pth' % (EXP_FOLDER, epoch))\n",
    "\n"
   ]
  },
  {
   "cell_type": "code",
   "execution_count": null,
   "metadata": {
    "collapsed": true
   },
   "outputs": [],
   "source": []
  },
  {
   "cell_type": "code",
   "execution_count": null,
   "metadata": {
    "collapsed": true
   },
   "outputs": [],
   "source": []
  },
  {
   "cell_type": "code",
   "execution_count": null,
   "metadata": {
    "collapsed": true
   },
   "outputs": [],
   "source": []
  },
  {
   "cell_type": "code",
   "execution_count": 5,
   "metadata": {
    "collapsed": true
   },
   "outputs": [],
   "source": [
    "start_at_epoch = 20"
   ]
  },
  {
   "cell_type": "code",
   "execution_count": 6,
   "metadata": {
    "collapsed": false
   },
   "outputs": [
    {
     "name": "stdout",
     "output_type": "stream",
     "text": [
      "/home/ira/code/projects/nn-play\n"
     ]
    }
   ],
   "source": [
    "%cd ~/code/projects/nn-play/\n",
    "import numpy as np\n",
    "import matplotlib.pyplot as plt\n",
    "import imageio\n",
    "import copy\n",
    "import torch\n",
    "from IPython.display import HTML\n",
    "%matplotlib inline\n",
    "import warnings\n",
    "# warnings.filterwarnings('ignore')\n",
    "from balls_sim import World, DEFAULT_SIM_CONFIG\n",
    "from particle_filter import ParticleFilter  # see here for implementational details\n",
    "from torch_nets import *\n",
    "gif_counter = 0"
   ]
  },
  {
   "cell_type": "code",
   "execution_count": 7,
   "metadata": {
    "collapsed": false
   },
   "outputs": [],
   "source": [
    "pae = VisualPAEGAN()\n",
    "pae.load_state_dict(torch.load('experiments/paegan-state/paegan_epoch_{}.pth'.format(start_at_epoch)))"
   ]
  },
  {
   "cell_type": "code",
   "execution_count": 9,
   "metadata": {
    "collapsed": false
   },
   "outputs": [
    {
     "name": "stdout",
     "output_type": "stream",
     "text": [
      "size torch.Size([260, 1, 256])\n",
      "size torch.Size([260, 1, 1, 28, 28])\n"
     ]
    },
    {
     "name": "stderr",
     "output_type": "stream",
     "text": [
      "/home/ira/code/envs/flexi/lib/python3.5/site-packages/imageio/core/util.py:78: UserWarning: Lossy conversion from float32 to uint8, range [0, 1]\n",
      "  dtype_str, out_type.__name__))\n",
      "/home/ira/code/envs/flexi/lib/python3.5/site-packages/imageio/core/util.py:78: UserWarning: Lossy conversion from float64 to uint8, range [0, 1]\n",
      "  dtype_str, out_type.__name__))\n"
     ]
    },
    {
     "name": "stdout",
     "output_type": "stream",
     "text": [
      "Uninformative baseline level at 0.012005551718175411\n"
     ]
    },
    {
     "data": {
      "text/html": [
       "\n",
       "<table>\n",
       "  <tr>\n",
       "    <th>Ground truth</th>\n",
       "    <th>Particle Filter</th> \n",
       "    <th>PF Sample</th> \n",
       "    <th>Predictive AE</th>\n",
       "    <th>PAE Sample</th>\n",
       "  </tr>\n",
       "  <tr>\n",
       "    <td><img src=\"../ims/2-percept.gif\" width=\"140\"></td>\n",
       "    <td><img src=\"../ims/2-pf_belief.gif\" width=\"140\"></td> \n",
       "    <td><img src=\"../ims/2-pf_sample.gif\" width=\"140\"></td>\n",
       "    <td><img src=\"../ims/2-pae_belief.gif\" width=\"140\"></td>\n",
       "    <td><img src=\"../ims/2-pae_sample.gif\" width=\"140\"></td>\n",
       "    \n",
       "  </tr>\n",
       "\n",
       "</table>"
      ],
      "text/plain": [
       "<IPython.core.display.HTML object>"
      ]
     },
     "execution_count": 9,
     "metadata": {},
     "output_type": "execute_result"
    },
    {
     "data": {
      "image/png": "[encoded data removed]",
      "text/plain": [
       "<matplotlib.figure.Figure at 0x7f182e5239b0>"
      ]
     },
     "metadata": {},
     "output_type": "display_data"
    }
   ],
   "source": [
    "conf = copy.deepcopy(DEFAULT_SIM_CONFIG)\n",
    "conf['radius'] = 2.0\n",
    "conf['dynamics_noise'] = 0.01\n",
    "conf['measurement_noise'] = 0.0003\n",
    "conf['n_bodies'] = 1\n",
    "\n",
    "w = World(**conf)\n",
    "gif_counter += 1\n",
    "\n",
    "pf = ParticleFilter(conf, n_particles=100)\n",
    "\n",
    "pos = [body.pos for body in w.bodies]\n",
    "vel = [body.vel for body in w.bodies]\n",
    "pf.warm_start(pos, vel=vel)\n",
    "\n",
    "ims = []\n",
    "\n",
    "ims_percept = []\n",
    "ims_pf_belief = []\n",
    "ims_pf_sample = []\n",
    "\n",
    "loss_mse = []\n",
    "loss_sample_mse = []\n",
    "loss_mae = []\n",
    "\n",
    "RUN_LENGTH = 260\n",
    "\n",
    "for i in range(RUN_LENGTH):\n",
    "    if i < 8:\n",
    "        measures = [body.pos for body in w.bodies]\n",
    "        pf.update(measures)\n",
    "        pf.resample()\n",
    "    \n",
    "    w.run()\n",
    "    pf.predict()\n",
    "    \n",
    "    percept = w.draw()\n",
    "    belief = pf.draw()[:,:,0]\n",
    "    sample = pf.parts[np.random.randint(pf.n)].draw()\n",
    "    \n",
    "    loss_mse.append(np.mean((percept-belief)**2))\n",
    "    loss_sample_mse.append(np.mean((percept-sample)**2))\n",
    "    \n",
    "    ims_percept.append(percept)\n",
    "    ims_pf_belief.append(belief)\n",
    "    ims_pf_sample.append(sample)\n",
    "\n",
    "    \n",
    "# run predictions with the network\n",
    "x = np.array(ims_percept)\n",
    "x = x.reshape((1, RUN_LENGTH, 28, 28, 1))\n",
    "x[:,8:, ...] = 0\n",
    "# x[:,:100, ...] = 0\n",
    "# x[:,101:, ...] = 0\n",
    "\n",
    "x = x.transpose((1, 0, 4, 2, 3))\n",
    "x = torch.FloatTensor(x)\n",
    "# x = x.cuda()\n",
    "x = Variable(x)\n",
    "states = pae.bs_prop(x)\n",
    "\n",
    "# create expected observations\n",
    "obs_expectation = pae.decoder(states)\n",
    "obs_expectation = obs_expectation.view(x.size())\n",
    "\n",
    "obs_expectation = obs_expectation.data.cpu().numpy()\n",
    "obs_expectation = obs_expectation.reshape((RUN_LENGTH, 28, 28))\n",
    "\n",
    "\n",
    "# create observation samples (constant or varying noise accross time)\n",
    "noise = Variable(torch.FloatTensor(RUN_LENGTH, N_SIZE))\n",
    "# noise = Variable(torch.FloatTensor(1, N_SIZE))\n",
    "noise.data.normal_(0, 1)\n",
    "# noise = noise.expand(RUN_LENGTH, N_SIZE)\n",
    "\n",
    "print('size', states.size())\n",
    "#states_non_ep = states.unfold(0, 1, (EP_LEN*BATCH_SIZE)//GAN_BATCH_SIZE).squeeze(-1)\n",
    "\n",
    "pae_samples = pae.G(noise, states.squeeze_(1))\n",
    "pae_samples = pae.decoder(pae_samples)\n",
    "pae_samples = pae_samples.view(x.size())\n",
    "print('size', pae_samples.size())\n",
    "\n",
    "pae_samples = pae_samples.data.cpu().numpy()\n",
    "pae_samples = pae_samples.reshape((RUN_LENGTH, 28, 28))\n",
    "\n",
    "pae_ims = []\n",
    "pae_samples_ims = []\n",
    "loss_pae = []\n",
    "for i in range(RUN_LENGTH):\n",
    "    pae_ims.append(obs_expectation[i, ...])\n",
    "    pae_samples_ims.append(pae_samples[i, ...])\n",
    "    loss_pae.append(np.mean((ims_percept[i]-obs_expectation[i, ...])**2))\n",
    "\n",
    "DURATION = 0.2\n",
    "imageio.mimsave(\"ims/{}-percept.gif\".format(gif_counter), ims_percept, duration=DURATION)\n",
    "imageio.mimsave(\"ims/{}-pf_belief.gif\".format(gif_counter), ims_pf_belief, duration=DURATION)\n",
    "imageio.mimsave(\"ims/{}-pf_sample.gif\".format(gif_counter), ims_pf_sample, duration=DURATION)\n",
    "imageio.mimsave(\"ims/{}-pae_belief.gif\".format(gif_counter), pae_ims, duration=DURATION)\n",
    "imageio.mimsave(\"ims/{}-pae_sample.gif\".format(gif_counter), pae_samples_ims, duration=DURATION)\n",
    "\n",
    "ims_ar = np.array(ims_percept)\n",
    "av_pixel_intensity = np.mean(ims_ar)\n",
    "baseline_level = np.mean((ims_ar-av_pixel_intensity)**2)\n",
    "baseline = np.ones(len(loss_mse)) * baseline_level\n",
    "print(\"Uninformative baseline level at {}\".format(baseline_level))\n",
    "\n",
    "plt.plot(loss_mse)\n",
    "plt.plot(loss_pae)\n",
    "plt.plot(baseline, 'g--')\n",
    "\n",
    "plt.title(\"Image reconstruction loss vs timestep\")\n",
    "plt.ylabel(\"loss (MSE)\")\n",
    "plt.xlabel(\"timestep\")\n",
    "plt.legend([\"PF\", \"PAE\"])\n",
    "\n",
    "HTML(\"\"\"\n",
    "<table>\n",
    "  <tr>\n",
    "    <th>Ground truth</th>\n",
    "    <th>Particle Filter</th> \n",
    "    <th>PF Sample</th> \n",
    "    <th>Predictive AE</th>\n",
    "    <th>PAE Sample</th>\n",
    "  </tr>\n",
    "  <tr>\n",
    "    <td><img src=\"../ims/{0}-percept.gif\" width=\"140\"></td>\n",
    "    <td><img src=\"../ims/{0}-pf_belief.gif\" width=\"140\"></td> \n",
    "    <td><img src=\"../ims/{0}-pf_sample.gif\" width=\"140\"></td>\n",
    "    <td><img src=\"../ims/{0}-pae_belief.gif\" width=\"140\"></td>\n",
    "    <td><img src=\"../ims/{0}-pae_sample.gif\" width=\"140\"></td>\n",
    "    \n",
    "  </tr>\n",
    "\n",
    "</table>\"\"\".format(gif_counter))"
   ]
  },
  {
   "cell_type": "code",
   "execution_count": 38,
   "metadata": {
    "collapsed": false
   },
   "outputs": [],
   "source": [
    "\n",
    "x = Variable(torch.randn(1, IM_CHANNELS, IM_WIDTH, IM_WIDTH))\n",
    "# x.fill_(0)\n",
    "x.data.copy_(torch.FloatTensor(ims_percept[100]))\n",
    "code = pae.bs_prop.encoder(x)"
   ]
  },
  {
   "cell_type": "code",
   "execution_count": 39,
   "metadata": {
    "collapsed": false
   },
   "outputs": [
    {
     "data": {
      "text/plain": [
       "[<matplotlib.lines.Line2D at 0x7f51d6332d68>]"
      ]
     },
     "execution_count": 39,
     "metadata": {},
     "output_type": "execute_result"
    },
    {
     "data": {
      "image/png": "[encoded data removed]",
      "text/plain": [
       "<matplotlib.figure.Figure at 0x7f51d84f1eb8>"
      ]
     },
     "metadata": {},
     "output_type": "display_data"
    },
    {
     "name": "stderr",
     "output_type": "stream",
     "text": [
      "\r",
      "          \r",
      "  1%|          | 9/1000 [00:20<36:44,  2.22s/it, d train loss=7.14, epoch=[35/225], g train loss=0.00112, pae train loss=0.00765, pae valid loss=0.00957, sum train loss=0.0214]"
     ]
    }
   ],
   "source": [
    "plt.plot(code.data.squeeze())"
   ]
  },
  {
   "cell_type": "code",
   "execution_count": 92,
   "metadata": {
    "collapsed": false
   },
   "outputs": [
    {
     "data": {
      "text/plain": [
       "torch.FloatTensor"
      ]
     },
     "execution_count": 92,
     "metadata": {},
     "output_type": "execute_result"
    }
   ],
   "source": []
  }
 ],
 "metadata": {
  "kernelspec": {
   "display_name": "Python 3",
   "language": "python",
   "name": "python3"
  },
  "language_info": {
   "codemirror_mode": {
    "name": "ipython",
    "version": 3
   },
   "file_extension": ".py",
   "mimetype": "text/x-python",
   "name": "python",
   "nbconvert_exporter": "python",
   "pygments_lexer": "ipython3",
   "version": "3.5.2"
  },
  "latex_envs": {
   "LaTeX_envs_menu_present": true,
   "autocomplete": true,
   "bibliofile": "biblio.bib",
   "cite_by": "apalike",
   "current_citInitial": 1,
   "eqLabelWithNumbers": true,
   "eqNumInitial": 1,
   "hotkeys": {
    "equation": "Ctrl-E",
    "itemize": "Ctrl-I"
   },
   "labels_anchors": false,
   "latex_user_defs": false,
   "report_style_numbering": false,
   "user_envs_cfg": false
  }
 },
 "nbformat": 4,
 "nbformat_minor": 2
}
