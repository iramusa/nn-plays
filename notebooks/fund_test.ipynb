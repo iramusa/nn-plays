{
 "cells": [
  {
   "cell_type": "code",
   "execution_count": 1,
   "metadata": {
    "collapsed": true
   },
   "outputs": [],
   "source": [
    "import numpy as np"
   ]
  },
  {
   "cell_type": "code",
   "execution_count": 21,
   "metadata": {
    "collapsed": false
   },
   "outputs": [
    {
     "name": "stdout",
     "output_type": "stream",
     "text": [
      "annual gain: 1.0\n",
      "end gain: 0.9816\n"
     ]
    }
   ],
   "source": [
    "level_0 = 40\n",
    "level_f = 40\n",
    "years = 5\n",
    "annual_cost = 0.0065 + 0.0094 + 0.0025\n",
    "\n",
    "annual_gain = (level_f/level_0)**(1/years)\n",
    "end_gain = annual_gain - annual_cost\n",
    "print(\"annual gain:\", annual_gain)\n",
    "print(\"end gain:\", end_gain)\n",
    "\n"
   ]
  },
  {
   "cell_type": "code",
   "execution_count": 16,
   "metadata": {
    "collapsed": true
   },
   "outputs": [],
   "source": [
    "annual_gain = 0.0543\n",
    "annual_cost = 0.0065 + 0.0094 + 0.0025\n"
   ]
  },
  {
   "cell_type": "code",
   "execution_count": 17,
   "metadata": {
    "collapsed": false
   },
   "outputs": [
    {
     "name": "stdout",
     "output_type": "stream",
     "text": [
      "annual gain: 0.0543\n",
      "end gain: 0.0359\n"
     ]
    }
   ],
   "source": [
    "end_gain = annual_gain - annual_cost\n",
    "print(\"annual gain:\", annual_gain)\n",
    "print(\"end gain:\", end_gain)\n",
    "\n"
   ]
  },
  {
   "cell_type": "code",
   "execution_count": 20,
   "metadata": {
    "collapsed": false
   },
   "outputs": [
    {
     "data": {
      "text/plain": [
       "5.270478407714443"
      ]
     },
     "execution_count": 20,
     "metadata": {},
     "output_type": "execute_result"
    }
   ],
   "source": [
    "(annual_gain-1)/annual_cost"
   ]
  }
 ],
 "metadata": {
  "kernelspec": {
   "display_name": "Python 3",
   "language": "python",
   "name": "python3"
  },
  "language_info": {
   "codemirror_mode": {
    "name": "ipython",
    "version": 3
   },
   "file_extension": ".py",
   "mimetype": "text/x-python",
   "name": "python",
   "nbconvert_exporter": "python",
   "pygments_lexer": "ipython3",
   "version": "3.5.2"
  }
 },
 "nbformat": 4,
 "nbformat_minor": 2
}
