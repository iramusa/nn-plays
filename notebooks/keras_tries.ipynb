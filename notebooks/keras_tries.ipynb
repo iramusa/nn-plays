{
 "cells": [
  {
   "cell_type": "code",
   "execution_count": null,
   "metadata": {
    "collapsed": false
   },
   "outputs": [],
   "source": [
    "%cd ~/code/projects/nn-play/\n",
    "\n",
    "import keras \n",
    "from keras.models import Model, Sequential\n",
    "from keras.layers import Input, Dense\n",
    "from keras.optimizers import Adam, Adadelta, RMSprop, SGD\n",
    "from keras.layers import Input, Dense, Convolution2D, Deconvolution2D, MaxPooling2D,\\\n",
    "    UpSampling2D, Merge, LSTM, Flatten, ZeroPadding2D, Reshape, BatchNormalization, Dropout\n",
    "from keras.layers.wrappers import TimeDistributed\n",
    "\n",
    "from structured_container import DataContainer\n",
    "\n",
    "import tqdm\n",
    "from tqdm import tqdm_notebook\n",
    "\n",
    "import matplotlib.pyplot as plt\n",
    "%matplotlib inline\n",
    "import numpy as np"
   ]
  },
  {
   "cell_type": "code",
   "execution_count": null,
   "metadata": {
    "collapsed": true
   },
   "outputs": [],
   "source": [
    "IM_WIDTH = 28\n",
    "IM_HEIGHT = 28\n",
    "IM_CHANNELS = 1\n",
    "\n",
    "SERIES_SHIFT = 1\n",
    "EP_LEN = 100 - SERIES_SHIFT\n",
    "BATCH_SIZE = 32\n",
    "\n",
    "V_SIZE = 128"
   ]
  },
  {
   "cell_type": "code",
   "execution_count": null,
   "metadata": {
    "collapsed": false
   },
   "outputs": [],
   "source": [
    "# predictive ae\n",
    "\n",
    "input_im = Input(shape=(IM_WIDTH, IM_HEIGHT, IM_CHANNELS))\n",
    "h = Convolution2D(16, 5, 5, subsample=(2,2), activation='relu', border_mode='same')(input_im)\n",
    "h = Convolution2D(8, 3, 3, subsample=(2,2), activation='relu', border_mode='same')(h)\n",
    "h = Flatten()(h)\n",
    "v = Dense(V_SIZE, activation='relu')(h)\n",
    "\n",
    "enc = Model(input_im, v)\n",
    "enc.summary();"
   ]
  },
  {
   "cell_type": "code",
   "execution_count": null,
   "metadata": {
    "collapsed": false
   },
   "outputs": [],
   "source": [
    "input_v = Input(shape=(V_SIZE,))\n",
    "\n",
    "h = Dense(8*7*7, activation='relu')(input_v)\n",
    "h = Reshape((7,7,8))(h)\n",
    "h = UpSampling2D((2,2))(h)\n",
    "h = Convolution2D(16, 3, 3, activation='relu', border_mode='same')(h)\n",
    "h = UpSampling2D((2,2))(h)\n",
    "output_im = Convolution2D(1, 5, 5, activation='sigmoid', border_mode='same')(h)\n",
    "\n",
    "# output_im\n",
    "\n",
    "dec = Model(input_v, output_im)\n",
    "dec.summary();"
   ]
  },
  {
   "cell_type": "code",
   "execution_count": null,
   "metadata": {
    "collapsed": false
   },
   "outputs": [],
   "source": [
    "input_im = Input(shape=(IM_WIDTH, IM_HEIGHT, IM_CHANNELS))\n",
    "v = enc(input_im)\n",
    "output_im = dec(v)\n",
    "\n",
    "ae = Model(input_im, output_im)\n",
    "ae.summary();\n",
    "ae.compile(optimizer=Adam(lr=0.0002), loss='mse')"
   ]
  },
  {
   "cell_type": "code",
   "execution_count": null,
   "metadata": {
    "collapsed": false
   },
   "outputs": [],
   "source": [
    "pred_ae = Sequential()\n",
    "pred_ae.add(TimeDistributed(enc, input_shape=((EP_LEN-SERIES_SHIFT, IM_WIDTH, IM_HEIGHT, IM_CHANNELS))))\n",
    "pred_ae.add(LSTM(V_SIZE, input_shape=(EP_LEN, V_SIZE), return_sequences=True))\n",
    "\n",
    "# pred_ae.add(dec)\n",
    "pred_ae.add(TimeDistributed(dec, input_shape=((EP_LEN, V_SIZE))))\n",
    "\n",
    "# predae = Model(input_series, v_series)\n",
    "pred_ae.summary();\n",
    "pred_ae.compile(optimizer=Adam(lr=0.0002), loss='mse')"
   ]
  },
  {
   "cell_type": "code",
   "execution_count": null,
   "metadata": {
    "collapsed": true
   },
   "outputs": [],
   "source": [
    "images_train = DataContainer('data-balls/balls-train.pt', batch_size=32,\n",
    "                          ep_len_read=EP_LEN)\n",
    "images_valid = DataContainer('data-balls/balls-valid.pt', batch_size=32,\n",
    "                          ep_len_read=EP_LEN)\n"
   ]
  },
  {
   "cell_type": "code",
   "execution_count": null,
   "metadata": {
    "collapsed": false
   },
   "outputs": [],
   "source": [
    "for p in np.linspace(0.1, 0.9, 10):\n",
    "#     for j in tqdm.tqdm(range(200)):\n",
    "    for j in range(500):\n",
    "        x = images_train.get_n_random_episodes(32)\n",
    "        x_noised = np.copy(x)\n",
    "        for_removal = np.random.random(EP_LEN) < p\n",
    "        for_removal[0:15] = False\n",
    "        x_noised[:, for_removal] = 0\n",
    "        pred_ae.train_on_batch(x_noised[:,0:-SERIES_SHIFT,...], x[:,SERIES_SHIFT:,...])\n",
    "\n",
    "        \n",
    "    x = images_valid.get_n_random_episodes(32)\n",
    "    x_noised = np.copy(x)\n",
    "    for_removal = np.random.random(EP_LEN) < p\n",
    "    for_removal[0:15] = False\n",
    "    x_noised[:, for_removal] = 0\n",
    "    test_perf = pred_ae.test_on_batch(x_noised[:,0:-SERIES_SHIFT,...], x[:,SERIES_SHIFT:,...])\n",
    "    print('p', p)\n",
    "    print('test perf', test_perf)\n",
    "    \n",
    "    "
   ]
  },
  {
   "cell_type": "code",
   "execution_count": null,
   "metadata": {
    "collapsed": false
   },
   "outputs": [],
   "source": [
    "p = 0.7\n",
    "for j in tqdm.tqdm(range(2000)):\n",
    "    x = images_train.get_n_random_episodes(32)\n",
    "    x_noised = np.copy(x)\n",
    "    for_removal = np.random.random(EP_LEN) < p\n",
    "    for_removal[0:15] = False\n",
    "    x_noised[:, for_removal] = 0\n",
    "    pred_ae.train_on_batch(x_noised[:,0:-SERIES_SHIFT,...], x[:,SERIES_SHIFT:,...])\n",
    "\n",
    "\n",
    "x = images_valid.get_n_random_episodes(32)\n",
    "x_noised = np.copy(x)\n",
    "for_removal = np.random.random(EP_LEN) < p\n",
    "for_removal[0:15] = False\n",
    "x_noised[:, for_removal] = 0\n",
    "test_perf = pred_ae.test_on_batch(x_noised[:,0:-SERIES_SHIFT,...], x[:,SERIES_SHIFT:,...])\n",
    "print('p', p)\n",
    "print('test perf', test_perf)\n",
    "    "
   ]
  },
  {
   "cell_type": "code",
   "execution_count": null,
   "metadata": {
    "collapsed": false
   },
   "outputs": [],
   "source": [
    "x = images_valid.get_n_random_episodes(32)\n",
    "x_noised = np.copy(x)\n",
    "for_removal = np.random.random(EP_LEN) < p\n",
    "for_removal[0:15] = False\n",
    "x_noised[:, for_removal] = 0\n",
    "test_perf = pred_ae.test_on_batch(x_noised[:,0:-SERIES_SHIFT,...], x[:,SERIES_SHIFT:,...])\n",
    "print('p', p)\n",
    "print('test perf', test_perf)"
   ]
  },
  {
   "cell_type": "code",
   "execution_count": null,
   "metadata": {
    "collapsed": false
   },
   "outputs": [],
   "source": [
    "# for i in tqdm.tqdm(range(2000)):\n",
    "#    x = images_train.get_n_random_episodes(32)\n",
    "#    pred_ae.train_on_batch(x[:,0:-SERIES_SHIFT,...], x[:,SERIES_SHIFT:,...])"
   ]
  },
  {
   "cell_type": "code",
   "execution_count": null,
   "metadata": {
    "collapsed": false
   },
   "outputs": [],
   "source": [
    "x = images_valid.get_n_random_episodes(32)\n",
    "x_noised = np.copy(x)\n",
    "for_removal = np.random.random(EP_LEN) < 0.99\n",
    "for_removal[0:15] = False\n",
    "x_noised[:, for_removal] = 0\n",
    "pred_ae.test_on_batch(x_noised[:,0:-SERIES_SHIFT,...], x[:,SERIES_SHIFT:,...])\n",
    "# pred_ae.test_on_batch(x[:,0:-SERIES_SHIFT,...], x[:,SERIES_SHIFT:,...])"
   ]
  },
  {
   "cell_type": "code",
   "execution_count": null,
   "metadata": {
    "collapsed": false
   },
   "outputs": [],
   "source": [
    "# y = pred_ae.predict(x[:,0:-SERIES_SHIFT,...])\n",
    "y = pred_ae.predict(x_noised[:,0:-SERIES_SHIFT,...])\n",
    "i = SERIES_SHIFT"
   ]
  },
  {
   "cell_type": "code",
   "execution_count": null,
   "metadata": {
    "collapsed": false
   },
   "outputs": [],
   "source": [
    "# gif generation\n",
    "import imageio\n",
    "images = []\n",
    "for i in range(EP_LEN-SERIES_SHIFT):\n",
    "    im_true = x[0,i+SERIES_SHIFT,:,:,0]\n",
    "    im_noised = x_noised[0,i+SERIES_SHIFT,:,:,0]\n",
    "    im_gen = y[0,i,:,:,0]\n",
    "    im_diff = np.abs(im_true - im_gen)\n",
    "    glued = np.concatenate([im_true,\n",
    "                            im_gen,\n",
    "                            im_noised,\n",
    "                            im_diff],\n",
    "                           axis=1)\n",
    "# plt.imshow(glued, cmap='gray')\n",
    "    images.append(glued)\n",
    "imageio.mimsave('movie.gif', images)"
   ]
  },
  {
   "cell_type": "code",
   "execution_count": null,
   "metadata": {
    "collapsed": true
   },
   "outputs": [],
   "source": [
    "i=1"
   ]
  },
  {
   "cell_type": "code",
   "execution_count": null,
   "metadata": {
    "collapsed": false
   },
   "outputs": [],
   "source": [
    "i += 1\n",
    "plt.imshow(x[0,i,:,:,0], cmap='gray', vmin=0.0, vmax=1.0)"
   ]
  },
  {
   "cell_type": "code",
   "execution_count": null,
   "metadata": {
    "collapsed": false
   },
   "outputs": [],
   "source": [
    "plt.imshow(np.abs(x[0,i,:,:,0]-y[0,i-SERIES_SHIFT,:,:,0]), cmap='gray', vmin=0.0, vmax=1.0)"
   ]
  },
  {
   "cell_type": "code",
   "execution_count": null,
   "metadata": {
    "collapsed": false
   },
   "outputs": [],
   "source": [
    "plt.imshow(y[0,i-SERIES_SHIFT,:,:,0], cmap='gray', vmin=0.0, vmax=1.0)\n"
   ]
  },
  {
   "cell_type": "code",
   "execution_count": null,
   "metadata": {
    "collapsed": false
   },
   "outputs": [],
   "source": [
    "fpath = 'models/pred_ae_single_init.hdf5'\n",
    "pred_ae.save_weights(fpath)\n",
    "# pred_ae.load_weights(fpath)"
   ]
  },
  {
   "cell_type": "code",
   "execution_count": null,
   "metadata": {
    "collapsed": true
   },
   "outputs": [],
   "source": []
  },
  {
   "cell_type": "code",
   "execution_count": null,
   "metadata": {
    "collapsed": true
   },
   "outputs": [],
   "source": []
  },
  {
   "cell_type": "code",
   "execution_count": null,
   "metadata": {
    "collapsed": true
   },
   "outputs": [],
   "source": [
    "images_train = DataContainer('data-balls/balls-train.pt', batch_size=32,\n",
    "                          ep_len_read=EP_LEN)\n",
    "images_valid = DataContainer('data-balls/balls-valid.pt', batch_size=32,\n",
    "                          ep_len_read=EP_LEN)\n"
   ]
  },
  {
   "cell_type": "code",
   "execution_count": null,
   "metadata": {
    "collapsed": true
   },
   "outputs": [],
   "source": [
    "images_train.populate_images()"
   ]
  },
  {
   "cell_type": "code",
   "execution_count": null,
   "metadata": {
    "collapsed": false
   },
   "outputs": [],
   "source": [
    "x = images_train.get_batch_episodes()\n",
    "i = 0"
   ]
  },
  {
   "cell_type": "code",
   "execution_count": null,
   "metadata": {
    "collapsed": false
   },
   "outputs": [],
   "source": [
    "plt.imshow(x[0,i,:,:,0], cmap='gray', vmin=0.0, vmax=1.0)\n",
    "i += 1"
   ]
  }
 ],
 "metadata": {
  "kernelspec": {
   "display_name": "Python 3",
   "language": "python",
   "name": "python3"
  },
  "language_info": {
   "codemirror_mode": {
    "name": "ipython",
    "version": 3
   },
   "file_extension": ".py",
   "mimetype": "text/x-python",
   "name": "python",
   "nbconvert_exporter": "python",
   "pygments_lexer": "ipython3",
   "version": "3.5.2"
  }
 },
 "nbformat": 4,
 "nbformat_minor": 2
}
