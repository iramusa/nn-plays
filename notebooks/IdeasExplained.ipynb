{
 "cells": [
  {
   "cell_type": "markdown",
   "metadata": {},
   "source": [
    "# Learning to estimate world state"
   ]
  },
  {
   "cell_type": "markdown",
   "metadata": {},
   "source": [
    "Author: *Marian Andrecki*\n",
    "\n",
    "Contact: *marian.andrecki@gmail.com*"
   ]
  },
  {
   "cell_type": "markdown",
   "metadata": {
    "toc": true
   },
   "source": [
    "<h1>Table of Contents<span class=\"tocSkip\"></span></h1>\n",
    "<div class=\"toc\" style=\"margin-top: 1em;\"><ul class=\"toc-item\"><li><span><a href=\"#1-Introduction\" data-toc-modified-id=\"1-Introduction-1\"><span class=\"toc-item-num\">1&nbsp;&nbsp;</span>1 Introduction</a></span></li><li><span><a href=\"#2-Problem-statement\" data-toc-modified-id=\"2-Problem-statement-2\"><span class=\"toc-item-num\">2&nbsp;&nbsp;</span>2 Problem statement</a></span><ul class=\"toc-item\"><li><span><a href=\"#2.1-General-problem\" data-toc-modified-id=\"2.1-General-problem-2.1\"><span class=\"toc-item-num\">2.1&nbsp;&nbsp;</span>2.1 General problem</a></span></li><li><span><a href=\"#2.2-Different-tasks-for-agents\" data-toc-modified-id=\"2.2-Different-tasks-for-agents-2.2\"><span class=\"toc-item-num\">2.2&nbsp;&nbsp;</span>2.2 Different tasks for agents</a></span><ul class=\"toc-item\"><li><span><a href=\"#2.2.1-State-estimation\" data-toc-modified-id=\"2.2.1-State-estimation-2.2.1\"><span class=\"toc-item-num\">2.2.1&nbsp;&nbsp;</span>2.2.1 State estimation</a></span></li><li><span><a href=\"#2.2.2-Reinforcement-learning\" data-toc-modified-id=\"2.2.2-Reinforcement-learning-2.2.2\"><span class=\"toc-item-num\">2.2.2&nbsp;&nbsp;</span>2.2.2 Reinforcement learning</a></span></li><li><span><a href=\"#2.2.3-Predictive-learning\" data-toc-modified-id=\"2.2.3-Predictive-learning-2.2.3\"><span class=\"toc-item-num\">2.2.3&nbsp;&nbsp;</span>2.2.3 Predictive learning</a></span></li><li><span><a href=\"#(Extra)-2.2.4-Philosophy-of-science\" data-toc-modified-id=\"(Extra)-2.2.4-Philosophy-of-science-2.2.4\"><span class=\"toc-item-num\">2.2.4&nbsp;&nbsp;</span>(Extra) 2.2.4 Philosophy of science</a></span></li></ul></li><li><span><a href=\"#2.3-Dimensions-of-the-problem\" data-toc-modified-id=\"2.3-Dimensions-of-the-problem-2.3\"><span class=\"toc-item-num\">2.3&nbsp;&nbsp;</span>2.3 Dimensions of the problem</a></span><ul class=\"toc-item\"><li><span><a href=\"#2.3.1-Observability\" data-toc-modified-id=\"2.3.1-Observability-2.3.1\"><span class=\"toc-item-num\">2.3.1&nbsp;&nbsp;</span>2.3.1 Observability</a></span></li><li><span><a href=\"#2.3.2-Observation-noise-level\" data-toc-modified-id=\"2.3.2-Observation-noise-level-2.3.2\"><span class=\"toc-item-num\">2.3.2&nbsp;&nbsp;</span>2.3.2 Observation noise level</a></span></li><li><span><a href=\"#2.3.3-Process-stochasticity\" data-toc-modified-id=\"2.3.3-Process-stochasticity-2.3.3\"><span class=\"toc-item-num\">2.3.3&nbsp;&nbsp;</span>2.3.3 Process stochasticity</a></span></li><li><span><a href=\"#2.3.4-Process-complexity\" data-toc-modified-id=\"2.3.4-Process-complexity-2.3.4\"><span class=\"toc-item-num\">2.3.4&nbsp;&nbsp;</span>2.3.4 Process complexity</a></span></li><li><span><a href=\"#2.3.5-Agent's-structure\" data-toc-modified-id=\"2.3.5-Agent's-structure-2.3.5\"><span class=\"toc-item-num\">2.3.5&nbsp;&nbsp;</span>2.3.5 Agent's structure</a></span></li></ul></li><li><span><a href=\"#(Extra)-2.4-More-things-to-discuss\" data-toc-modified-id=\"(Extra)-2.4-More-things-to-discuss-2.4\"><span class=\"toc-item-num\">2.4&nbsp;&nbsp;</span>(Extra) 2.4 More things to discuss</a></span><ul class=\"toc-item\"><li><span><a href=\"#2.4.1-Is-predicting-worth-it?\" data-toc-modified-id=\"2.4.1-Is-predicting-worth-it?-2.4.1\"><span class=\"toc-item-num\">2.4.1&nbsp;&nbsp;</span>2.4.1 Is predicting worth it?</a></span></li><li><span><a href=\"#2.4.2-Belief-propagation-is-more-difficult-than-simulation\" data-toc-modified-id=\"2.4.2-Belief-propagation-is-more-difficult-than-simulation-2.4.2\"><span class=\"toc-item-num\">2.4.2&nbsp;&nbsp;</span>2.4.2 Belief propagation is more difficult than simulation</a></span></li></ul></li></ul></li><li><span><a href=\"#3-Learning-to-represent-and-track-world-state\" data-toc-modified-id=\"3-Learning-to-represent-and-track-world-state-3\"><span class=\"toc-item-num\">3&nbsp;&nbsp;</span>3 Learning to represent and track world state</a></span><ul class=\"toc-item\"><li><span><a href=\"#3.1-Simulated-environment\" data-toc-modified-id=\"3.1-Simulated-environment-3.1\"><span class=\"toc-item-num\">3.1&nbsp;&nbsp;</span>3.1 Simulated environment</a></span></li><li><span><a href=\"#3.2-Baseline-state-estimator----Particle-filter-(Sequential-Monte-Carlo)\" data-toc-modified-id=\"3.2-Baseline-state-estimator----Particle-filter-(Sequential-Monte-Carlo)-3.2\"><span class=\"toc-item-num\">3.2&nbsp;&nbsp;</span>3.2 Baseline state estimator -- Particle filter (Sequential Monte Carlo)</a></span></li><li><span><a href=\"#3.3-Predictive-Autoencoder\" data-toc-modified-id=\"3.3-Predictive-Autoencoder-3.3\"><span class=\"toc-item-num\">3.3&nbsp;&nbsp;</span>3.3 Predictive Autoencoder</a></span><ul class=\"toc-item\"><li><span><a href=\"#3.3.1-Network-architecture\" data-toc-modified-id=\"3.3.1-Network-architecture-3.3.1\"><span class=\"toc-item-num\">3.3.1&nbsp;&nbsp;</span>3.3.1 Network architecture</a></span></li><li><span><a href=\"#3.3.2-Training-scheme\" data-toc-modified-id=\"3.3.2-Training-scheme-3.3.2\"><span class=\"toc-item-num\">3.3.2&nbsp;&nbsp;</span>3.3.2 Training scheme</a></span></li><li><span><a href=\"#3.3.3-Results-of-training\" data-toc-modified-id=\"3.3.3-Results-of-training-3.3.3\"><span class=\"toc-item-num\">3.3.3&nbsp;&nbsp;</span>3.3.3 Results of training</a></span></li><li><span><a href=\"#3.3.4-Discussion\" data-toc-modified-id=\"3.3.4-Discussion-3.3.4\"><span class=\"toc-item-num\">3.3.4&nbsp;&nbsp;</span>3.3.4 Discussion</a></span><ul class=\"toc-item\"><li><span><a href=\"#Reconstruction\" data-toc-modified-id=\"Reconstruction-3.3.4.1\"><span class=\"toc-item-num\">3.3.4.1&nbsp;&nbsp;</span>Reconstruction</a></span></li><li><span><a href=\"#Computations-involved\" data-toc-modified-id=\"Computations-involved-3.3.4.2\"><span class=\"toc-item-num\">3.3.4.2&nbsp;&nbsp;</span>Computations involved</a></span></li></ul></li></ul></li><li><span><a href=\"#3.4-Ongoing-experiments\" data-toc-modified-id=\"3.4-Ongoing-experiments-3.4\"><span class=\"toc-item-num\">3.4&nbsp;&nbsp;</span>3.4 Ongoing experiments</a></span><ul class=\"toc-item\"><li><span><a href=\"#3.4.1-Sampling-from-belief-state\" data-toc-modified-id=\"3.4.1-Sampling-from-belief-state-3.4.1\"><span class=\"toc-item-num\">3.4.1&nbsp;&nbsp;</span>3.4.1 Sampling from belief state</a></span></li></ul></li></ul></li></ul></div>"
   ]
  },
  {
   "cell_type": "markdown",
   "metadata": {},
   "source": [
    "## 1 Introduction"
   ]
  },
  {
   "cell_type": "markdown",
   "metadata": {},
   "source": [
    "Planning is undoubtedly a relevant tactic in AI and Robotics. Many tasks, such as efficient navigation or chess-playing, rely on agent's ability to simulate possible futures to determine most favourable actions. However, in order to predict reliably, agents require robust models of their environments. While the engineer often has the relevant knowledge, it may be difficult to transfer it to the agent.\n",
    "1. It may be difficult to express one's understanding algorithmically -- e.g. how does one assess goodness of a Go move?\n",
    "2. The mismatch between abstract mathematical models and complex unstructured reality often means the predicitions are far from useful. \n",
    "\n",
    "When knowledge transfer problem is challenging, one may attempt to create an agent that gains the relevant understanding from its own experience. This work focuses on construction of deployable predictive models from scratch. The goal is to understand, which aspects of environments make the learning more difficult and what subproblems need to be solved.\n",
    "\n",
    "The idea of agents building their own models is definitely not novel: an early example is [Dyna](https://www.cs.cmu.edu/afs/cs/project/jair/pub/volume4/kaelbling96a-html/node29.html). However, recent advances in deep learning enabled automated understanding of truly complex relationships and formation of rich representations. \n",
    "\n",
    "Impressive recent examples where agents learnt to successfully predict environments include:\n",
    "1. [Recurrent Environment Simulators](https://arxiv.org/abs/1704.02254) and [Action-Conditional Video Prediction using Deep Networks in Atari Games](https://arxiv.org/abs/1507.08750), where a deep recurrent network learns to predict future screen frames based on past percepts and joystick data. See videoes [here](https://drive.google.com/drive/folders/0B_L2b7VHvBW2SEllTmlEX1l0RGc).\n",
    "2. [Prediction Under Uncertainty with Error-Encoding Networks](https://arxiv.org/abs/1711.04994), where a network learns to sample possible futures by generating likely future percepts - in effect learning a stochastic model of the environment.\n",
    "\n",
    "Still, even those cutting edge algorithms struggle in more challenging environments. The first one is not very good at modelling stochastic state transitions. The second one was not shown to be able to produce long-term predictions.\n",
    "\n",
    "The primary goal of the document is present a generalised perspective on building models for high-dimensional unstructured time-series data using neural networks. The perspective of time-series prediction using recurrent networks is contrasted with more traditional state estimation methods, where dynamical models are provided to the algorithm.  \n",
    "\n",
    "This notebook aims to delineate different challenges in learning environment models purely from percepts. In addition to theoretical considerations, pracitcal examples involving a configurable simulator of billiard balls dynamics are presented. A deep neural architectured was trained to predict to the outputs of the simulator to illustrate the theoretical concepts. The results of neural predictions are compared with near-optimal performance of sequential monte carlo methods (also know as particle filter state estimation).\n",
    "\n",
    "The document is structured the following way:\n",
    "\n",
    "**Section 2** describes a general problem of agent learning about its environment through lens of an information/computation flow. It then describes axes variations in the problem.\n",
    "\n",
    "**Section 3** introduces the simulation environment used during experiments, neural architecture used for exploration and presents conceptual comparisons. Results from experiments are briefly presented."
   ]
  },
  {
   "cell_type": "markdown",
   "metadata": {},
   "source": [
    "## 2 Problem statement\n",
    "\n"
   ]
  },
  {
   "cell_type": "markdown",
   "metadata": {},
   "source": [
    "### 2.1 General problem"
   ]
  },
  {
   "cell_type": "markdown",
   "metadata": {},
   "source": [
    "Learning agents are spawned in various environments and are given different tasks to complete. Let us start by considering an abstraction of time-aware agent learning about its environment (Figure xxx). The arrows in the graph represent computations -- however, they can also be viewed as flow of information. The vertical arrows coincide with the direction of flow of time (downwards).\n",
    "\n",
    "Left hand side of the diagram represents computations \"carried out\" by the environment. State of the world evolves according to some rules.\n",
    "\n",
    "The right hand side refers to computations in agent's mind. The agent can try to learn the state of the world thanks to information flowing through the observation channel. How much of the world's state can agent directly observe depends on the problem.\n",
    "\n",
    "How information is processed in the right hand side of the graph depends on the learning algorithm chosen for the task."
   ]
  },
  {
   "cell_type": "markdown",
   "metadata": {},
   "source": [
    "<img src=\"images/general_problem.png\" width=\"500\" align=\"center\">\n",
    "<i>Figure 1: Graph representing computations and flow of information in the world and through agent's mind."
   ]
  },
  {
   "cell_type": "markdown",
   "metadata": {},
   "source": [
    "Consider the variables from the diagram:\n",
    "* $s_t$ is state of the environment at time $t$\n",
    "* $T_W$ is a computation that takes the environment from state $s_t$ to $s_{t+1}$. That is, $T_W : s_t \\mapsto s_{t+1}$ \n",
    "* $o_t$ is observation at time $t$ produced by a particular sensor based on the underlying world state $s_t$\n",
    "* $P_S$ is a computation that generates an observation $o_t$ from state $s_t$. That is, $P_S : s_t \\mapsto o_t$\n",
    "* $bs_t$ is a representation of agent's knowledge at time $t$\n",
    "* $T_B$ is a computation that propagates agent's beliefs forward in time\n",
    "* $P^{-1}_{B}$ is a computation that enables update of agent's belief using the observation\n",
    "* $a_t$ part of the world state that is under direct control of the agent, the agent may influence the trajectory of future world states by controlling this variable (does not apply to passive agents).\n",
    "\n",
    "The left hand side of the graph can be viewed as a [Markov process](https://en.wikipedia.org/wiki/Markov_chain) which is partially observable through the sensory channel. However, usually modelling a phenomenom as Markov process implies deciding what the format of the state is, what does transition and observation functions are. For a generalised problem we are agnostic about those. In some tasks one might decide to implement the agent with a specific format of those in mind, in others it might be the task for the agent to deicide what is the right choice of representation for the environment state and learn how transitions occur.\n",
    "\n",
    "Representing the problem of an agent learning about its environment in as such computational graph will enable us to clearly observe different challenges that arise during learning. We will see how $T_W$ and $P_S$ vary between environments such as Atari games and colliding billiard balls and learn what it implies about difficulty of learning about those environments. Lastly, this view translates well into design of modular neural networks."
   ]
  },
  {
   "cell_type": "markdown",
   "metadata": {},
   "source": [
    "### 2.2 Different tasks for agents"
   ]
  },
  {
   "cell_type": "markdown",
   "metadata": {},
   "source": [
    "Let us consider a couple of possible tasks for agents along with examples of environments usually associated with those problems. The choice of the problem dictates what kinds of computations will be implementing the agent."
   ]
  },
  {
   "cell_type": "markdown",
   "metadata": {},
   "source": [
    "#### 2.2.1 State estimation"
   ]
  },
  {
   "cell_type": "markdown",
   "metadata": {},
   "source": [
    "In applications such as target tracking or robot navigation it is useful to estimate the state of the world using imperfect sensors. For example, one might be interest in tracking positions of ships scattered accross large area using noisy data from radars.\n",
    "\n",
    "The particular variable of interest might be $(x, y)$ position of a particualar vessel and the observations consitute distance and angle towards the target (both noise corrupted).\n",
    "\n",
    "In such problem it is usual to embed the agent with knowledge about the underlying Markov process. This informs the agent about how the state (ship's position) tends to evolve over time, and how to update one's belief about target position using data from the sensor. The state is clearly defined and the agent is not required to come up with a suitable representation for the problem.\n",
    "\n",
    "Well-known examples of algorithms for this class of problems include [Kalman filter (KF)](https://en.wikipedia.org/wiki/Kalman_filter) (KL) and [Particle filter (PF)](https://en.wikipedia.org/wiki/Particle_filter) (also known as Sequential Monte Carlo). \n",
    "\n",
    "For these algorithms, the representation of agent's knowledge ($bs$) as well as methods for propagation beliefs into future ($T_B$) and probablistic update based on measurements ($P^{-1}_B$) are all fixed and  defined explictly by the programmer.\n",
    "\n",
    "In Kalman filter the knowledge is represented by multivariate Gaussian distribution over the variables of interest, eg for a target in 2D space those might be position and velocity:\n",
    "\n",
    "<center>$s = (x, y, \\dot{x}, \\dot{y})^T$</center>\n",
    "\n",
    "In a particle filter, the distribution over states is represented by a collection of copies of the state vector. Because of this PF can represent and model non-linear processes which comes at increased computational cost relative to KF.\n",
    "\n",
    "Core weakness of this family of methods is the fact that the model of the world ($T_W$) and the sensor ($P_S$) must be at least approximately known. Any mismatch will result in lower performace of the estimators.\n",
    "\n",
    "In this problem most of the agent's mind is fixed (ie not changing with time).\n",
    "\n",
    "(Pure state estimators are passive observers and do not perform actions $a$. However, in a closely related field of active sensing, agents can control their sensors (eg rotate a camera) to allow for more efficient estimation of state.)"
   ]
  },
  {
   "cell_type": "markdown",
   "metadata": {},
   "source": [
    "#### 2.2.2 Reinforcement learning"
   ]
  },
  {
   "cell_type": "markdown",
   "metadata": {},
   "source": [
    "In reinforcement learning the agent interacts with the environment by selecting actions ($a_t$) and tracks state of the environment ($s_t$) through observations (see game video below) ($o_t$). The agent is also provided with a scalar reward signal (r_t), which can be viewed as another kind of observation. The goal is to learn how to act in a given situation, so that the rewards observed are maximised.\n",
    "\n",
    "Atari console is a recently popular testbed for a host of deep learning algorithms. The most common goal for this environment is learning to play (ie select joystick commands) in a way that maximises the game score. The problem has been popularised by seminal reinforcement learning paper [Human-level control through deep reinforcement\n",
    "learning](https://storage.googleapis.com/deepmind-media/dqn/DQNNaturePaper.pdf). State of the art deep learning algorithms perform at superhuman level after roughly a day of exposure to the environment.\n",
    "\n",
    "The environment is popular because because it lies at the intersection of being sufficiently:\n",
    "* difficult to be interesting for humans to play\n",
    "* simple for early deep reinforcement learning to be successful\n",
    "* accessible so that large amounts of data can be gathered for training "
   ]
  },
  {
   "cell_type": "markdown",
   "metadata": {},
   "source": [
    "<img src=\"images/atari.gif\" width=\"500\" align=\"center\">\n",
    "<i>Figure 2: A series of observations from Space Invaders on Atari 2600.</i>"
   ]
  },
  {
   "cell_type": "markdown",
   "metadata": {},
   "source": [
    "Let us map Atari game world on abstraction developed earlier:\n",
    "* $s_t$ is memory state of the console engine at time $t$. It is not human-readable, but can be understood by reading game's code.\n",
    "* $T_W$ is the code that performs operations on the memory and reads the joystick. The transition function is completely deterministic given the random seed. Without it, the transitions are mildly stochastic for most games (eg which alien fires a projectile at a given time), but can be significant for some (in Asteroid the player can be teleported to a random location).\n",
    "* $P_S$ there are two sensory modalities: \n",
    "    * game state is projected on the screen\n",
    "        * this is fully deterministic (ie given state always leads to the same image)\n",
    "        * the state is almost fully-observable -- still, there is usually some information that cannot be inferred from a single screen, eg random seed, direction of movement of enemies \n",
    "    * reward is extracted from the game state -- fully deterministic -- this signal is used as a reward in reinforcement learning "
   ]
  },
  {
   "cell_type": "markdown",
   "metadata": {},
   "source": [
    "<img src=\"images/dqn.png\" width=\"800\" align=\"center\">\n",
    "<i>Figure 3: A deep convolutional neural network learns a mapping from observations ($o_t$) to actions ($a_t$) that leads to highly rewarded behaviour. The layers between input and output can be viewed as agent's representation of knowledge ($bs_t$) about the aspects of game state ($s_t$) relevant for the problem.</i>"
   ]
  },
  {
   "cell_type": "markdown",
   "metadata": {},
   "source": [
    "In this setting, the agent constructs knowledge representation on its own -- ie the state representation $bs_t$,  belief state transition $T_B $ and observation interpretation $P^{-1}_{B}$ are all learnt by the agent and suited to the problem (using optimisation methods for neural network training).\n",
    "\n",
    "Under such incentives one can expect that parts of the console state that are not relevant for maxisiming game score will not be represented by the agent (which is reasonable and efficient). On the other hand, the aspects of the game that strongly affect the score (eg being hit by a bullet), will be appreciated by the agent.\n",
    "\n",
    "Interestingly, in this setup one should not expect that the agent attempts to create a simulation of the environment in its mind. That is, the agent will not try to find internal state transition ($T_B$) such that it mimics console's state transition ($T_W$). Since every observation tells the agent almost everything there is to know about the current game state, there is little pressure to learn about state transitions. It is sufficient to remember which button presses lead to good consequences.\n",
    "\n",
    "This is generally beneficial -- there is no point in learning something that does not help to improve on the performance metric. However, it could be argued that the agent is not using all of the data it is exposed to efficiently. Predictive learning, where the agent is tasked also with prediction of future percepts, is aiming to help with this problem."
   ]
  },
  {
   "cell_type": "markdown",
   "metadata": {},
   "source": [
    "#### 2.2.3 Predictive learning"
   ]
  },
  {
   "cell_type": "markdown",
   "metadata": {},
   "source": [
    "In the hopes of making reinforcement learning more data efficient and also enable agents to plan (by simulating results of actions), Yann LeCun has recently advocated that agents also learn predict future percept. This enables unsupervised learning (no labels required) to form richer representations of environments. The prediction problem corresponds to the modified graph below."
   ]
  },
  {
   "cell_type": "markdown",
   "metadata": {},
   "source": [
    "<img src=\"images/special_problem.png\" width=\"700\" align=\"center\">\n",
    "<i>Figure 4: In this task the agent produces reconstructions of observations $\\hat{o}_t$. Additionally, the access to observations may be restricted for many time steps, so that the agent is incentivised to learn to propagate information forward in time.</i>\n"
   ]
  },
  {
   "cell_type": "markdown",
   "metadata": {},
   "source": [
    "The idea is that whatever representation is sufficient for prediction of the environment (the observations to be more specific), should be suitable for estimation of 'goodness' (RL value) of a state or action selection. This representation can be formed without gathering any additional data from the environment -- the process can be completed in parallel to standard reinforcement learning. Additionally, the learnt representation along with transition function can be used to simulate the environment and plan ahead."
   ]
  },
  {
   "cell_type": "markdown",
   "metadata": {},
   "source": [
    "Again, Atari testbed is being used also for examining predictive powers of neural networks. In this setting the agent is tasked with prediction of future percepts (up to hundreds of time steps ahead). Video examples of predictions can be found in the following directory: [here](https://drive.google.com/drive/folders/0B_L2b7VHvBW2SEllTmlEX1l0RGc)."
   ]
  },
  {
   "cell_type": "markdown",
   "metadata": {},
   "source": [
    "<img src=\"images/env_sims.png\" width=\"700\" align=\"center\">\n",
    "<i>Figure 5: Graphical representation of computations in neural architecture for Atari prediction in [Recurrent Environment Simulators](https://arxiv.org/abs/1704.02254). $x_t$ and $\\hat{x}_t$ are game frame and its reconstruction at time $t$, $s$ corresponds to belief about game state, $a$ corresponds to joystick action.</i>"
   ]
  },
  {
   "cell_type": "markdown",
   "metadata": {},
   "source": [
    "The only information supplied to the agent are observations and joystick actions (which can be viewed as an observation or part of state). In the process of prediction of future percepts, the agent:\n",
    "1. updates its belief $bs_t$ about the state of environment $s_t$ using the observation $o_t$ (convolutional network)\n",
    "2. propagates its belief forward in time to $bs_{t+1}$ (recurrent network)\n",
    "3. maps the belief $bs_{t+1}$ onto observation space $\\hat{o}_{t+1}$ (deconvolutional network)\n",
    "\n",
    "The procedure is improved iteratively via gradient descent on the error in reconstruction. Once the network has converged it was capable of simulating behaviour of Atari console for hundreds of timesteps. Effectively, the agent has found a sufficiently rich state representation along with transition function that matches closely the original residing in the Atari 2600."
   ]
  },
  {
   "cell_type": "markdown",
   "metadata": {},
   "source": [
    "However, the success in Atari prediction problem did not readily translate to other domains. Video predictions continue to be very challenging.\n",
    "\n",
    "A particular feature of Atari problem that makes it relatively easy is the fact the that games used in the aforementioned experiments where mostly deterministic. That is, $T_W$ contains little noise. This means, that the agent can do well on the task by representing the state of the game and simulating it forward. This is in contrast to having a belief over a distribution of possible states and propagating this distribution forward in time.\n",
    "\n",
    "My current interest is in extending the method used in Atari prediction research for environments that contain significant levels of stochasticity. More on how this is being tackled in Section 3."
   ]
  },
  {
   "cell_type": "markdown",
   "metadata": {},
   "source": [
    "#### (Extra) 2.2.4 Philosophy of science"
   ]
  },
  {
   "cell_type": "markdown",
   "metadata": {},
   "source": [
    "Humanity's quest for knowledge can also be viewed through the lens that we have established. Science aims to construct and retain best explanations about how the underlying world works. To achieve that we are a very flexible learner. We use various representation for the same object depending on the problem that is being solved. For example, a glass full of liquid can be modelled as:\n",
    "* collection of molecules by a physicist\n",
    "* a substance with particular chemical properties by a chemist\n",
    "* a single, rigid object by someone who is consuming a morning coffee\n",
    "\n",
    "Our flexibility in which model should be used can go as far as in quantum physics, where physicists offer multiple interpretations on how the reality behaves at the lowest levels and do not really worry about which is \"true\" as long as they all make the same predictions about the future.\n",
    "\n",
    "In language established in this document this means -- it does not matter which state representation you choose as long your predictions match to the observations.\n",
    "\n",
    "Still, in our search for answers we are driven by values. We are not abstractly trying to predict everything. We focus our attention on predictions of phenomena that are consequential to our survival and improvement of quality of life."
   ]
  },
  {
   "cell_type": "markdown",
   "metadata": {},
   "source": [
    "### 2.3 Dimensions of the problem"
   ]
  },
  {
   "cell_type": "markdown",
   "metadata": {},
   "source": [
    "Now that a number of examples of environments, agents and corresponding tasks were considered let us try to abstract away some components of the problem. Let us see what effect do those have on difficulty of training for an agent."
   ]
  },
  {
   "cell_type": "markdown",
   "metadata": {},
   "source": [
    "#### 2.3.1 Observability"
   ]
  },
  {
   "cell_type": "markdown",
   "metadata": {},
   "source": [
    "**Full** -- $P_S$ is an identity matrix -- the agent has full access to state at all times. Example: many abstract games, eg chess.  In such settings finding suitable transition function might be easier (since state is known at all times). Not a very interesting case since it's rarely found in the real world.\n",
    "\n",
    "**High** -- multiple states can map to the same observation, because of that state cannot be directly inferred from a single observation. Still it is possible to end up with a narrow distribution. Multiple consecutive observations can possibly eliminate all relevant uncertainty. Examples: Atari games, robot localisation, military target tracking. Since the agent has a poorer estimate of world state at all times it is more challenging to infer the transition function.\n",
    "\n",
    "**Low** -- even with large number of observations it is not possible to infer everything about the state of the world. Only some parts of the state can be known with high certainty. Examples: agents embedded in large worlds, eg games like GTAV or Starcraft, simultaneous localisation and mapping, living as a human. The transition function has to be learn by part by part since entire state is never known with high certainty."
   ]
  },
  {
   "cell_type": "markdown",
   "metadata": {},
   "source": [
    "#### 2.3.2 Observation noise level"
   ]
  },
  {
   "cell_type": "markdown",
   "metadata": {},
   "source": [
    "The noisier the observations, the more difficult it is to infer the state that lead to generation the observation. Higher level means that the agent has to maintain a broader distribution over possible states of the environment. All real-world measurements are noise-corrupted to some extent."
   ]
  },
  {
   "cell_type": "markdown",
   "metadata": {},
   "source": [
    "#### 2.3.3 Process stochasticity"
   ]
  },
  {
   "cell_type": "markdown",
   "metadata": {},
   "source": [
    "**Deterministic transition function** -- in such environments the agent that already possess a good approximation of $T_W$ can predict arbitrarily far into the future (provided computational resources are sufficient). If the agent can narrow down its beliefs about state to a single option, from that point onwards it can simply simulate the environment rather than propagating its beliefs about the environment.\n",
    "\n",
    "**Stochastic transition function** -- any information that the agent gains about the environment is gradually lost as the state evolves in a random manner. The agent has to update its beliefs using observations."
   ]
  },
  {
   "cell_type": "markdown",
   "metadata": {},
   "source": [
    "#### 2.3.4 Process complexity"
   ]
  },
  {
   "cell_type": "markdown",
   "metadata": {},
   "source": [
    "It is possible for the underlying environment to be completely deterministic, yet composed of so many parts or complicated rules that to the agent it appears stochastic (either because of lacking model and shortage of computational resources).\n",
    "\n",
    "It is likely that die throwing as a macroscopic phenomenom is practically governed by Newtonian mechanics and is almost completely deterministic (let us not go into details). Still, for any human onlooker, completely incapable of predicting the result from initial die position and force used, the throw will feel entirely random.\n",
    "\n",
    "Systems that are determinisitic but chaotic (small change in initial conditions leads to large difference in outcome) often have to be modelled as stochastic anyway. Still, the level of chaos that pushes the system into as-if-it-was-stochastic region depends on the predictive power of the agent. Ie unpredictability can be a feature of the mind observing the process rather than of the process itself."
   ]
  },
  {
   "cell_type": "markdown",
   "metadata": {},
   "source": [
    "#### 2.3.5 Agent's structure"
   ]
  },
  {
   "cell_type": "markdown",
   "metadata": {},
   "source": [
    "For different problems different parts of the agent's mind can be made flexible. For example, in state estimation the problem representation and state transition are given and immutable. In problems where neural networks are used, the agent forms the representation based on the incentives provided by the loss function."
   ]
  },
  {
   "cell_type": "markdown",
   "metadata": {},
   "source": [
    "### (Extra) 2.4 More things to discuss"
   ]
  },
  {
   "cell_type": "markdown",
   "metadata": {},
   "source": [
    "#### 2.4.1 Is predicting worth it?"
   ]
  },
  {
   "cell_type": "markdown",
   "metadata": {},
   "source": [
    "It is certainly true, that for some problems it is not worth it to make diligient plans relying on predictions (model-based reinforcement learning). Sometimes it is better to just do it (model-free reinforcement learning). What distinguishes the settings where either of these tactics is preffered to the other one? This certainly calls for a longer discussion. Let us bring some points for now.\n",
    "\n",
    "When do humans plan vs. just act?\n",
    "* Degree choice -- plan\n",
    "* Selecting friends -- just act\n",
    "* Marry someone -- plan\n",
    "* How to play football -- just act\n",
    "* How to go through complicated crossroads -- plan\n",
    "* What to eat -- just act (mostly)\n",
    "\n",
    "How does that relate to Kahneman's System1 and System2?\n",
    "\n",
    "Where does model-free RL vs. planning succeed?\n",
    "* high-dimensional, no model available -- MFRL\n",
    "* chess, Go, etc. -- mix, but more like planning\n",
    "* robot locomotion -- planning\n",
    "* robot manipulation -- mix\n",
    "* simulated learning to walk -- MFRL"
   ]
  },
  {
   "cell_type": "markdown",
   "metadata": {},
   "source": [
    "#### 2.4.2 Belief propagation is more difficult than simulation"
   ]
  },
  {
   "cell_type": "markdown",
   "metadata": {},
   "source": [
    "## 3 Learning to represent and track world state"
   ]
  },
  {
   "cell_type": "markdown",
   "metadata": {},
   "source": [
    "In the previous section we saw that Deepmind successfully implemented an algorithm capable of learning state transitions of Atari 2600 games. As a result the deep neural network can be used to simulate of the environment it was trained on. Unfortunately, Atari 2600 environment is a highly-observable and mostly deterministic. In other words, it is very different from our world. Thus the method cannot be readily ported to, for example, autonomous cars, which would probably benefit from the ability to predict future.\n",
    "\n",
    "In this section, I outline some of tactics and problems associated with enabling high-dimensional percept predictions for stochastic environments. Note, that particular methods and experiment results are not presented here, but will be shown in a later paper."
   ]
  },
  {
   "cell_type": "markdown",
   "metadata": {},
   "source": [
    "### 3.1 Simulated environment"
   ]
  },
  {
   "cell_type": "markdown",
   "metadata": {},
   "source": [
    "In order to have full control over the difficulty of the learning task a contrallable simulator was implemented. This allows for changing of the dynamics of the environment. In the simulation billiard balls are interacting via Newtonian mechanics. The parameters of the simulation can be controlled in order to make the learning task more challenging. For example, the level of stochasticity in ball motion (random force perturbation) can be controlled.\n",
    "\n",
    "The balls are simulated in a continuous space. Depending on the setting the balls can pass through each other or walls to emerge on the other side of the area. The state of simulation is projected onto $28$ by $28$ black and white image. This image serves as an observation to the agent. \n",
    "\n",
    "See samples generated by the simulator below."
   ]
  },
  {
   "cell_type": "code",
   "execution_count": 2,
   "metadata": {
    "collapsed": false
   },
   "outputs": [
    {
     "name": "stdout",
     "output_type": "stream",
     "text": [
      "/home/ira/code/projects/nn-play\n"
     ]
    }
   ],
   "source": [
    "%cd ~/code/projects/nn-play/\n",
    "import numpy as np\n",
    "import matplotlib.pyplot as plt\n",
    "import imageio\n",
    "import copy\n",
    "from IPython.display import HTML\n",
    "%matplotlib inline\n",
    "import warnings\n",
    "warnings.filterwarnings('ignore')"
   ]
  },
  {
   "cell_type": "code",
   "execution_count": 3,
   "metadata": {
    "collapsed": true
   },
   "outputs": [],
   "source": [
    "from balls_sim import World, DEFAULT_SIM_CONFIG\n",
    "gif_counter = 0"
   ]
  },
  {
   "cell_type": "code",
   "execution_count": 4,
   "metadata": {
    "collapsed": false
   },
   "outputs": [
    {
     "data": {
      "text/html": [
       "<img src=\"../ims/1.gif\" width=\"280\">"
      ],
      "text/plain": [
       "<IPython.core.display.HTML object>"
      ]
     },
     "execution_count": 4,
     "metadata": {},
     "output_type": "execute_result"
    }
   ],
   "source": [
    "conf = copy.deepcopy(DEFAULT_SIM_CONFIG)\n",
    "conf['n_bodies'] = 3\n",
    "conf['dynamics_noise'] = 0.01\n",
    "conf['ball_action'] = 'bounce'\n",
    "conf['wall_action'] = 'bounce'\n",
    "\n",
    "w = World(**conf)\n",
    "gif_counter += 1\n",
    "ims = []\n",
    "for i in range(150):\n",
    "    w.run()\n",
    "    ims.append(w.draw())\n",
    "\n",
    "imageio.mimsave(\"ims/{}.gif\".format(gif_counter), ims)\n",
    "HTML('<img src=\"../ims/{}.gif\" width=\"280\">'.format(gif_counter))"
   ]
  },
  {
   "cell_type": "markdown",
   "metadata": {},
   "source": [
    "### 3.2 Baseline state estimator -- Particle filter (Sequential Monte Carlo)"
   ]
  },
  {
   "cell_type": "markdown",
   "metadata": {},
   "source": [
    "Before training a neural network to predict sequences of balls interacting it is useful to construct a model-based baseline. In this case a particle filter (PF) is used. It is a standard method for state estimation when models of phenomenom and sensor are known. See Section 2.2.1 for more information on state estimation.\n",
    "\n",
    "PF operates by running $n$ simulations of the environment in parallel (prediction step). Then the simulations that are unlikely to produce a measurement similar to the one observed are decimated (update step). The copies of the simulated environment consitute samples from the belief distribution of the filter.\n",
    "\n",
    "PF operates only on structured data (ie not images). However, the belief distribution over structured $(x, y)$ positions can be converted into images. The higher the uncertainty associated with a position of a given ball, the more blur there is in the image.\n",
    "\n",
    "PF starts with knowledge of initial position of the balls. Then its uncertainty in estimate increases do to stochasticity of the system.\n",
    "\n",
    "In the limit of infinite number of particles (copies of environments) used, PF holds optimal rational beliefs about the positions of the balls. In practice, PF tends to fail for high dimensional problems, but for this problem its performance can be considered near-optimal.\n",
    "\n",
    "See videos from a run of simulation (ground truth), PF's belief, a representative sample from the belief distribution."
   ]
  },
  {
   "cell_type": "code",
   "execution_count": 5,
   "metadata": {
    "collapsed": true
   },
   "outputs": [],
   "source": [
    "from particle_filter import ParticleFilter  # see here for implementational details"
   ]
  },
  {
   "cell_type": "code",
   "execution_count": 8,
   "metadata": {
    "collapsed": false
   },
   "outputs": [
    {
     "name": "stdout",
     "output_type": "stream",
     "text": [
      "Uninformative baseline level at 0.04552416875958443\n"
     ]
    },
    {
     "data": {
      "text/html": [
       "\n",
       "<table>\n",
       "  <tr>\n",
       "    <th>Ground truth</th>\n",
       "    <th>Belief</th> \n",
       "    <th>Sample</th>\n",
       "  </tr>\n",
       "  <tr>\n",
       "    <td><img src=\"../ims/4-percept.gif\" width=\"140\"></td>\n",
       "    <td><img src=\"../ims/4-belief.gif\" width=\"140\"></td> \n",
       "    <td><img src=\"../ims/4-sample.gif\" width=\"140\"></td>\n",
       "  </tr>\n",
       "\n",
       "</table>"
      ],
      "text/plain": [
       "<IPython.core.display.HTML object>"
      ]
     },
     "execution_count": 8,
     "metadata": {},
     "output_type": "execute_result"
    },
    {
     "data": {
      "image/png": "[encoded data removed]",
      "text/plain": [
       "<matplotlib.figure.Figure at 0x7f57bcb4feb8>"
      ]
     },
     "metadata": {},
     "output_type": "display_data"
    }
   ],
   "source": [
    "conf = copy.deepcopy(DEFAULT_SIM_CONFIG)\n",
    "conf['radius'] = 2.0\n",
    "conf['dynamics_noise'] = 0.01\n",
    "conf['measurement_noise'] = 0.0003\n",
    "conf['n_bodies'] = 4\n",
    "conf['ball_action'] = 'bounce'\n",
    "conf['wall_action'] = 'bounce'\n",
    "\n",
    "w = World(**conf)\n",
    "gif_counter += 1\n",
    "\n",
    "pf = ParticleFilter(conf, n_particles=400)\n",
    "\n",
    "pos = [body.pos for body in w.bodies]\n",
    "vel = [body.vel for body in w.bodies]\n",
    "pf.warm_start(pos, vel=vel)\n",
    "\n",
    "ims = []\n",
    "\n",
    "ims_percept = []\n",
    "ims_belief = []\n",
    "ims_sample = []\n",
    "\n",
    "loss_mse = []\n",
    "loss_sample_mse = []\n",
    "loss_mae = []\n",
    "\n",
    "for i in range(150):\n",
    "    if i < 0:\n",
    "        measures = [body.pos for body in w.bodies]\n",
    "        pf.update(measures)\n",
    "        pf.resample()\n",
    "    \n",
    "    w.run()\n",
    "    pf.predict()\n",
    "    \n",
    "    percept = w.draw()\n",
    "    belief = pf.draw()[:,:,0]\n",
    "    sample = pf.parts[0].draw()\n",
    "    \n",
    "    loss_mse.append(np.mean((percept-belief)**2))\n",
    "    loss_sample_mse.append(np.mean((percept-sample)**2))\n",
    "    \n",
    "    ims_percept.append(percept)\n",
    "    ims_belief.append(belief)\n",
    "    ims_sample.append(sample)\n",
    "\n",
    "\n",
    "imageio.mimsave(\"ims/{}-percept.gif\".format(gif_counter), ims_percept)\n",
    "imageio.mimsave(\"ims/{}-belief.gif\".format(gif_counter), ims_belief)\n",
    "imageio.mimsave(\"ims/{}-sample.gif\".format(gif_counter), ims_sample)\n",
    "\n",
    "ims_ar = np.array(ims_percept)\n",
    "av_pixel_intensity = np.mean(ims_ar)\n",
    "baseline_level = np.mean((ims_ar-av_pixel_intensity)**2)\n",
    "baseline = np.ones(len(loss_mse)) * baseline_level\n",
    "print(\"Uninformative baseline level at {}\".format(baseline_level))\n",
    "\n",
    "plt.plot(loss_mse)\n",
    "plt.plot(loss_sample_mse)\n",
    "plt.plot(baseline, 'g--')\n",
    "\n",
    "plt.title(\"Image reconstruction loss vs timestep\")\n",
    "plt.ylabel(\"loss (MSE)\")\n",
    "plt.xlabel(\"timestep\")\n",
    "plt.legend([\"full belief\", \"sample\"])\n",
    "\n",
    "HTML(\"\"\"\n",
    "<table>\n",
    "  <tr>\n",
    "    <th>Ground truth</th>\n",
    "    <th>Belief</th> \n",
    "    <th>Sample</th>\n",
    "  </tr>\n",
    "  <tr>\n",
    "    <td><img src=\"../ims/{0}-percept.gif\" width=\"140\"></td>\n",
    "    <td><img src=\"../ims/{0}-belief.gif\" width=\"140\"></td> \n",
    "    <td><img src=\"../ims/{0}-sample.gif\" width=\"140\"></td>\n",
    "  </tr>\n",
    "\n",
    "</table>\"\"\".format(gif_counter))"
   ]
  },
  {
   "cell_type": "markdown",
   "metadata": {},
   "source": [
    "The graph shows the error in reconstruction of the image given PF's beliefs. These functions are of interest because this error function will be used to train the neural network is gradient descent.\n",
    "\n",
    "The dotted green line represents *uninformative baseline*, that is, the reconstruction error under belief that balls can be anywhere in the image.\n",
    "\n",
    "The reconstruction error based on PF's full belief starts at 0 when state of the balls is perfectly known (upon PF initialisation). Then as uncertainty increases due to stochasticity in the system the error increases. However, it never goes above the *uninformative baseline* level.\n",
    "\n",
    "A reconstruction of a sample from belief distribution, on the other hand, performs much worse on this metric."
   ]
  },
  {
   "cell_type": "markdown",
   "metadata": {},
   "source": [
    "### 3.3 Predictive Autoencoder"
   ]
  },
  {
   "cell_type": "markdown",
   "metadata": {},
   "source": [
    "With the baseline established it is now possible to train a neural network that is tasked with prediction of future percepts. It should not be possible for the network to beat PF. This is because PF starts with perfect knowledge of transition model, observation model and ideal problem problem representation. The neural network has to find all of those through training.\n",
    "\n",
    "Once the network is capable of making well-scoring predictions, it can be said it has implicitly learnt the underlying rules of the environment. (However, those are encoded by network's weights and are not human readable.) Such a trained network can be used to simulate the environment. A representation that allows for predictions should also be suitable for value-learning (though this is not particularly relevant in this research since the agent is a passive observer).\n"
   ]
  },
  {
   "cell_type": "markdown",
   "metadata": {},
   "source": [
    "#### 3.3.1 Network architecture"
   ]
  },
  {
   "cell_type": "markdown",
   "metadata": {},
   "source": [
    "Consider the diagram below to understand how the data flows through the network to complete the training (and perform predictions).\n",
    "\n",
    "[Autencoder](https://en.wikipedia.org/wiki/Autoencoder) is a type of neural architecture which consumes a particular input (eg image), passes it through layers with dimensionality lower than that of the input (thus performing encoding/compression), then the input is reconstructed from the code. By performing this seemingly not very useful reconstructive operation, the network can be find suitable representations of input in an unsupervised manner. This is often used as a pre-training step for problems with small amounts of labelled data.\n",
    "\n",
    "In predictive autencoder, the predictions about future percepts are made in the low-dimensional (encoded) space with use of recurrent layers (usually LSTM or GRU)."
   ]
  },
  {
   "cell_type": "markdown",
   "metadata": {},
   "source": [
    "<img src=\"https://upload.wikimedia.org/wikipedia/commons/thumb/2/28/Autoencoder_structure.png/350px-Autoencoder_structure.png\" width=\"700\" align=\"center\">\n",
    "<i>Figure 6: A diagram depicting an autoencoder (from Wikipedia's article).</i>\n"
   ]
  },
  {
   "cell_type": "markdown",
   "metadata": {},
   "source": [
    "Consider the flow of information through the network.\n",
    "\n",
    "An observation $o_t$ at time $t$ is fed into the network with probability $p_{obs}$ from the sequence of images generated by the simulator. The image is first encoded using convolutional layers and is fed into a recurrent layer (see [Gated Recurrent Unit](https://en.wikipedia.org/wiki/Gated_recurrent_unit)). This layer combines existing information about the state of the environment from the last timestep with the information coming from new image, call this belief state ($bs_t$). Belief state is then propagated further time, but also used to reconstruct the observation $\\hat{o}_t$ using deconvolutional layers."
   ]
  },
  {
   "cell_type": "markdown",
   "metadata": {},
   "source": [
    "<img src=\"images/special_problem.png\" width=\"700\" align=\"center\">\n",
    "<i>Figure 7: This graph was shown before. The predictive autoencoder corresponds to the right half of the diagram, ie agent's mind. The network produces reconstructions of observations $\\hat{o}_t$. Note that the access to the observations must be restricted, so that the agent is incentivised to learn to propagate information forward in time.</i>"
   ]
  },
  {
   "cell_type": "markdown",
   "metadata": {},
   "source": [
    "Let us connect the two diagrams. The encoding is performed by convolutional layers and corresponds to operation using  $P^{-1}_{B}$. The encoding corresponds to estimate of the state of environment $bs_t$. Recurrent layers implement predictions in the encoded space and updated with information from new observation -- reflecting $T_B$. Finally, the deconvolutional layers reconstruct an observation from belief state, which maps onto $P_B$."
   ]
  },
  {
   "cell_type": "markdown",
   "metadata": {},
   "source": [
    "#### 3.3.2 Training scheme"
   ]
  },
  {
   "cell_type": "markdown",
   "metadata": {},
   "source": [
    "With the architecture ready it is now possible to train the network.\n",
    "\n",
    "The data is a set of 1000 episodes, each consisting of 100  consecutive observations. A batch of episodes is set at the input and output of the network (autoencoder is meant to reconstruct whatever input it is presented with). The loss function used to guide the search for suitable parameters is mean squared error. Optimiser used is Adam.\n",
    "\n",
    "There are two important complications to this setup. \n",
    "\n",
    "Firstly, if the training was carried out in the way specified thus far, the network would not be incentivised to propogate information forward in time. If observations are available at all times, then it suffices to reconstruct the image from whatever was presented at the input.\n",
    "\n",
    "To prevent this, each observation can be randomly selected with probability $(1 - p_{obs})$ to be masked with 0-values, thus destroying the information contained in the percept. Regardless of that, the loss function still demands that the observation is reconstructed in an unmasked form. To achieve this the network has to pull relevant information about the environment from previous timesteps. This incentivises network to estabish well functioning recurrent layer.\n",
    "\n",
    "Secondly, the probability of displaying an observation decrease with the progression of the training. The network is always tasked with reconstruction of 100% of the percepts. However, in the initial stages of training about 80% of the observations will fed into the architecture without masking. During the final stages, the network is presented with only a couple initial frames of the episode.\n",
    "\n",
    "Progressively increasing difficulty of the training task allows for speed up of learning. This approach is reffered to as *gradual learning*."
   ]
  },
  {
   "cell_type": "markdown",
   "metadata": {},
   "source": [
    "#### 3.3.3 Results of training"
   ]
  },
  {
   "cell_type": "markdown",
   "metadata": {},
   "source": [
    "The blocks of code below load a trained network and test its performance as a predictor of observations by comparing it side by side with particle filter."
   ]
  },
  {
   "cell_type": "code",
   "execution_count": 16,
   "metadata": {
    "collapsed": true
   },
   "outputs": [],
   "source": [
    "from torch_nets import *\n",
    "import torch\n",
    "from torch.autograd import Variable"
   ]
  },
  {
   "cell_type": "code",
   "execution_count": 10,
   "metadata": {
    "collapsed": true
   },
   "outputs": [],
   "source": [
    "pae = PredictiveAutoencoder(v_size=256)"
   ]
  },
  {
   "cell_type": "code",
   "execution_count": 15,
   "metadata": {
    "collapsed": false
   },
   "outputs": [],
   "source": [
    "pae.load_state_dict(torch.load('experiments/1b_pass_det/autencoder_epoch_4.pth'))"
   ]
  },
  {
   "cell_type": "code",
   "execution_count": 38,
   "metadata": {
    "collapsed": false
   },
   "outputs": [
    {
     "name": "stdout",
     "output_type": "stream",
     "text": [
      "Uninformative baseline level at 0.012004182673990726\n"
     ]
    },
    {
     "data": {
      "text/html": [
       "\n",
       "<table>\n",
       "  <tr>\n",
       "    <th>Ground truth</th>\n",
       "    <th>Particle Filter</th> \n",
       "    <th>Predictive Autoencoder</th>\n",
       "  </tr>\n",
       "  <tr>\n",
       "    <td><img src=\"../ims/26-percept.gif\" width=\"140\"></td>\n",
       "    <td><img src=\"../ims/26-belief.gif\" width=\"140\"></td> \n",
       "    <td><img src=\"../ims/26-pae.gif\" width=\"140\"></td>\n",
       "  </tr>\n",
       "\n",
       "</table>"
      ],
      "text/plain": [
       "<IPython.core.display.HTML object>"
      ]
     },
     "execution_count": 38,
     "metadata": {},
     "output_type": "execute_result"
    },
    {
     "data": {
      "image/png": "[encoded data removed]",
      "text/plain": [
       "<matplotlib.figure.Figure at 0x7f57bcc10eb8>"
      ]
     },
     "metadata": {},
     "output_type": "display_data"
    }
   ],
   "source": [
    "conf = copy.deepcopy(DEFAULT_SIM_CONFIG)\n",
    "conf['radius'] = 2.0\n",
    "conf['dynamics_noise'] = 0.01\n",
    "conf['measurement_noise'] = 0.0003\n",
    "conf['n_bodies'] = 1\n",
    "\n",
    "w = World(**conf)\n",
    "gif_counter += 1\n",
    "\n",
    "pf = ParticleFilter(conf, n_particles=400)\n",
    "\n",
    "pos = [body.pos for body in w.bodies]\n",
    "vel = [body.vel for body in w.bodies]\n",
    "pf.warm_start(pos, vel=vel)\n",
    "\n",
    "ims = []\n",
    "\n",
    "ims_percept = []\n",
    "ims_belief = []\n",
    "ims_sample = []\n",
    "\n",
    "loss_mse = []\n",
    "loss_sample_mse = []\n",
    "loss_mae = []\n",
    "\n",
    "for i in range(160):\n",
    "    if i < 8:\n",
    "        measures = [body.pos for body in w.bodies]\n",
    "        pf.update(measures)\n",
    "        pf.resample()\n",
    "    \n",
    "    w.run()\n",
    "    pf.predict()\n",
    "    \n",
    "    percept = w.draw()\n",
    "    belief = pf.draw()[:,:,0]\n",
    "    sample = pf.parts[0].draw()\n",
    "    \n",
    "    loss_mse.append(np.mean((percept-belief)**2))\n",
    "    loss_sample_mse.append(np.mean((percept-sample)**2))\n",
    "    \n",
    "    ims_percept.append(percept)\n",
    "    ims_belief.append(belief)\n",
    "    ims_sample.append(sample)\n",
    "\n",
    "    \n",
    "# run predictions with the network\n",
    "x = np.array(ims_percept)\n",
    "x = x.reshape((1, 160, 28, 28, 1))\n",
    "x[:,8:, ...] = 0\n",
    "x = x.transpose((1, 0, 4, 2, 3))\n",
    "x = torch.FloatTensor(x)\n",
    "# x = x.cuda()\n",
    "x = Variable(x)\n",
    "pred = pae(x)\n",
    "\n",
    "pred = pred.data.cpu().numpy()\n",
    "pred = pred.reshape((160, 28, 28))\n",
    "\n",
    "pae_ims = []\n",
    "loss_pae = []\n",
    "for i in range(160):\n",
    "    pae_ims.append(pred[i, ...])\n",
    "    loss_pae.append(np.mean((ims_percept[i]-pred[i, ...])**2))\n",
    "\n",
    "\n",
    "imageio.mimsave(\"ims/{}-percept.gif\".format(gif_counter), ims_percept)\n",
    "imageio.mimsave(\"ims/{}-belief.gif\".format(gif_counter), ims_belief)\n",
    "imageio.mimsave(\"ims/{}-pae.gif\".format(gif_counter), pae_ims)\n",
    "\n",
    "ims_ar = np.array(ims_percept)\n",
    "av_pixel_intensity = np.mean(ims_ar)\n",
    "baseline_level = np.mean((ims_ar-av_pixel_intensity)**2)\n",
    "baseline = np.ones(len(loss_mse)) * baseline_level\n",
    "print(\"Uninformative baseline level at {}\".format(baseline_level))\n",
    "\n",
    "plt.plot(loss_mse)\n",
    "plt.plot(loss_pae)\n",
    "plt.plot(baseline, 'g--')\n",
    "\n",
    "plt.title(\"Image reconstruction loss vs timestep\")\n",
    "plt.ylabel(\"loss (MSE)\")\n",
    "plt.xlabel(\"timestep\")\n",
    "plt.legend([\"PF\", \"PAE\"])\n",
    "\n",
    "HTML(\"\"\"\n",
    "<table>\n",
    "  <tr>\n",
    "    <th>Ground truth</th>\n",
    "    <th>Particle Filter</th> \n",
    "    <th>Predictive Autoencoder</th>\n",
    "  </tr>\n",
    "  <tr>\n",
    "    <td><img src=\"../ims/{0}-percept.gif\" width=\"140\"></td>\n",
    "    <td><img src=\"../ims/{0}-belief.gif\" width=\"140\"></td> \n",
    "    <td><img src=\"../ims/{0}-pae.gif\" width=\"140\"></td>\n",
    "  </tr>\n",
    "\n",
    "</table>\"\"\".format(gif_counter))"
   ]
  },
  {
   "cell_type": "markdown",
   "metadata": {},
   "source": [
    "In this example only a single ball is simulated, so that it is easier to observe what is happening. Both the particle filter the predictive autoencoder are shown the first 8 observations. From there, they predict for another 152 timesteps. See the videos with corresponding beliefs\n",
    "\n",
    "As can be seen in the plot the reconstruction error drops to *uninformative baseline* level for both estimators after a while. However, the particle filter retains information for a longer period of time. This implies that the network found a suboptimal method for propagating beliefs and it is overly uncertain about the environment state."
   ]
  },
  {
   "cell_type": "markdown",
   "metadata": {},
   "source": [
    "#### 3.3.4 Discussion"
   ]
  },
  {
   "cell_type": "markdown",
   "metadata": {},
   "source": [
    "Let us reflect on what is actually being output by the network and what computations does this involve."
   ]
  },
  {
   "cell_type": "markdown",
   "metadata": {},
   "source": [
    "##### Reconstruction"
   ]
  },
  {
   "cell_type": "markdown",
   "metadata": {},
   "source": [
    "It is apparanent that when predicting the future observations, the network does not strive to produce realistically-looking images. None of the actual percepts is blurred, but many of the images output by network are. Rather, predictive autoencoder outputs something closer to an expectation over the future percept. That is, a mixture of different possible percepts weighted by their probability. This is precisely what is generated by the particle filter method.\n",
    "\n",
    "This behaviour is understandable under the loss function provided during training. Indeed, we saw, that images generated by sampling from the belief distrubution of the particle filter performed poorly on this metric. Thus, one should not expect those to be output.\n",
    "\n",
    "In order to generate a realistically-looking observations it is important to incorporate adversarial loss (see [generative adversarial networks](https://en.wikipedia.org/wiki/Generative_adversarial_network)).\n",
    "\n",
    "Still, importantly we have reasons to believe the network is capable of tracking distribution over possible states of the environment. This will be used later."
   ]
  },
  {
   "cell_type": "markdown",
   "metadata": {},
   "source": [
    "##### Computations involved"
   ]
  },
  {
   "cell_type": "markdown",
   "metadata": {},
   "source": [
    "It is important to appreciate what is involved in propagating the belief about ball state. The particle filter has perfect knowledge of the underlying dynamics of the environment. It runs 400 of parallel simulations of environment to track the distribution.\n",
    "\n",
    "It would not be sufficient for the network, to recover the transition function perfectly. In addition to this, the network would have to partition itself into many separate simulations to mimic PF's behaviour. This was not mentioned before but the belief state is limited by a fixed size of recurrent layer, which caps to amount of information contained (in this case 256 number are used to represent the knowledge state).\n",
    "\n",
    "Thus, rather than finding $T_W$ the network has to find a function that transforms its beliefs in line with environment dynamics. This method is conceptually more similar to Kalman filter computation.\n",
    "\n",
    "Since belief state is bounded in size it cannot represent arbitrary distributions. It may be possible to represent arbitrarily uncertain beliefs under some assumptions. For example, Kalman filter assumes linearity of dynamics, which means that the variables can be described by Gaussian distribution. Unfortunately, dynamical systems are rarely linear. In such case the quality of beliefs is compromised."
   ]
  },
  {
   "cell_type": "markdown",
   "metadata": {},
   "source": [
    "### 3.4 Ongoing experiments"
   ]
  },
  {
   "cell_type": "markdown",
   "metadata": {},
   "source": [
    "#### 3.4.1 Sampling from belief state"
   ]
  },
  {
   "cell_type": "markdown",
   "metadata": {},
   "source": [
    "A possible solution to dealing with arbitrarily complex beliefs about the state of the world is compartamentalising beliefs into similar categories and splitting them accross to separate networks.\n",
    "\n",
    "For example, imagine you are predicting what is likely to happen during your walk to a local grocery shop tomorrow. You usually take either route A or B.\n",
    "\n",
    "It might be possible to mentally imagine to progression along these routes at the same time. However, it is likely that each of these routes has its own specificities and it might be more convenient to split the process of thinking about this into to independent *simulations*.\n",
    "\n",
    "Similarly, given a predictive autoencoder in particular belief state, it is possible split it into entities. Each considering a more narrow problem.\n",
    "\n",
    "This method is currently in development using adversarial training approaches."
   ]
  }
 ],
 "metadata": {
  "kernelspec": {
   "display_name": "Python 3",
   "language": "python",
   "name": "python3"
  },
  "language_info": {
   "codemirror_mode": {
    "name": "ipython",
    "version": 3
   },
   "file_extension": ".py",
   "mimetype": "text/x-python",
   "name": "python",
   "nbconvert_exporter": "python",
   "pygments_lexer": "ipython3",
   "version": "3.5.2"
  },
  "latex_envs": {
   "LaTeX_envs_menu_present": true,
   "autocomplete": true,
   "bibliofile": "biblio.bib",
   "cite_by": "apalike",
   "current_citInitial": 1,
   "eqLabelWithNumbers": true,
   "eqNumInitial": 1,
   "hotkeys": {
    "equation": "Ctrl-E",
    "itemize": "Ctrl-I"
   },
   "labels_anchors": false,
   "latex_user_defs": false,
   "report_style_numbering": false,
   "user_envs_cfg": false
  },
  "toc": {
   "nav_menu": {
    "height": "304px",
    "width": "240px"
   },
   "number_sections": true,
   "sideBar": false,
   "skip_h1_title": true,
   "toc_cell": true,
   "toc_position": {
    "height": "429px",
    "left": "23px",
    "right": "1643px",
    "top": "213px",
    "width": "212px"
   },
   "toc_section_display": "block",
   "toc_window_display": false
  },
  "varInspector": {
   "cols": {
    "lenName": 16,
    "lenType": 16,
    "lenVar": 40
   },
   "kernels_config": {
    "python": {
     "delete_cmd_postfix": "",
     "delete_cmd_prefix": "del ",
     "library": "var_list.py",
     "varRefreshCmd": "print(var_dic_list())"
    },
    "r": {
     "delete_cmd_postfix": ") ",
     "delete_cmd_prefix": "rm(",
     "library": "var_list.r",
     "varRefreshCmd": "cat(var_dic_list()) "
    }
   },
   "types_to_exclude": [
    "module",
    "function",
    "builtin_function_or_method",
    "instance",
    "_Feature"
   ],
   "window_display": false
  }
 },
 "nbformat": 4,
 "nbformat_minor": 2
}
