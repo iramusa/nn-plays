{
 "cells": [
  {
   "cell_type": "code",
   "execution_count": 1,
   "metadata": {
    "collapsed": false
   },
   "outputs": [
    {
     "name": "stdout",
     "output_type": "stream",
     "text": [
      "/home/ira/code/projects/nn-play\n"
     ]
    },
    {
     "name": "stderr",
     "output_type": "stream",
     "text": [
      "Using TensorFlow backend.\n"
     ]
    }
   ],
   "source": [
    "%cd ~/code/projects/nn-play/\n",
    "\n",
    "import keras \n",
    "from keras.models import Model, Sequential\n",
    "from keras.layers import Input, Dense\n",
    "from keras.optimizers import Adam, Adadelta, RMSprop, SGD\n",
    "from keras.layers import Input, Dense, Convolution2D, Deconvolution2D, MaxPooling2D,\\\n",
    "    UpSampling2D, Merge, LSTM, Flatten, ZeroPadding2D, Reshape, BatchNormalization, Dropout\n",
    "from keras.layers.wrappers import TimeDistributed\n",
    "\n",
    "from simple_container import DataContainer\n",
    "\n",
    "import tqdm\n",
    "\n",
    "import matplotlib.pyplot as plt\n",
    "%matplotlib inline\n",
    "import numpy as np"
   ]
  },
  {
   "cell_type": "code",
   "execution_count": 1736,
   "metadata": {
    "collapsed": true
   },
   "outputs": [],
   "source": [
    "X_LEN = 12\n",
    "\n",
    "SERIES_SHIFT = 1\n",
    "EP_LEN = 40 + SERIES_SHIFT\n",
    "BATCH_SIZE = 32\n",
    "\n",
    "V_SIZE = 512"
   ]
  },
  {
   "cell_type": "code",
   "execution_count": 291,
   "metadata": {
    "collapsed": false
   },
   "outputs": [
    {
     "name": "stdout",
     "output_type": "stream",
     "text": [
      "____________________________________________________________________________________________________\n",
      "Layer (type)                     Output Shape          Param #     Connected to                     \n",
      "====================================================================================================\n",
      "input_4 (InputLayer)             (None, 12)            0                                            \n",
      "____________________________________________________________________________________________________\n",
      "dense_7 (Dense)                  (None, 100)           1300        input_4[0][0]                    \n",
      "____________________________________________________________________________________________________\n",
      "dense_8 (Dense)                  (None, 512)           51712       dense_7[0][0]                    \n",
      "====================================================================================================\n",
      "Total params: 53,012\n",
      "Trainable params: 53,012\n",
      "Non-trainable params: 0\n",
      "____________________________________________________________________________________________________\n"
     ]
    }
   ],
   "source": [
    "# predictive ae\n",
    "\n",
    "input_x = Input(shape=(X_LEN,))\n",
    "\n",
    "h = Dense(100, activation='relu')(input_x)\n",
    "# h = Dense(100, activation='relu')(h)\n",
    "v = Dense(V_SIZE, activation='relu')(h)\n",
    "\n",
    "enc = Model(input_x, v)\n",
    "enc.summary();"
   ]
  },
  {
   "cell_type": "code",
   "execution_count": 304,
   "metadata": {
    "collapsed": false
   },
   "outputs": [
    {
     "name": "stdout",
     "output_type": "stream",
     "text": [
      "____________________________________________________________________________________________________\n",
      "Layer (type)                     Output Shape          Param #     Connected to                     \n",
      "====================================================================================================\n",
      "input_7 (InputLayer)             (None, 512)           0                                            \n",
      "____________________________________________________________________________________________________\n",
      "dense_11 (Dense)                 (None, 100)           51300       input_7[0][0]                    \n",
      "____________________________________________________________________________________________________\n",
      "dense_12 (Dense)                 (None, 12)            1212        dense_11[0][0]                   \n",
      "====================================================================================================\n",
      "Total params: 52,512\n",
      "Trainable params: 52,512\n",
      "Non-trainable params: 0\n",
      "____________________________________________________________________________________________________\n"
     ]
    }
   ],
   "source": [
    "input_v = Input(shape=(V_SIZE,))\n",
    "\n",
    "h = Dense(100, activation='relu')(input_v)\n",
    "# h = Dense(100, activation='relu')(h)\n",
    "output_x = Dense(X_LEN, activation='sigmoid')(h)\n",
    "\n",
    "# output_im\n",
    "\n",
    "dec = Model(input_v, output_x)\n",
    "dec.summary();"
   ]
  },
  {
   "cell_type": "code",
   "execution_count": 305,
   "metadata": {
    "collapsed": false
   },
   "outputs": [
    {
     "name": "stdout",
     "output_type": "stream",
     "text": [
      "____________________________________________________________________________________________________\n",
      "Layer (type)                     Output Shape          Param #     Connected to                     \n",
      "====================================================================================================\n",
      "input_8 (InputLayer)             (None, 12)            0                                            \n",
      "____________________________________________________________________________________________________\n",
      "model_4 (Model)                  (None, 512)           53012       input_8[0][0]                    \n",
      "____________________________________________________________________________________________________\n",
      "model_7 (Model)                  (None, 12)            52512       model_4[2][0]                    \n",
      "====================================================================================================\n",
      "Total params: 105,524\n",
      "Trainable params: 105,524\n",
      "Non-trainable params: 0\n",
      "____________________________________________________________________________________________________\n"
     ]
    }
   ],
   "source": [
    "input_x = Input(shape=(X_LEN,))\n",
    "v = enc(input_x)\n",
    "output_x = dec(v)\n",
    "\n",
    "ae = Model(input_x, output_x)\n",
    "ae.summary();\n",
    "ae.compile(optimizer=Adam(lr=0.0002), loss='mse')"
   ]
  },
  {
   "cell_type": "code",
   "execution_count": 306,
   "metadata": {
    "collapsed": false
   },
   "outputs": [
    {
     "name": "stdout",
     "output_type": "stream",
     "text": [
      "____________________________________________________________________________________________________\n",
      "Layer (type)                     Output Shape          Param #     Connected to                     \n",
      "====================================================================================================\n",
      "timedistributed_5 (TimeDistribut (None, 40, 512)       53012       timedistributed_input_3[0][0]    \n",
      "____________________________________________________________________________________________________\n",
      "lstm_3 (LSTM)                    (None, 40, 512)       2099200     timedistributed_5[0][0]          \n",
      "____________________________________________________________________________________________________\n",
      "timedistributed_6 (TimeDistribut (None, 40, 12)        52512       lstm_3[0][0]                     \n",
      "====================================================================================================\n",
      "Total params: 2,204,724\n",
      "Trainable params: 2,204,724\n",
      "Non-trainable params: 0\n",
      "____________________________________________________________________________________________________\n"
     ]
    }
   ],
   "source": [
    "pred_ae = Sequential()\n",
    "pred_ae.add(TimeDistributed(enc, input_shape=((EP_LEN-SERIES_SHIFT, X_LEN))))\n",
    "pred_ae.add(LSTM(V_SIZE, input_shape=(EP_LEN, V_SIZE), return_sequences=True))\n",
    "\n",
    "# pred_ae.add(dec)\n",
    "pred_ae.add(TimeDistributed(dec, input_shape=((EP_LEN, V_SIZE))))\n",
    "\n",
    "# predae = Model(input_series, v_series)\n",
    "pred_ae.summary();\n",
    "pred_ae.compile(optimizer=Adam(lr=0.0002), loss='mse')"
   ]
  },
  {
   "cell_type": "code",
   "execution_count": 7,
   "metadata": {
    "collapsed": true
   },
   "outputs": [],
   "source": [
    "x_train = DataContainer('data-balls/nums-train.pt', batch_size=32,\n",
    "                          ep_len_read=EP_LEN, shape=(12,))\n",
    "x_valid = DataContainer('data-balls/nums-valid.pt', batch_size=32,\n",
    "                          ep_len_read=EP_LEN, shape=(12,))\n"
   ]
  },
  {
   "cell_type": "code",
   "execution_count": 1623,
   "metadata": {
    "collapsed": false
   },
   "outputs": [
    {
     "name": "stderr",
     "output_type": "stream",
     "text": [
      "100%|██████████| 1500/1500 [01:17<00:00, 19.29it/s]\n"
     ]
    }
   ],
   "source": [
    "for i in tqdm.tqdm(range(1500)):\n",
    "    x = x_train.get_n_random_episodes(32)\n",
    "    \n",
    "    pred_ae.train_on_batch(x[:,0:-SERIES_SHIFT,...], x[:,SERIES_SHIFT:,...])"
   ]
  },
  {
   "cell_type": "code",
   "execution_count": 1624,
   "metadata": {
    "collapsed": false
   },
   "outputs": [
    {
     "data": {
      "text/plain": [
       "0.0039938423"
      ]
     },
     "execution_count": 1624,
     "metadata": {},
     "output_type": "execute_result"
    }
   ],
   "source": [
    "x = x_valid.get_n_random_episodes(32)\n",
    "pred_ae.train_on_batch(x[:,0:-SERIES_SHIFT,...], x[:,SERIES_SHIFT:,...])"
   ]
  },
  {
   "cell_type": "code",
   "execution_count": 1734,
   "metadata": {
    "collapsed": false
   },
   "outputs": [],
   "source": [
    "x = x_valid.get_n_random_episodes(32)\n",
    "y = pred_ae.predict(x[:,0:-SERIES_SHIFT,...])\n",
    "i = SERIES_SHIFT"
   ]
  },
  {
   "cell_type": "code",
   "execution_count": 1735,
   "metadata": {
    "collapsed": false
   },
   "outputs": [
    {
     "ename": "ValueError",
     "evalue": "cannot reshape array of size 15360 into shape (32,41,3,2,2)",
     "output_type": "error",
     "traceback": [
      "\u001b[0;31m---------------------------------------------------------------------------\u001b[0m",
      "\u001b[0;31mValueError\u001b[0m                                Traceback (most recent call last)",
      "\u001b[0;32m<ipython-input-1735-1a09f4f19863>\u001b[0m in \u001b[0;36m<module>\u001b[0;34m()\u001b[0m\n\u001b[1;32m      1\u001b[0m \u001b[0mxr\u001b[0m \u001b[0;34m=\u001b[0m \u001b[0mx\u001b[0m\u001b[0;34m.\u001b[0m\u001b[0mreshape\u001b[0m\u001b[0;34m(\u001b[0m\u001b[0mBATCH_SIZE\u001b[0m\u001b[0;34m,\u001b[0m \u001b[0mEP_LEN\u001b[0m\u001b[0;34m,\u001b[0m \u001b[0;36m3\u001b[0m\u001b[0;34m,\u001b[0m \u001b[0;36m2\u001b[0m\u001b[0;34m,\u001b[0m \u001b[0;36m2\u001b[0m\u001b[0;34m)\u001b[0m\u001b[0;34m\u001b[0m\u001b[0m\n\u001b[0;32m----> 2\u001b[0;31m \u001b[0myr\u001b[0m \u001b[0;34m=\u001b[0m \u001b[0my\u001b[0m\u001b[0;34m.\u001b[0m\u001b[0mreshape\u001b[0m\u001b[0;34m(\u001b[0m\u001b[0mBATCH_SIZE\u001b[0m\u001b[0;34m,\u001b[0m \u001b[0mEP_LEN\u001b[0m\u001b[0;34m-\u001b[0m\u001b[0mSERIES_SHIFT\u001b[0m\u001b[0;34m,\u001b[0m \u001b[0;36m3\u001b[0m\u001b[0;34m,\u001b[0m \u001b[0;36m2\u001b[0m\u001b[0;34m,\u001b[0m \u001b[0;36m2\u001b[0m\u001b[0;34m)\u001b[0m\u001b[0;34m\u001b[0m\u001b[0m\n\u001b[0m",
      "\u001b[0;31mValueError\u001b[0m: cannot reshape array of size 15360 into shape (32,41,3,2,2)"
     ]
    }
   ],
   "source": [
    "xr = x.reshape(BATCH_SIZE, EP_LEN, 3, 2, 2)\n",
    "yr = y.reshape(BATCH_SIZE, EP_LEN-SERIES_SHIFT, 3, 2, 2)"
   ]
  },
  {
   "cell_type": "code",
   "execution_count": 1733,
   "metadata": {
    "collapsed": false
   },
   "outputs": [
    {
     "data": {
      "image/png": "[encoded data removed]",
      "text/plain": [
       "<matplotlib.figure.Figure at 0x7f5e946b7be0>"
      ]
     },
     "metadata": {},
     "output_type": "display_data"
    }
   ],
   "source": [
    "plt.scatter(xr[0,i,:,0,0], xr[0,i,:,0,1], c='b')\n",
    "for point in range(3):\n",
    "    plt.arrow(xr[0,i,point,0,0], xr[0,i,point,0,1],\n",
    "              xr[0,i,point,1,0]*10-5, xr[0,i,point,1,1]*10-5)\n",
    "i_shift = i-SERIES_SHIFT\n",
    "plt.scatter(yr[0,i_shift,:,0,0], yr[0,i_shift,:,0,1], c='y')\n",
    "for point in range(3):\n",
    "    plt.arrow(yr[0,i_shift,point,0,0], yr[0,i_shift,point,0,1],\n",
    "              yr[0,i_shift,point,1,0]*10-5, yr[0,i_shift,point,1,1]*10-5)\n",
    "plt.xlim(0, 1)\n",
    "plt.ylim(0, 1)\n",
    "i += 1"
   ]
  },
  {
   "cell_type": "code",
   "execution_count": 1346,
   "metadata": {
    "collapsed": false
   },
   "outputs": [],
   "source": [
    "for i in range(1000):\n",
    "    x = x_train.get_batch_images()\n",
    "    ae.train_on_batch(x, x)\n"
   ]
  },
  {
   "cell_type": "code",
   "execution_count": 1347,
   "metadata": {
    "collapsed": false
   },
   "outputs": [
    {
     "data": {
      "text/plain": [
       "0.00015128919"
      ]
     },
     "execution_count": 1347,
     "metadata": {},
     "output_type": "execute_result"
    }
   ],
   "source": [
    "x = x_train.get_batch_images()\n",
    "y = ae.predict(x)\n",
    "ae.train_on_batch(x, x)"
   ]
  },
  {
   "cell_type": "code",
   "execution_count": 1348,
   "metadata": {
    "collapsed": false
   },
   "outputs": [],
   "source": [
    "xr = x.reshape(BATCH_SIZE, 3, 2, 2)\n",
    "yr = y.reshape(BATCH_SIZE, 3, 2, 2)\n",
    "i = 1"
   ]
  },
  {
   "cell_type": "code",
   "execution_count": 1349,
   "metadata": {
    "collapsed": false
   },
   "outputs": [
    {
     "data": {
      "text/plain": [
       "(32, 3, 2, 2)"
      ]
     },
     "execution_count": 1349,
     "metadata": {},
     "output_type": "execute_result"
    }
   ],
   "source": [
    "xr.shape"
   ]
  },
  {
   "cell_type": "code",
   "execution_count": 1356,
   "metadata": {
    "collapsed": false
   },
   "outputs": [
    {
     "data": {
      "image/png": "[encoded data removed]",
      "text/plain": [
       "<matplotlib.figure.Figure at 0x7f5e94a5c828>"
      ]
     },
     "metadata": {},
     "output_type": "display_data"
    }
   ],
   "source": [
    "plt.scatter(xr[i,:,0,0], xr[i,:,0,1], c='b')\n",
    "for point in range(3):\n",
    "    plt.arrow(xr[i,point,0,0], xr[i,point,0,1],\n",
    "              xr[i,point,1,0]*10-5, xr[i,point,1,1]*10-5)\n",
    "i_shift = i-SERIES_SHIFT\n",
    "plt.scatter(yr[i_shift,:,0,0], yr[i_shift,:,0,1], c='y')\n",
    "for point in range(3):\n",
    "    plt.arrow(yr[i_shift,point,0,0], yr[i_shift,point,0,1],\n",
    "              yr[i_shift,point,1,0]*10-5, yr[i_shift,point,1,1]*10-5)\n",
    "plt.xlim(0, 1)\n",
    "plt.ylim(0, 1)\n",
    "i += 1"
   ]
  },
  {
   "cell_type": "code",
   "execution_count": 516,
   "metadata": {
    "collapsed": false
   },
   "outputs": [
    {
     "data": {
      "image/png": "[encoded data removed]",
      "text/plain": [
       "<matplotlib.figure.Figure at 0x7f5eac7cc7b8>"
      ]
     },
     "metadata": {},
     "output_type": "display_data"
    }
   ],
   "source": [
    "plt.scatter(yr[i,:,0,0], yr[i,:,1,0], cmap='gray')\n",
    "plt.xlim(0, 1)\n",
    "plt.ylim(0, 1)\n",
    "i += 1"
   ]
  },
  {
   "cell_type": "code",
   "execution_count": null,
   "metadata": {
    "collapsed": true
   },
   "outputs": [],
   "source": []
  },
  {
   "cell_type": "code",
   "execution_count": null,
   "metadata": {
    "collapsed": true
   },
   "outputs": [],
   "source": []
  }
 ],
 "metadata": {
  "kernelspec": {
   "display_name": "Python 3",
   "language": "python",
   "name": "python3"
  },
  "language_info": {
   "codemirror_mode": {
    "name": "ipython",
    "version": 3
   },
   "file_extension": ".py",
   "mimetype": "text/x-python",
   "name": "python",
   "nbconvert_exporter": "python",
   "pygments_lexer": "ipython3",
   "version": "3.5.2"
  }
 },
 "nbformat": 4,
 "nbformat_minor": 2
}
