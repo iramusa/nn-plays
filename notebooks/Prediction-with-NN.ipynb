{
 "cells": [
  {
   "cell_type": "code",
   "execution_count": 1,
   "metadata": {
    "collapsed": false
   },
   "outputs": [
    {
     "name": "stdout",
     "output_type": "stream",
     "text": [
      "/home/ira/code/projects/nn-play\n"
     ]
    }
   ],
   "source": [
    "%cd ~/code/projects/nn-play/\n",
    "import numpy as np\n",
    "import matplotlib.pyplot as plt\n",
    "import imageio\n",
    "import copy\n",
    "from IPython.display import HTML\n",
    "%matplotlib inline\n",
    "import warnings\n",
    "warnings.filterwarnings('ignore')"
   ]
  },
  {
   "cell_type": "markdown",
   "metadata": {},
   "source": [
    "## Why predict?"
   ]
  },
  {
   "cell_type": "markdown",
   "metadata": {},
   "source": [
    "## Environment"
   ]
  },
  {
   "cell_type": "code",
   "execution_count": 2,
   "metadata": {
    "collapsed": false
   },
   "outputs": [],
   "source": [
    "from balls_sim import World, DEFAULT_SIM_CONFIG\n",
    "gif_counter = 0"
   ]
  },
  {
   "cell_type": "code",
   "execution_count": 3,
   "metadata": {
    "collapsed": false
   },
   "outputs": [
    {
     "data": {
      "text/html": [
       "<img src=\"../ims/1.gif\" width=\"140\">"
      ],
      "text/plain": [
       "<IPython.core.display.HTML object>"
      ]
     },
     "execution_count": 3,
     "metadata": {},
     "output_type": "execute_result"
    }
   ],
   "source": [
    "conf = copy.deepcopy(DEFAULT_SIM_CONFIG)\n",
    "w = World(**conf)\n",
    "gif_counter += 1\n",
    "ims = []\n",
    "for i in range(150):\n",
    "    w.run()\n",
    "    ims.append(w.draw())\n",
    "\n",
    "imageio.mimsave(\"ims/{}.gif\".format(gif_counter), ims)\n",
    "HTML('<img src=\"../ims/{}.gif\" width=\"140\">'.format(gif_counter))\n"
   ]
  },
  {
   "cell_type": "code",
   "execution_count": 4,
   "metadata": {
    "collapsed": false
   },
   "outputs": [
    {
     "data": {
      "text/html": [
       "<img src=\"../ims/2.gif\" width=\"140\">"
      ],
      "text/plain": [
       "<IPython.core.display.HTML object>"
      ]
     },
     "execution_count": 4,
     "metadata": {},
     "output_type": "execute_result"
    }
   ],
   "source": [
    "conf = copy.deepcopy(DEFAULT_SIM_CONFIG)\n",
    "# conf['n_bodies'] = 5\n",
    "conf['dynamics_noise'] = 0.1\n",
    "w = World(**conf)\n",
    "gif_counter += 1\n",
    "ims = []\n",
    "for i in range(150):\n",
    "    w.run()\n",
    "    ims.append(w.draw())\n",
    "\n",
    "imageio.mimsave(\"ims/{}.gif\".format(gif_counter), ims)\n",
    "HTML('<img src=\"../ims/{}.gif\" width=\"140\">'.format(gif_counter))"
   ]
  },
  {
   "cell_type": "code",
   "execution_count": 5,
   "metadata": {
    "collapsed": false
   },
   "outputs": [
    {
     "data": {
      "text/html": [
       "<img src=\"../ims/3.gif\" width=\"140\">"
      ],
      "text/plain": [
       "<IPython.core.display.HTML object>"
      ]
     },
     "execution_count": 5,
     "metadata": {},
     "output_type": "execute_result"
    }
   ],
   "source": [
    "conf = copy.deepcopy(DEFAULT_SIM_CONFIG)\n",
    "conf['wall_action'] = 'bounce'\n",
    "w = World(**conf)\n",
    "gif_counter += 1\n",
    "ims = []\n",
    "for i in range(150):\n",
    "    w.run()\n",
    "    ims.append(w.draw())\n",
    "\n",
    "imageio.mimsave(\"ims/{}.gif\".format(gif_counter), ims)\n",
    "HTML('<img src=\"../ims/{}.gif\" width=\"140\">'.format(gif_counter))"
   ]
  },
  {
   "cell_type": "markdown",
   "metadata": {},
   "source": [
    "## Predictions using particle filter"
   ]
  },
  {
   "cell_type": "code",
   "execution_count": 6,
   "metadata": {
    "collapsed": true
   },
   "outputs": [],
   "source": [
    "from particle_filter import ParticleFilter"
   ]
  },
  {
   "cell_type": "code",
   "execution_count": 21,
   "metadata": {
    "collapsed": false
   },
   "outputs": [
    {
     "data": {
      "text/html": [
       "<img src=\"../ims/16.gif\" width=\"280\">"
      ],
      "text/plain": [
       "<IPython.core.display.HTML object>"
      ]
     },
     "execution_count": 21,
     "metadata": {},
     "output_type": "execute_result"
    },
    {
     "data": {
      "image/png": "[encoded data removed]",
      "text/plain": [
       "<matplotlib.figure.Figure at 0x7fa91f4b8b38>"
      ]
     },
     "metadata": {},
     "output_type": "display_data"
    }
   ],
   "source": [
    "conf = copy.deepcopy(DEFAULT_SIM_CONFIG)\n",
    "conf['wall_action'] = 'random'\n",
    "conf['dynamics_noise'] = 0.01\n",
    "conf['n_bodies'] = 2\n",
    "conf['ball_action'] = 'bounce'\n",
    "\n",
    "w = World(**conf)\n",
    "gif_counter += 1\n",
    "\n",
    "pf = ParticleFilter(conf, n_particles=500)\n",
    "\n",
    "pos = [body.pos for body in w.bodies]\n",
    "vel = [body.vel for body in w.bodies]\n",
    "pf.warm_start(pos, vel)\n",
    "\n",
    "ims = []\n",
    "loss_mse = []\n",
    "loss_mae = []\n",
    "\n",
    "for i in range(150):\n",
    "    if i < 20:\n",
    "        pos = [body.pos for body in w.bodies]\n",
    "        \n",
    "        pf.update(pos)\n",
    "        pf.resample()\n",
    "    \n",
    "    w.run()\n",
    "    pf.predict()\n",
    "    \n",
    "    obs = w.draw()\n",
    "    pred = pf.draw()[:,:,0]\n",
    "    \n",
    "    loss_mse.append(np.sqrt(np.mean((obs-pred)**2)))\n",
    "    loss_mae.append(np.mean(np.sqrt((obs-pred)**2)))\n",
    "    \n",
    "    ims.append(np.concatenate((obs, pred), axis=1))\n",
    "\n",
    "imageio.mimsave(\"ims/{}.gif\".format(gif_counter), ims)\n",
    "plt.plot(loss_mse)\n",
    "plt.plot(loss_mae)\n",
    "\n",
    "HTML('<img src=\"../ims/{}.gif\" width=\"280\">'.format(gif_counter))\n"
   ]
  },
  {
   "cell_type": "code",
   "execution_count": null,
   "metadata": {
    "collapsed": true
   },
   "outputs": [],
   "source": []
  }
 ],
 "metadata": {
  "kernelspec": {
   "display_name": "Python 3",
   "language": "python",
   "name": "python3"
  },
  "language_info": {
   "codemirror_mode": {
    "name": "ipython",
    "version": 3
   },
   "file_extension": ".py",
   "mimetype": "text/x-python",
   "name": "python",
   "nbconvert_exporter": "python",
   "pygments_lexer": "ipython3",
   "version": "3.5.2"
  }
 },
 "nbformat": 4,
 "nbformat_minor": 2
}
