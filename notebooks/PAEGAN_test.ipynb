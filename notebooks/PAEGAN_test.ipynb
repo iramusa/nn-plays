{
 "cells": [
  {
   "cell_type": "code",
   "execution_count": 1,
   "metadata": {
    "collapsed": false
   },
   "outputs": [
    {
     "name": "stdout",
     "output_type": "stream",
     "text": [
      "/home/ira/code/projects/nn-play\n"
     ]
    }
   ],
   "source": [
    "%cd ~/code/projects/nn-play/\n",
    "import numpy as np\n",
    "import matplotlib.pyplot as plt\n",
    "import imageio\n",
    "import copy\n",
    "from IPython.display import HTML\n",
    "%matplotlib inline\n",
    "import warnings\n",
    "# warnings.filterwarnings('ignore')\n",
    "from balls_sim import World, DEFAULT_SIM_CONFIG\n",
    "from particle_filter import ParticleFilter  # see here for implementational details\n",
    "\n",
    "gif_counter = 0"
   ]
  },
  {
   "cell_type": "code",
   "execution_count": 2,
   "metadata": {
    "collapsed": true
   },
   "outputs": [],
   "source": []
  },
  {
   "cell_type": "markdown",
   "metadata": {},
   "source": [
    "### Prepare nets"
   ]
  },
  {
   "cell_type": "code",
   "execution_count": 3,
   "metadata": {
    "collapsed": false
   },
   "outputs": [],
   "source": [
    "import torch\n",
    "from torch.autograd import Variable\n",
    "from torch_nets import *\n",
    "import torch_nets_tests"
   ]
  },
  {
   "cell_type": "code",
   "execution_count": null,
   "metadata": {
    "collapsed": false
   },
   "outputs": [
    {
     "name": "stdout",
     "output_type": "stream",
     "text": [
      "Loading /home/ira/code/projects/nn-play/experiments/0__well_done/17-11-30_09:05-wp_1b_1l_small_deter/data/train.pt\n",
      "Loading /home/ira/code/projects/nn-play/experiments/0__well_done/17-11-30_09:05-wp_1b_1l_small_deter/data/test.pt\n"
     ]
    },
    {
     "name": "stderr",
     "output_type": "stream",
     "text": [
      "  0%|          | 0/10000 [00:00<?, ?it/s]/home/ira/code/envs/flexi/lib/python3.5/site-packages/imageio/core/util.py:78: UserWarning: Lossy conversion from float32 to uint8, range [0, 1]\n",
      "  dtype_str, out_type.__name__))\n",
      "100%|██████████| 10000/10000 [03:05<00:00, 54.00it/s, epoch=[1/225], pae train loss=0.000403, pae valid loss=0.0113]\n",
      " 55%|█████▌    | 5529/10000 [01:43<01:32, 48.56it/s, epoch=[2/225], pae train loss=0.000361, pae valid loss=0.0135] "
     ]
    }
   ],
   "source": [
    "torch_nets_tests.train_PAEGAN(2, train_gan=False, train_av=False)"
   ]
  },
  {
   "cell_type": "code",
   "execution_count": 4,
   "metadata": {
    "collapsed": false
   },
   "outputs": [],
   "source": [
    "pae = VisualPAEGAN()\n",
    "pae.load_state_dict(torch.load('experiments/paegan-stolen/paegan_epoch_26.pth'))"
   ]
  },
  {
   "cell_type": "code",
   "execution_count": 5,
   "metadata": {
    "collapsed": false
   },
   "outputs": [
    {
     "name": "stderr",
     "output_type": "stream",
     "text": [
      "/home/ira/code/projects/nn-play/particle_filter.py:68: RuntimeWarning: invalid value encountered in true_divide\n",
      "  self.w /= np.sum(self.w)\n",
      "/home/ira/code/projects/nn-play/particle_filter.py:72: RuntimeWarning: invalid value encountered in less\n",
      "  samples_i = np.random.choice(indices, self.n, p=self.w)\n"
     ]
    },
    {
     "name": "stdout",
     "output_type": "stream",
     "text": [
      "size torch.Size([160, 1, 256])\n",
      "size torch.Size([160, 1, 1, 28, 28])\n"
     ]
    },
    {
     "name": "stderr",
     "output_type": "stream",
     "text": [
      "/home/ira/code/envs/flexi/lib/python3.5/site-packages/imageio/core/util.py:78: UserWarning: Lossy conversion from float32 to uint8, range [0, 1]\n",
      "  dtype_str, out_type.__name__))\n",
      "/home/ira/code/envs/flexi/lib/python3.5/site-packages/imageio/core/util.py:78: UserWarning: Lossy conversion from float64 to uint8, range [0, 1]\n",
      "  dtype_str, out_type.__name__))\n"
     ]
    },
    {
     "name": "stdout",
     "output_type": "stream",
     "text": [
      "Uninformative baseline level at 0.012006248347461224\n"
     ]
    },
    {
     "data": {
      "text/html": [
       "\n",
       "<table>\n",
       "  <tr>\n",
       "    <th>Ground truth</th>\n",
       "    <th>Particle Filter</th> \n",
       "    <th>PF Sample</th> \n",
       "    <th>Predictive Autoencoder</th>\n",
       "    <th>PAE Sample</th>\n",
       "  </tr>\n",
       "  <tr>\n",
       "    <td><img src=\"../ims/1-percept.gif\" width=\"140\"></td>\n",
       "    <td><img src=\"../ims/1-pf_belief.gif\" width=\"140\"></td> \n",
       "    <td><img src=\"../ims/1-pf_sample.gif\" width=\"140\"></td>\n",
       "    <td><img src=\"../ims/1-pae_belief.gif\" width=\"140\"></td>\n",
       "    <td><img src=\"../ims/1-pae_sample.gif\" width=\"140\"></td>\n",
       "    \n",
       "  </tr>\n",
       "\n",
       "</table>"
      ],
      "text/plain": [
       "<IPython.core.display.HTML object>"
      ]
     },
     "execution_count": 5,
     "metadata": {},
     "output_type": "execute_result"
    },
    {
     "data": {
      "image/png": "[encoded data removed]",
      "text/plain": [
       "<matplotlib.figure.Figure at 0x7f0f4698b4e0>"
      ]
     },
     "metadata": {},
     "output_type": "display_data"
    }
   ],
   "source": [
    "conf = copy.deepcopy(DEFAULT_SIM_CONFIG)\n",
    "conf['radius'] = 2.0\n",
    "conf['dynamics_noise'] = 0.01\n",
    "conf['measurement_noise'] = 0.0003\n",
    "conf['n_bodies'] = 1\n",
    "\n",
    "w = World(**conf)\n",
    "gif_counter += 1\n",
    "\n",
    "pf = ParticleFilter(conf, n_particles=10)\n",
    "\n",
    "pos = [body.pos for body in w.bodies]\n",
    "vel = [body.vel for body in w.bodies]\n",
    "pf.warm_start(pos, vel=vel)\n",
    "\n",
    "ims = []\n",
    "\n",
    "ims_percept = []\n",
    "ims_pf_belief = []\n",
    "ims_pf_sample = []\n",
    "\n",
    "loss_mse = []\n",
    "loss_sample_mse = []\n",
    "loss_mae = []\n",
    "\n",
    "RUN_LENGTH = 160\n",
    "\n",
    "for i in range(RUN_LENGTH):\n",
    "    if i < 8:\n",
    "        measures = [body.pos for body in w.bodies]\n",
    "        pf.update(measures)\n",
    "        pf.resample()\n",
    "    \n",
    "    w.run()\n",
    "    pf.predict()\n",
    "    \n",
    "    percept = w.draw()\n",
    "    belief = pf.draw()[:,:,0]\n",
    "    sample = pf.parts[0].draw()\n",
    "    \n",
    "    loss_mse.append(np.mean((percept-belief)**2))\n",
    "    loss_sample_mse.append(np.mean((percept-sample)**2))\n",
    "    \n",
    "    ims_percept.append(percept)\n",
    "    ims_pf_belief.append(belief)\n",
    "    ims_pf_sample.append(sample)\n",
    "\n",
    "    \n",
    "# run predictions with the network\n",
    "x = np.array(ims_percept)\n",
    "x = x.reshape((1, 160, 28, 28, 1))\n",
    "x[:,8:, ...] = 0\n",
    "x = x.transpose((1, 0, 4, 2, 3))\n",
    "x = torch.FloatTensor(x)\n",
    "# x = x.cuda()\n",
    "x = Variable(x)\n",
    "states = pae.bs_prop(x)\n",
    "\n",
    "# create expected observations\n",
    "obs_expectation = pae.decoder(states)\n",
    "obs_expectation = obs_expectation.view(x.size())\n",
    "\n",
    "obs_expectation = obs_expectation.data.cpu().numpy()\n",
    "obs_expectation = obs_expectation.reshape((RUN_LENGTH, 28, 28))\n",
    "\n",
    "\n",
    "# create observation samples\n",
    "noise = Variable(torch.FloatTensor(RUN_LENGTH, N_SIZE))\n",
    "noise.data.normal_(0, 1)\n",
    "\n",
    "print('size', states.size())\n",
    "#states_non_ep = states.unfold(0, 1, (EP_LEN*BATCH_SIZE)//GAN_BATCH_SIZE).squeeze(-1)\n",
    "\n",
    "pae_samples = pae.G(noise, states.squeeze_(1))\n",
    "pae_samples = pae_samples.view(x.size())\n",
    "print('size', pae_samples.size())\n",
    "\n",
    "pae_samples = pae_samples.data.cpu().numpy()\n",
    "pae_samples = pae_samples.reshape((RUN_LENGTH, 28, 28))\n",
    "\n",
    "pae_ims = []\n",
    "pae_samples_ims = []\n",
    "loss_pae = []\n",
    "for i in range(RUN_LENGTH):\n",
    "    pae_ims.append(obs_expectation[i, ...])\n",
    "    pae_samples_ims.append(pae_samples[i, ...])\n",
    "    loss_pae.append(np.mean((ims_percept[i]-obs_expectation[i, ...])**2))\n",
    "\n",
    "DURATION = 0.2\n",
    "imageio.mimsave(\"ims/{}-percept.gif\".format(gif_counter), ims_percept, duration=DURATION)\n",
    "imageio.mimsave(\"ims/{}-pf_belief.gif\".format(gif_counter), ims_pf_belief, duration=DURATION)\n",
    "imageio.mimsave(\"ims/{}-pf_sample.gif\".format(gif_counter), ims_pf_sample, duration=DURATION)\n",
    "imageio.mimsave(\"ims/{}-pae_belief.gif\".format(gif_counter), pae_ims, duration=DURATION)\n",
    "imageio.mimsave(\"ims/{}-pae_sample.gif\".format(gif_counter), pae_samples_ims, duration=DURATION)\n",
    "\n",
    "ims_ar = np.array(ims_percept)\n",
    "av_pixel_intensity = np.mean(ims_ar)\n",
    "baseline_level = np.mean((ims_ar-av_pixel_intensity)**2)\n",
    "baseline = np.ones(len(loss_mse)) * baseline_level\n",
    "print(\"Uninformative baseline level at {}\".format(baseline_level))\n",
    "\n",
    "plt.plot(loss_mse)\n",
    "plt.plot(loss_pae)\n",
    "plt.plot(baseline, 'g--')\n",
    "\n",
    "plt.title(\"Image reconstruction loss vs timestep\")\n",
    "plt.ylabel(\"loss (MSE)\")\n",
    "plt.xlabel(\"timestep\")\n",
    "plt.legend([\"PF\", \"PAE\"])\n",
    "\n",
    "HTML(\"\"\"\n",
    "<table>\n",
    "  <tr>\n",
    "    <th>Ground truth</th>\n",
    "    <th>Particle Filter</th> \n",
    "    <th>PF Sample</th> \n",
    "    <th>Predictive Autoencoder</th>\n",
    "    <th>PAE Sample</th>\n",
    "  </tr>\n",
    "  <tr>\n",
    "    <td><img src=\"../ims/{0}-percept.gif\" width=\"140\"></td>\n",
    "    <td><img src=\"../ims/{0}-pf_belief.gif\" width=\"140\"></td> \n",
    "    <td><img src=\"../ims/{0}-pf_sample.gif\" width=\"140\"></td>\n",
    "    <td><img src=\"../ims/{0}-pae_belief.gif\" width=\"140\"></td>\n",
    "    <td><img src=\"../ims/{0}-pae_sample.gif\" width=\"140\"></td>\n",
    "    \n",
    "  </tr>\n",
    "\n",
    "</table>\"\"\".format(gif_counter))"
   ]
  },
  {
   "cell_type": "code",
   "execution_count": null,
   "metadata": {
    "collapsed": true
   },
   "outputs": [],
   "source": []
  }
 ],
 "metadata": {
  "kernelspec": {
   "display_name": "Python 3",
   "language": "python",
   "name": "python3"
  },
  "language_info": {
   "codemirror_mode": {
    "name": "ipython",
    "version": 3
   },
   "file_extension": ".py",
   "mimetype": "text/x-python",
   "name": "python",
   "nbconvert_exporter": "python",
   "pygments_lexer": "ipython3",
   "version": "3.5.2"
  },
  "latex_envs": {
   "LaTeX_envs_menu_present": true,
   "autocomplete": true,
   "bibliofile": "biblio.bib",
   "cite_by": "apalike",
   "current_citInitial": 1,
   "eqLabelWithNumbers": true,
   "eqNumInitial": 1,
   "hotkeys": {
    "equation": "Ctrl-E",
    "itemize": "Ctrl-I"
   },
   "labels_anchors": false,
   "latex_user_defs": false,
   "report_style_numbering": false,
   "user_envs_cfg": false
  }
 },
 "nbformat": 4,
 "nbformat_minor": 2
}
