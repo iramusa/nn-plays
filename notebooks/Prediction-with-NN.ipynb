{
 "cells": [
  {
   "cell_type": "code",
   "execution_count": 1,
   "metadata": {
    "collapsed": false
   },
   "outputs": [
    {
     "name": "stdout",
     "output_type": "stream",
     "text": [
      "/home/ira/code/projects/nn-play\n"
     ]
    }
   ],
   "source": [
    "%cd ~/code/projects/nn-play/\n",
    "import numpy as np\n",
    "import matplotlib.pyplot as plt\n",
    "import imageio\n",
    "import copy\n",
    "from IPython.display import HTML\n",
    "%matplotlib inline\n",
    "import warnings\n",
    "# warnings.filterwarnings('ignore')"
   ]
  },
  {
   "cell_type": "markdown",
   "metadata": {},
   "source": [
    "## Why predict?"
   ]
  },
  {
   "cell_type": "markdown",
   "metadata": {},
   "source": [
    "## Environment\n",
    "Consider a series of images representing a ball moving through a 2D world\n",
    "Various dynamics:\n",
    "* add noise to its motion \n",
    "* bounce from walls or pass through them\n",
    "* add noise to observations"
   ]
  },
  {
   "cell_type": "code",
   "execution_count": 2,
   "metadata": {
    "collapsed": false
   },
   "outputs": [],
   "source": [
    "from balls_sim import World, DEFAULT_SIM_CONFIG\n",
    "gif_counter = 0"
   ]
  },
  {
   "cell_type": "code",
   "execution_count": 3,
   "metadata": {
    "collapsed": false
   },
   "outputs": [
    {
     "name": "stderr",
     "output_type": "stream",
     "text": [
      "/home/ira/code/envs/flexi/lib/python3.5/site-packages/imageio/core/util.py:78: UserWarning: Lossy conversion from float32 to uint8, range [0, 1]\n",
      "  dtype_str, out_type.__name__))\n"
     ]
    },
    {
     "data": {
      "text/html": [
       "<img src=\"../ims/1.gif\" width=\"280\">"
      ],
      "text/plain": [
       "<IPython.core.display.HTML object>"
      ]
     },
     "execution_count": 3,
     "metadata": {},
     "output_type": "execute_result"
    }
   ],
   "source": [
    "conf = copy.deepcopy(DEFAULT_SIM_CONFIG)\n",
    "w = World(**conf)\n",
    "gif_counter += 1\n",
    "ims = []\n",
    "for i in range(150):\n",
    "    w.run()\n",
    "    ims.append(w.draw())\n",
    "\n",
    "imageio.mimsave(\"ims/{}.gif\".format(gif_counter), ims)\n",
    "HTML('<img src=\"../ims/{}.gif\" width=\"280\">'.format(gif_counter))\n"
   ]
  },
  {
   "cell_type": "code",
   "execution_count": 4,
   "metadata": {
    "collapsed": false
   },
   "outputs": [
    {
     "name": "stderr",
     "output_type": "stream",
     "text": [
      "/home/ira/code/envs/flexi/lib/python3.5/site-packages/imageio/core/util.py:78: UserWarning: Lossy conversion from float32 to uint8, range [0, 1]\n",
      "  dtype_str, out_type.__name__))\n"
     ]
    },
    {
     "data": {
      "text/html": [
       "<img src=\"../ims/2.gif\" width=\"280\">"
      ],
      "text/plain": [
       "<IPython.core.display.HTML object>"
      ]
     },
     "execution_count": 4,
     "metadata": {},
     "output_type": "execute_result"
    }
   ],
   "source": [
    "conf = copy.deepcopy(DEFAULT_SIM_CONFIG)\n",
    "# conf['n_bodies'] = 5\n",
    "conf['dynamics_noise'] = 0.3\n",
    "w = World(**conf)\n",
    "gif_counter += 1\n",
    "ims = []\n",
    "for i in range(150):\n",
    "    w.run()\n",
    "    ims.append(w.draw())\n",
    "\n",
    "imageio.mimsave(\"ims/{}.gif\".format(gif_counter), ims)\n",
    "HTML('<img src=\"../ims/{}.gif\" width=\"280\">'.format(gif_counter))"
   ]
  },
  {
   "cell_type": "code",
   "execution_count": 5,
   "metadata": {
    "collapsed": false
   },
   "outputs": [
    {
     "name": "stderr",
     "output_type": "stream",
     "text": [
      "/home/ira/code/envs/flexi/lib/python3.5/site-packages/imageio/core/util.py:78: UserWarning: Lossy conversion from float32 to uint8, range [0, 1]\n",
      "  dtype_str, out_type.__name__))\n"
     ]
    },
    {
     "data": {
      "text/html": [
       "<img src=\"../ims/3.gif\" width=\"280\">"
      ],
      "text/plain": [
       "<IPython.core.display.HTML object>"
      ]
     },
     "execution_count": 5,
     "metadata": {},
     "output_type": "execute_result"
    }
   ],
   "source": [
    "conf = copy.deepcopy(DEFAULT_SIM_CONFIG)\n",
    "conf['wall_action'] = 'random'\n",
    "w = World(**conf)\n",
    "gif_counter += 1\n",
    "ims = []\n",
    "for i in range(150):\n",
    "    w.run()\n",
    "    ims.append(w.draw())\n",
    "\n",
    "imageio.mimsave(\"ims/{}.gif\".format(gif_counter), ims)\n",
    "HTML('<img src=\"../ims/{}.gif\" width=\"280\">'.format(gif_counter))"
   ]
  },
  {
   "cell_type": "markdown",
   "metadata": {},
   "source": [
    "## Making predictions with a model\n",
    "With a model of the process and model of a sensor we can form a probabilistic distributions over possible world states.\n",
    "State representation is selected manually by someone who knows the environment.\n",
    "\n",
    "Particle filter starts with perfect knowledge of state. It operates with structured data."
   ]
  },
  {
   "cell_type": "markdown",
   "metadata": {},
   "source": [
    "### Baseline for predictions"
   ]
  },
  {
   "cell_type": "code",
   "execution_count": 6,
   "metadata": {
    "collapsed": false
   },
   "outputs": [
    {
     "data": {
      "text/plain": [
       "0.035431996"
      ]
     },
     "execution_count": 6,
     "metadata": {},
     "output_type": "execute_result"
    }
   ],
   "source": [
    "conf = copy.deepcopy(DEFAULT_SIM_CONFIG)\n",
    "conf['wall_action'] = 'random'\n",
    "w = World(**conf)\n",
    "ims = []\n",
    "for i in range(150):\n",
    "    w.run()\n",
    "    ims.append(w.draw())\n",
    "\n",
    "ims_ar = np.array(ims)\n",
    "av_pixel_intensity = np.mean(ims_ar)\n",
    "ims_ar = np.mean((ims_ar-av_pixel_intensity)**2)\n",
    "ims_ar"
   ]
  },
  {
   "cell_type": "code",
   "execution_count": 7,
   "metadata": {
    "collapsed": true
   },
   "outputs": [],
   "source": [
    "from particle_filter import ParticleFilter"
   ]
  },
  {
   "cell_type": "code",
   "execution_count": 12,
   "metadata": {
    "collapsed": false
   },
   "outputs": [
    {
     "name": "stderr",
     "output_type": "stream",
     "text": [
      "/home/ira/code/envs/flexi/lib/python3.5/site-packages/imageio/core/util.py:78: UserWarning: Lossy conversion from float32 to uint8, range [0, 1]\n",
      "  dtype_str, out_type.__name__))\n",
      "/home/ira/code/envs/flexi/lib/python3.5/site-packages/imageio/core/util.py:78: UserWarning: Lossy conversion from float64 to uint8, range [0, 1]\n",
      "  dtype_str, out_type.__name__))\n",
      "/home/ira/code/envs/flexi/lib/python3.5/site-packages/imageio/core/util.py:104: UserWarning: Conversion from float64 to uint8, range [0.0, 1.0000000000000007]\n",
      "  'range [{2}, {3}]'.format(dtype_str, out_type.__name__, mi, ma))\n"
     ]
    },
    {
     "name": "stdout",
     "output_type": "stream",
     "text": [
      "Baseline is 0.09155705571174622\n"
     ]
    },
    {
     "data": {
      "text/html": [
       "\n",
       "<table>\n",
       "  <tr>\n",
       "    <th>Ground truth</th>\n",
       "    <th>Belief</th> \n",
       "    <th>Sample</th>\n",
       "  </tr>\n",
       "  <tr>\n",
       "    <td><img src=\"../ims/8-percept.gif\" width=\"140\"></td>\n",
       "    <td><img src=\"../ims/8-belief.gif\" width=\"140\"></td> \n",
       "    <td><img src=\"../ims/8-sample.gif\" width=\"140\"></td>\n",
       "  </tr>\n",
       "\n",
       "</table>"
      ],
      "text/plain": [
       "<IPython.core.display.HTML object>"
      ]
     },
     "execution_count": 12,
     "metadata": {},
     "output_type": "execute_result"
    },
    {
     "data": {
      "image/png": "[encoded data removed]",
      "text/plain": [
       "<matplotlib.figure.Figure at 0x7f8a8e28a860>"
      ]
     },
     "metadata": {},
     "output_type": "display_data"
    }
   ],
   "source": [
    "conf = copy.deepcopy(DEFAULT_SIM_CONFIG)\n",
    "conf['wall_action'] = 'bounce'\n",
    "conf['dynamics_noise'] = 0.003\n",
    "conf['measurement_noise'] = 0.003\n",
    "conf['n_bodies'] = 3\n",
    "# conf['ball_action'] = 'bounce'\n",
    "\n",
    "w = World(**conf)\n",
    "gif_counter += 1\n",
    "\n",
    "pf = ParticleFilter(conf, n_particles=100)\n",
    "\n",
    "pos = [body.pos for body in w.bodies]\n",
    "vel = [body.vel for body in w.bodies]\n",
    "pf.warm_start(pos, vel=vel)\n",
    "\n",
    "ims = []\n",
    "\n",
    "ims_percept = []\n",
    "ims_belief = []\n",
    "ims_sample = []\n",
    "\n",
    "loss_mse = []\n",
    "loss_sample_mse = []\n",
    "loss_mae = []\n",
    "\n",
    "for i in range(150):\n",
    "    if i < 8:\n",
    "        measures = [body.pos for body in w.bodies]\n",
    "        \n",
    "        pf.update(measures)\n",
    "        pf.resample()\n",
    "    \n",
    "    w.run()\n",
    "    pf.predict()\n",
    "    \n",
    "    percept = w.draw()\n",
    "    belief = pf.draw()[:,:,0]\n",
    "    sample = pf.parts[0].draw()\n",
    "    \n",
    "    loss_mse.append(np.mean((percept-belief)**2))\n",
    "    loss_sample_mse.append(np.mean((percept-sample)**2))\n",
    "    \n",
    "    ims_percept.append(percept)\n",
    "    ims_belief.append(belief)\n",
    "    ims_sample.append(sample)\n",
    "\n",
    "\n",
    "imageio.mimsave(\"ims/{}-percept.gif\".format(gif_counter), ims_percept)\n",
    "imageio.mimsave(\"ims/{}-belief.gif\".format(gif_counter), ims_belief)\n",
    "imageio.mimsave(\"ims/{}-sample.gif\".format(gif_counter), ims_sample)\n",
    "\n",
    "ims_ar = np.array(ims_percept)\n",
    "av_pixel_intensity = np.mean(ims_ar)\n",
    "baseline_level = np.mean((ims_ar-av_pixel_intensity)**2)\n",
    "baseline = np.ones(len(loss_mse)) * baseline_level\n",
    "print(\"Baseline is {}\".format(baseline_level))\n",
    "\n",
    "plt.plot(loss_mse)\n",
    "plt.plot(loss_sample_mse)\n",
    "plt.plot(baseline, 'g--')\n",
    "\n",
    "plt.title(\"Loss vs timestep\")\n",
    "plt.ylabel(\"loss\")\n",
    "plt.xlabel(\"timestep\")\n",
    "plt.legend([\"belief MSE\", \"sample MSE\"])\n",
    "\n",
    "HTML(\"\"\"\n",
    "<table>\n",
    "  <tr>\n",
    "    <th>Ground truth</th>\n",
    "    <th>Belief</th> \n",
    "    <th>Sample</th>\n",
    "  </tr>\n",
    "  <tr>\n",
    "    <td><img src=\"../ims/{0}-percept.gif\" width=\"140\"></td>\n",
    "    <td><img src=\"../ims/{0}-belief.gif\" width=\"140\"></td> \n",
    "    <td><img src=\"../ims/{0}-sample.gif\" width=\"140\"></td>\n",
    "  </tr>\n",
    "\n",
    "</table>\"\"\".format(gif_counter))"
   ]
  },
  {
   "cell_type": "markdown",
   "metadata": {
    "collapsed": true
   },
   "source": [
    "## State tracking/predicting percepts using predictive autoencoder\n",
    "Given a sequence of percepts from an environment, the network predicts later percepts.\n",
    "\n",
    "In the process it finds a representation of the environment suitable for predictions (ie containing unobservable information)\n",
    "\n",
    "But standard NN training results in a deterministic network, ie network that always outputs the same for a given input.\n",
    "\n",
    "Ok for state tracking: there is a single optimal belief.\n",
    "\n",
    "Not ok for percept prediction: in a stochastic environment there are multiple possible percepts.\n",
    "\n",
    "Standard NN outputs a mixture of possible future percepts (itself an unrealistic percept)"
   ]
  },
  {
   "cell_type": "markdown",
   "metadata": {},
   "source": [
    "## Can we sample from beliefs?\n",
    "### Sampling percepts\n",
    "G generates:\n",
    "    * from? last belief state, noise vector\n",
    "    * what? a percept\n",
    "D compares:\n",
    "    * Percepts created by the above method vs actual percept after the update\n",
    "                \n",
    "### Sampling world states\n",
    "G generates:\n",
    "    * from? last belief state, noise vector\n",
    "    * what? a state resulting from updating last belief state with a percept\n",
    "    * then? a network is initialised with this state and run for a couple of timestep to generate percepts (standard deterministic fashion)\n",
    "D compares:\n",
    "    * Percepts created by the above method vs actual percepts\n",
    "\n",
    "### Limitation\n",
    "Resulting state sample can still contain uncertainty (in places where update doesn't kill of all uncertainty)"
   ]
  },
  {
   "cell_type": "markdown",
   "metadata": {},
   "source": []
  },
  {
   "cell_type": "markdown",
   "metadata": {},
   "source": [
    "## Beliefs can grow without bounds\n",
    "For some kinds noise the amount of information required to describe the belief increases with time.\n",
    "In such cases the network should ultimately fail, because there is fixed amount of information that can be contained in its representation.\n",
    "\n",
    "(This is main advantage of particle filter vs Kalman filter -- PF can hold multiple separate hypothesis, KF bunches all of the hypotheses with a single descriptor)"
   ]
  },
  {
   "cell_type": "markdown",
   "metadata": {},
   "source": [
    "## Can we distinguish when to branch into multiple separate hypotheses (instantiations of neural network)?\n",
    "Can we use error signal for this?\n"
   ]
  },
  {
   "cell_type": "markdown",
   "metadata": {},
   "source": []
  },
  {
   "cell_type": "markdown",
   "metadata": {},
   "source": []
  }
 ],
 "metadata": {
  "kernelspec": {
   "display_name": "Python 3",
   "language": "python",
   "name": "python3"
  },
  "language_info": {
   "codemirror_mode": {
    "name": "ipython",
    "version": 3
   },
   "file_extension": ".py",
   "mimetype": "text/x-python",
   "name": "python",
   "nbconvert_exporter": "python",
   "pygments_lexer": "ipython3",
   "version": "3.5.2"
  }
 },
 "nbformat": 4,
 "nbformat_minor": 2
}
