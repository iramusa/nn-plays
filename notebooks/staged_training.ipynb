{
 "cells": [
  {
   "cell_type": "code",
   "execution_count": null,
   "metadata": {
    "collapsed": false
   },
   "outputs": [],
   "source": [
    "%cd ~/code/projects/nn-play/\n",
    "\n",
    "import keras \n",
    "from keras.models import Model, Sequential\n",
    "from keras.layers import Input, Dense\n",
    "from keras.optimizers import Adam, Adadelta, RMSprop, SGD\n",
    "from keras.layers import Input, Dense, Convolution2D, Deconvolution2D, MaxPooling2D,\\\n",
    "    UpSampling2D, Merge, LSTM, Flatten, ZeroPadding2D, Reshape, BatchNormalization, Dropout\n",
    "from keras.layers.wrappers import TimeDistributed\n",
    "\n",
    "from structured_container import DataContainer\n",
    "\n",
    "import tqdm\n",
    "from tqdm import tqdm_notebook\n",
    "\n",
    "import matplotlib.pyplot as plt\n",
    "%matplotlib inline\n",
    "import numpy as np"
   ]
  },
  {
   "cell_type": "code",
   "execution_count": null,
   "metadata": {
    "collapsed": true
   },
   "outputs": [],
   "source": [
    "IM_WIDTH = 28\n",
    "IM_HEIGHT = 28\n",
    "IM_CHANNELS = 1\n",
    "\n",
    "SERIES_SHIFT = 1\n",
    "EP_LEN = 100 - SERIES_SHIFT\n",
    "BATCH_SIZE = 32\n",
    "\n",
    "V_SIZE = 128\n",
    "\n",
    "empty_model = True"
   ]
  },
  {
   "cell_type": "code",
   "execution_count": null,
   "metadata": {
    "collapsed": false
   },
   "outputs": [],
   "source": [
    "# predictive ae\n",
    "\n",
    "input_im = Input(shape=(IM_WIDTH, IM_HEIGHT, IM_CHANNELS))\n",
    "h = Convolution2D(16, 5, 5, subsample=(2,2), activation='relu', border_mode='same')(input_im)\n",
    "h = Convolution2D(8, 3, 3, subsample=(2,2), activation='relu', border_mode='same')(h)\n",
    "h = Flatten()(h)\n",
    "v = Dense(V_SIZE, activation='relu')(h)\n",
    "\n",
    "enc = Model(input_im, v)\n",
    "# enc.summary()"
   ]
  },
  {
   "cell_type": "code",
   "execution_count": null,
   "metadata": {
    "collapsed": true
   },
   "outputs": [],
   "source": [
    "input_v = Input(shape=(V_SIZE,))\n",
    "\n",
    "h = Dense(8*7*7, activation='relu')(input_v)\n",
    "h = Reshape((7,7,8))(h)\n",
    "h = UpSampling2D((2,2))(h)\n",
    "h = Convolution2D(16, 3, 3, activation='relu', border_mode='same')(h)\n",
    "h = UpSampling2D((2,2))(h)\n",
    "output_im = Convolution2D(1, 5, 5, activation='sigmoid', border_mode='same')(h)\n",
    "\n",
    "# output_im\n",
    "\n",
    "dec = Model(input_v, output_im)\n",
    "# dec.summary()"
   ]
  },
  {
   "cell_type": "code",
   "execution_count": null,
   "metadata": {
    "collapsed": true
   },
   "outputs": [],
   "source": [
    "input_im = Input(shape=(IM_WIDTH, IM_HEIGHT, IM_CHANNELS))\n",
    "v = enc(input_im)\n",
    "output_im = dec(v)\n",
    "\n",
    "ae = Model(input_im, output_im)\n",
    "ae.compile(optimizer=Adam(lr=0.0002), loss='mse')\n",
    "# ae.summary();"
   ]
  },
  {
   "cell_type": "code",
   "execution_count": null,
   "metadata": {
    "collapsed": true
   },
   "outputs": [],
   "source": [
    "pred_ae = Sequential()\n",
    "pred_ae.add(TimeDistributed(enc, input_shape=((EP_LEN-SERIES_SHIFT, IM_WIDTH, IM_HEIGHT, IM_CHANNELS))))\n",
    "pred_ae.add(LSTM(V_SIZE, input_shape=(EP_LEN, V_SIZE), return_sequences=True))\n",
    "\n",
    "pred_ae.add(TimeDistributed(dec, input_shape=((EP_LEN, V_SIZE))))\n",
    "\n",
    "pred_ae.compile(optimizer=Adam(lr=0.0002), loss='mse')\n",
    "# pred_ae.summary();"
   ]
  },
  {
   "cell_type": "code",
   "execution_count": null,
   "metadata": {
    "collapsed": true
   },
   "outputs": [],
   "source": [
    "images_train = DataContainer('data-balls/balls-train.pt', batch_size=32,\n",
    "                          ep_len_read=EP_LEN)\n",
    "images_valid = DataContainer('data-balls/balls-valid.pt', batch_size=32,\n",
    "                          ep_len_read=EP_LEN)\n"
   ]
  },
  {
   "cell_type": "code",
   "execution_count": null,
   "metadata": {
    "collapsed": true
   },
   "outputs": [],
   "source": [
    "images_train.populate_images()"
   ]
  },
  {
   "cell_type": "code",
   "execution_count": null,
   "metadata": {
    "collapsed": true
   },
   "outputs": [],
   "source": [
    "x = images_train.get_batch_episodes()\n",
    "i = 0"
   ]
  },
  {
   "cell_type": "code",
   "execution_count": null,
   "metadata": {
    "collapsed": false
   },
   "outputs": [],
   "source": [
    "plt.imshow(x[0,i,:,:,0], cmap='gray', vmin=0.0, vmax=1.0)\n",
    "i += 1"
   ]
  },
  {
   "cell_type": "code",
   "execution_count": null,
   "metadata": {
    "collapsed": true
   },
   "outputs": [],
   "source": [
    "if empty_model:\n",
    "    fpath = 'models/pred_ae_single_init.hdf5'\n",
    "#     pred_ae.save_weights(fpath)\n",
    "    pred_ae.load_weights(fpath)\n",
    "    empty_model = False"
   ]
  },
  {
   "cell_type": "code",
   "execution_count": 38,
   "metadata": {
    "collapsed": false
   },
   "outputs": [],
   "source": [
    "def validate(p):\n",
    "    x = images_valid.get_batch_episodes()\n",
    "    x_noised = np.copy(x)\n",
    "    for_removal = np.random.random(EP_LEN) < p\n",
    "    for_removal[0:15] = False\n",
    "    x_noised[:, for_removal] = 0\n",
    "    test_perf = pred_ae.test_on_batch(x_noised[:,0:-SERIES_SHIFT,...], x[:,SERIES_SHIFT:,...])\n",
    "    print('p', p)\n",
    "    print('test perf', test_perf)"
   ]
  },
  {
   "cell_type": "code",
   "execution_count": null,
   "metadata": {
    "collapsed": false
   },
   "outputs": [],
   "source": [
    "# train without noise\n",
    "for i in tqdm.tqdm(range(2000)):\n",
    "   x = images_train.get_batch_episodes()\n",
    "   pred_ae.train_on_batch(x[:,0:-SERIES_SHIFT,...], x[:,SERIES_SHIFT:,...])"
   ]
  },
  {
   "cell_type": "code",
   "execution_count": 39,
   "metadata": {
    "collapsed": false
   },
   "outputs": [
    {
     "name": "stdout",
     "output_type": "stream",
     "text": [
      "p 0.0\n",
      "test perf 0.000607585\n"
     ]
    }
   ],
   "source": [
    "validate(0.0)"
   ]
  },
  {
   "cell_type": "code",
   "execution_count": 40,
   "metadata": {
    "collapsed": false
   },
   "outputs": [
    {
     "name": "stdout",
     "output_type": "stream",
     "text": [
      "p 0.1\n",
      "test perf 0.00368766\n",
      "p 0.188888888889\n",
      "test perf 0.0061844\n",
      "p 0.277777777778\n",
      "test perf 0.0100345\n",
      "p 0.366666666667\n",
      "test perf 0.0129581\n",
      "p 0.455555555556\n",
      "test perf 0.0156187\n",
      "p 0.544444444444\n",
      "test perf 0.0177937\n",
      "p 0.633333333333\n",
      "test perf 0.0202135\n",
      "p 0.722222222222\n",
      "test perf 0.0201473\n",
      "p 0.811111111111\n",
      "test perf 0.0260535\n",
      "p 0.9\n",
      "test perf 0.028936\n"
     ]
    }
   ],
   "source": [
    "# train with noise\n",
    "for p in np.linspace(0.1, 0.9, 10):\n",
    "    for j in range(500):\n",
    "        x = images_train.get_batch_episodes()\n",
    "        x_noised = np.copy(x)\n",
    "        for_removal = np.random.random(EP_LEN) < p\n",
    "        for_removal[0:15] = False\n",
    "        x_noised[:, for_removal] = 0\n",
    "        pred_ae.train_on_batch(x_noised[:,0:-SERIES_SHIFT,...], x[:,SERIES_SHIFT:,...])\n",
    "\n",
    "        \n",
    "    validate(p)"
   ]
  },
  {
   "cell_type": "code",
   "execution_count": 45,
   "metadata": {
    "collapsed": true
   },
   "outputs": [],
   "source": [
    "x = images_valid.get_batch_episodes()\n",
    "x_noised = np.copy(x)\n",
    "for_removal = np.random.random(EP_LEN) < 0.0\n",
    "for_removal[0:15] = False\n",
    "x_noised[:, for_removal] = 0\n",
    "pred_ae.test_on_batch(x_noised[:,0:-SERIES_SHIFT,...], x[:,SERIES_SHIFT:,...])\n",
    "y = pred_ae.predict(x_noised[:,0:-SERIES_SHIFT,...])\n",
    "i = SERIES_SHIFT"
   ]
  },
  {
   "cell_type": "code",
   "execution_count": 46,
   "metadata": {
    "collapsed": false
   },
   "outputs": [
    {
     "name": "stderr",
     "output_type": "stream",
     "text": [
      "/home/ira/code/envs/flexi/lib/python3.5/site-packages/imageio/core/util.py:78: UserWarning: Lossy conversion from float64 to uint8, range [0, 1]\n",
      "  dtype_str, out_type.__name__))\n"
     ]
    }
   ],
   "source": [
    "# gif generation\n",
    "import imageio\n",
    "images = []\n",
    "for i in range(EP_LEN-SERIES_SHIFT):\n",
    "    im_true = x[0,i+SERIES_SHIFT,:,:,0]\n",
    "    im_noised = x_noised[0,i+SERIES_SHIFT,:,:,0]\n",
    "    im_gen = y[0,i,:,:,0]\n",
    "    im_diff = np.abs(im_true - im_gen)\n",
    "    glued = np.concatenate([im_true,\n",
    "                            im_gen,\n",
    "                            im_noised,\n",
    "                            im_diff],\n",
    "                           axis=1)\n",
    "# plt.imshow(glued, cmap='gray')\n",
    "    images.append(glued)\n",
    "imageio.mimsave('movie.gif', images)"
   ]
  },
  {
   "cell_type": "code",
   "execution_count": null,
   "metadata": {
    "collapsed": false
   },
   "outputs": [
    {
     "name": "stderr",
     "output_type": "stream",
     "text": [
      " 28%|██▊       | 554/2000 [01:44<04:40,  5.16it/s]"
     ]
    }
   ],
   "source": [
    "p = 0.999\n",
    "for j in tqdm.tqdm(range(2000)):\n",
    "    x = images_train.get_n_random_episodes(32)\n",
    "    x_noised = np.copy(x)\n",
    "    for_removal = np.random.random(EP_LEN) < p\n",
    "    for_removal[0:15] = False\n",
    "    x_noised[:, for_removal] = 0\n",
    "    pred_ae.train_on_batch(x_noised[:,0:-SERIES_SHIFT,...], x[:,SERIES_SHIFT:,...])\n",
    "\n",
    "\n",
    "x = images_valid.get_n_random_episodes(32)\n",
    "x_noised = np.copy(x)\n",
    "for_removal = np.random.random(EP_LEN) < p\n",
    "for_removal[0:15] = False\n",
    "x_noised[:, for_removal] = 0\n",
    "test_perf = pred_ae.test_on_batch(x_noised[:,0:-SERIES_SHIFT,...], x[:,SERIES_SHIFT:,...])\n",
    "print('p', p)\n",
    "print('test perf', test_perf)"
   ]
  },
  {
   "cell_type": "code",
   "execution_count": null,
   "metadata": {
    "collapsed": true
   },
   "outputs": [],
   "source": []
  }
 ],
 "metadata": {
  "kernelspec": {
   "display_name": "Python 3",
   "language": "python",
   "name": "python3"
  },
  "language_info": {
   "codemirror_mode": {
    "name": "ipython",
    "version": 3
   },
   "file_extension": ".py",
   "mimetype": "text/x-python",
   "name": "python",
   "nbconvert_exporter": "python",
   "pygments_lexer": "ipython3",
   "version": "3.5.2"
  }
 },
 "nbformat": 4,
 "nbformat_minor": 2
}
