{
 "cells": [
  {
   "cell_type": "code",
   "execution_count": 9,
   "metadata": {
    "ExecuteTime": {
     "end_time": "2017-12-06T09:31:13.554748Z",
     "start_time": "2017-12-06T09:31:13.536450Z"
    },
    "collapsed": false
   },
   "outputs": [
    {
     "name": "stdout",
     "output_type": "stream",
     "text": [
      "/home/ira/code/projects/nn-play\n"
     ]
    }
   ],
   "source": [
    "%cd ~/code/projects/nn-play/\n",
    "\n",
    "import torch\n",
    "import torch.nn as nn\n",
    "import torch.optim as optim\n",
    "from torch.autograd import Variable\n",
    "import torchvision.utils as vutils\n",
    "import os\n",
    "from tqdm import tqdm, trange\n",
    "\n",
    "import matplotlib.pyplot as plt\n",
    "%matplotlib inline\n",
    "\n",
    "from structured_container import DataContainer\n",
    "from torch_nets import *\n",
    "import my_utils"
   ]
  },
  {
   "cell_type": "code",
   "execution_count": 10,
   "metadata": {
    "ExecuteTime": {
     "end_time": "2017-12-06T09:31:14.379714Z",
     "start_time": "2017-12-06T09:31:14.374636Z"
    },
    "collapsed": true
   },
   "outputs": [],
   "source": [
    "BATCH_SIZE = 4\n",
    "EP_LEN = 120\n",
    "V_SIZE = 256\n",
    "GUARANTEED_PERCEPTS = 6\n",
    "UNCERTAIN_PERCEPTS = 4\n",
    "EPOCHS = 225\n",
    "UPDATES_PER_EPOCH = 1000\n",
    "OUTPUT_FOLDER = \"/home/ira/code/projects/nn-play/experiments/1b_pass_det/\""
   ]
  },
  {
   "cell_type": "code",
   "execution_count": 11,
   "metadata": {
    "ExecuteTime": {
     "end_time": "2017-12-06T09:31:17.527223Z",
     "start_time": "2017-12-06T09:31:15.144870Z"
    },
    "collapsed": false
   },
   "outputs": [
    {
     "name": "stdout",
     "output_type": "stream",
     "text": [
      "Loading /home/ira/code/projects/nn-play/experiments/0__well_done/17-11-30_09:05-wp_1b_1l_small_deter/data/test.pt\n"
     ]
    }
   ],
   "source": [
    "data_test = DataContainer('/home/ira/code/projects/nn-play/experiments/0__well_done/17-11-30_09:05-wp_1b_1l_small_deter/data/test.pt', batch_size=BATCH_SIZE, ep_len_read=EP_LEN)\n",
    "data_test.populate_images()"
   ]
  },
  {
   "cell_type": "code",
   "execution_count": 12,
   "metadata": {
    "ExecuteTime": {
     "end_time": "2017-12-06T09:31:18.248990Z",
     "start_time": "2017-12-06T09:31:18.242484Z"
    },
    "collapsed": true
   },
   "outputs": [],
   "source": [
    "def mask_percepts(images, p, return_indices=False):\n",
    "    images_masked = np.copy(images)\n",
    "    if p < 1.0:\n",
    "        for_removal = np.random.random(EP_LEN) < p\n",
    "    else:\n",
    "        for_removal = np.ones(EP_LEN) > 0\n",
    "\n",
    "    if UNCERTAIN_PERCEPTS > 0:\n",
    "        clear_percepts = GUARANTEED_PERCEPTS + np.random.randint(0, UNCERTAIN_PERCEPTS)\n",
    "    else:\n",
    "        clear_percepts = GUARANTEED_PERCEPTS\n",
    "    for_removal[0:clear_percepts] = False\n",
    "    images_masked[:, for_removal, ...] = 0\n",
    "\n",
    "    if return_indices:\n",
    "        return images_masked, for_removal\n",
    "    else:\n",
    "        return images_masked"
   ]
  },
  {
   "cell_type": "code",
   "execution_count": 13,
   "metadata": {
    "ExecuteTime": {
     "end_time": "2017-12-06T09:31:19.144265Z",
     "start_time": "2017-12-06T09:31:19.125041Z"
    },
    "collapsed": false
   },
   "outputs": [],
   "source": [
    "net = PredictiveAutoencoder(v_size=V_SIZE)\n",
    "net.load_state_dict(torch.load(\"%s/autencoder_epoch_4.pth\" % OUTPUT_FOLDER))"
   ]
  },
  {
   "cell_type": "code",
   "execution_count": 14,
   "metadata": {
    "ExecuteTime": {
     "end_time": "2017-12-06T09:31:19.860673Z",
     "start_time": "2017-12-06T09:31:19.854143Z"
    },
    "collapsed": true
   },
   "outputs": [],
   "source": [
    "criterion = nn.MSELoss()\n",
    "x = torch.FloatTensor(EP_LEN, BATCH_SIZE, IM_CHANNELS, IM_WIDTH, IM_WIDTH)\n",
    "y = torch.FloatTensor(EP_LEN, BATCH_SIZE, IM_CHANNELS, IM_WIDTH, IM_WIDTH)\n",
    "\n",
    "net = net.cuda()\n",
    "criterion = criterion.cuda()"
   ]
  },
  {
   "cell_type": "code",
   "execution_count": 15,
   "metadata": {
    "ExecuteTime": {
     "end_time": "2017-12-06T09:31:21.574044Z",
     "start_time": "2017-12-06T09:31:20.904207Z"
    },
    "collapsed": false
   },
   "outputs": [],
   "source": [
    "x = data_test.images\n",
    "# x = mask_percepts(x, p=10.99)\n",
    "x = x.transpose((1, 0, 4, 2, 3))\n",
    "x = torch.FloatTensor(x)\n",
    "x = x.cuda()\n",
    "x = Variable(x)"
   ]
  },
  {
   "cell_type": "code",
   "execution_count": 16,
   "metadata": {
    "ExecuteTime": {
     "end_time": "2017-12-06T09:31:24.023649Z",
     "start_time": "2017-12-06T09:31:24.017983Z"
    },
    "collapsed": false
   },
   "outputs": [],
   "source": [
    "# recon_ims = recon.data.cpu().numpy()\n",
    "# target_ims = x.data.cpu().numpy()\n",
    "# joint = np.concatenate((target_ims, recon_ims), axis=-2)\n",
    "# my_utils.batch_to_sequence(joint, fpath='%s/massive.gif' % (OUTPUT_FOLDER))"
   ]
  },
  {
   "cell_type": "code",
   "execution_count": 17,
   "metadata": {
    "ExecuteTime": {
     "end_time": "2017-12-06T09:31:28.139643Z",
     "start_time": "2017-12-06T09:31:25.258006Z"
    },
    "collapsed": false
   },
   "outputs": [],
   "source": [
    "x = data_test.images[:100, ...]\n",
    "# x = mask_percepts(x, p=0.99)\n",
    "x = x.transpose((1, 0, 4, 2, 3))\n",
    "x = torch.FloatTensor(x)\n",
    "x = x.cuda()\n",
    "x = Variable(x)\n",
    "crisp_states = net.bs_prop(x).data.cpu().numpy()"
   ]
  },
  {
   "cell_type": "code",
   "execution_count": 18,
   "metadata": {
    "ExecuteTime": {
     "end_time": "2017-12-06T09:31:29.609218Z",
     "start_time": "2017-12-06T09:31:28.825268Z"
    },
    "collapsed": false
   },
   "outputs": [],
   "source": [
    "x = data_test.images\n",
    "x = mask_percepts(x, p=0.99)\n",
    "x = x.transpose((1, 0, 4, 2, 3))\n",
    "x = torch.FloatTensor(x)\n",
    "x = x.cuda()\n",
    "x = Variable(x)\n",
    "belief_states = net.bs_prop(x).data.cpu().numpy()"
   ]
  },
  {
   "cell_type": "code",
   "execution_count": 19,
   "metadata": {
    "ExecuteTime": {
     "end_time": "2017-12-06T09:31:31.299109Z",
     "start_time": "2017-12-06T09:31:31.292624Z"
    },
    "collapsed": false
   },
   "outputs": [
    {
     "data": {
      "text/plain": [
       "torch.Size([120, 200, 1, 28, 28])"
      ]
     },
     "execution_count": 19,
     "metadata": {},
     "output_type": "execute_result"
    }
   ],
   "source": [
    "x.size()"
   ]
  },
  {
   "cell_type": "code",
   "execution_count": 20,
   "metadata": {
    "ExecuteTime": {
     "end_time": "2017-12-06T09:31:36.408139Z",
     "start_time": "2017-12-06T09:31:36.130724Z"
    },
    "collapsed": false
   },
   "outputs": [
    {
     "data": {
      "text/plain": [
       "(array([ 780153.,  275019.,  206805.,  186477.,  189396.,  182173.,\n",
       "         184536.,  198584.,  247138.,  621719.]),\n",
       " array([-1. , -0.8, -0.6, -0.4, -0.2,  0. ,  0.2,  0.4,  0.6,  0.8,  1. ]),\n",
       " <a list of 10 Patch objects>)"
      ]
     },
     "execution_count": 20,
     "metadata": {},
     "output_type": "execute_result"
    },
    {
     "data": {
      "image/png": "[encoded data removed]",
      "text/plain": [
       "<matplotlib.figure.Figure at 0x7fcd35c5fd68>"
      ]
     },
     "metadata": {},
     "output_type": "display_data"
    }
   ],
   "source": [
    "plt.hist(crisp_states[:,:,:].flatten())"
   ]
  },
  {
   "cell_type": "code",
   "execution_count": 27,
   "metadata": {
    "ExecuteTime": {
     "end_time": "2017-12-06T09:35:26.908661Z",
     "start_time": "2017-12-06T09:35:26.791683Z"
    },
    "collapsed": false
   },
   "outputs": [
    {
     "data": {
      "text/plain": [
       "(array([  122.,   168.,   565.,  1132.,  1670.,  1223.,  1394.,  1726.,\n",
       "         2018.,  1982.]),\n",
       " array([-0.84040809, -0.65727358, -0.47413908, -0.29100458, -0.10787008,\n",
       "         0.07526442,  0.25839893,  0.44153343,  0.62466793,  0.80780243,\n",
       "         0.99093693]),\n",
       " <a list of 10 Patch objects>)"
      ]
     },
     "execution_count": 27,
     "metadata": {},
     "output_type": "execute_result"
    },
    {
     "data": {
      "image/png": "[encoded data removed]",
      "text/plain": [
       "<matplotlib.figure.Figure at 0x7fcd00256a58>"
      ]
     },
     "metadata": {},
     "output_type": "display_data"
    }
   ],
   "source": [
    "plt.hist(crisp_states[:,:,15].flatten())"
   ]
  },
  {
   "cell_type": "code",
   "execution_count": 28,
   "metadata": {
    "ExecuteTime": {
     "end_time": "2017-12-06T09:35:31.175194Z",
     "start_time": "2017-12-06T09:35:31.057938Z"
    },
    "collapsed": false,
    "scrolled": true
   },
   "outputs": [
    {
     "data": {
      "text/plain": [
       "(array([ 1324.,  1815.,  2583.,  2386.,  3271.,  3629.,  3349.,  2538.,\n",
       "         2029.,  1076.]),\n",
       " array([-0.94122034, -0.75554274, -0.56986513, -0.38418753, -0.19850992,\n",
       "        -0.01283231,  0.17284529,  0.3585229 ,  0.5442005 ,  0.72987811,\n",
       "         0.91555572]),\n",
       " <a list of 10 Patch objects>)"
      ]
     },
     "execution_count": 28,
     "metadata": {},
     "output_type": "execute_result"
    },
    {
     "data": {
      "image/png": "[encoded data removed]",
      "text/plain": [
       "<matplotlib.figure.Figure at 0x7fcd017f6cf8>"
      ]
     },
     "metadata": {},
     "output_type": "display_data"
    }
   ],
   "source": [
    "plt.hist(belief_states[:,:,15].flatten())"
   ]
  },
  {
   "cell_type": "code",
   "execution_count": 29,
   "metadata": {
    "ExecuteTime": {
     "end_time": "2017-12-06T09:35:42.053433Z",
     "start_time": "2017-12-06T09:35:41.877239Z"
    },
    "collapsed": false
   },
   "outputs": [
    {
     "data": {
      "text/plain": [
       "(array([ 578645.,  439509.,  515248.,  638343.,  876877.,  865235.,\n",
       "         649697.,  526965.,  477301.,  576180.]),\n",
       " array([-1. , -0.8, -0.6, -0.4, -0.2,  0. ,  0.2,  0.4,  0.6,  0.8,  1. ]),\n",
       " <a list of 10 Patch objects>)"
      ]
     },
     "execution_count": 29,
     "metadata": {},
     "output_type": "execute_result"
    },
    {
     "data": {
      "image/png": "[encoded data removed]",
      "text/plain": [
       "<matplotlib.figure.Figure at 0x7fcd01635f98>"
      ]
     },
     "metadata": {},
     "output_type": "display_data"
    }
   ],
   "source": [
    "plt.hist(belief_states[:,:,:].flatten())"
   ]
  },
  {
   "cell_type": "code",
   "execution_count": null,
   "metadata": {
    "collapsed": true
   },
   "outputs": [],
   "source": []
  }
 ],
 "metadata": {
  "kernelspec": {
   "display_name": "Python 3",
   "language": "python",
   "name": "python3"
  },
  "latex_envs": {
   "LaTeX_envs_menu_present": true,
   "autocomplete": true,
   "bibliofile": "biblio.bib",
   "cite_by": "apalike",
   "current_citInitial": 1,
   "eqLabelWithNumbers": true,
   "eqNumInitial": 1,
   "hotkeys": {
    "equation": "Ctrl-E",
    "itemize": "Ctrl-I"
   },
   "labels_anchors": false,
   "latex_user_defs": false,
   "report_style_numbering": false,
   "user_envs_cfg": false
  },
  "toc": {
   "nav_menu": {},
   "number_sections": true,
   "sideBar": true,
   "skip_h1_title": true,
   "toc_cell": false,
   "toc_position": {},
   "toc_section_display": "block",
   "toc_window_display": false
  },
  "varInspector": {
   "cols": {
    "lenName": 16,
    "lenType": 16,
    "lenVar": 40
   },
   "kernels_config": {
    "python": {
     "delete_cmd_postfix": "",
     "delete_cmd_prefix": "del ",
     "library": "var_list.py",
     "varRefreshCmd": "print(var_dic_list())"
    },
    "r": {
     "delete_cmd_postfix": ") ",
     "delete_cmd_prefix": "rm(",
     "library": "var_list.r",
     "varRefreshCmd": "cat(var_dic_list()) "
    }
   },
   "types_to_exclude": [
    "module",
    "function",
    "builtin_function_or_method",
    "instance",
    "_Feature"
   ],
   "window_display": false
  }
 },
 "nbformat": 4,
 "nbformat_minor": 2
}
